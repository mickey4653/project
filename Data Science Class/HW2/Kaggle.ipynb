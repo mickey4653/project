{
 "cells": [
  {
   "cell_type": "markdown",
   "id": "ce948323",
   "metadata": {
    "id": "naF7uXVoy3bx",
    "papermill": {
     "duration": 0.008963,
     "end_time": "2022-10-24T20:26:49.858475",
     "exception": false,
     "start_time": "2022-10-24T20:26:49.849512",
     "status": "completed"
    },
    "tags": []
   },
   "source": [
    "Load Data"
   ]
  },
  {
   "cell_type": "code",
   "execution_count": 7,
   "id": "308302d7",
   "metadata": {
    "execution": {
     "iopub.execute_input": "2022-10-24T20:26:49.875794Z",
     "iopub.status.busy": "2022-10-24T20:26:49.875287Z",
     "iopub.status.idle": "2022-10-24T20:26:51.122585Z",
     "shell.execute_reply": "2022-10-24T20:26:51.121380Z"
    },
    "id": "ktlJO3tY0P3K",
    "papermill": {
     "duration": 1.259317,
     "end_time": "2022-10-24T20:26:51.125576",
     "exception": false,
     "start_time": "2022-10-24T20:26:49.866259",
     "status": "completed"
    },
    "tags": []
   },
   "outputs": [],
   "source": [
    "import pandas as pd\n",
    "import numpy as np\n",
    "import matplotlib.pyplot as plt\n",
    "from sklearn import preprocessing\n",
    "import seaborn as sns"
   ]
  },
  {
   "cell_type": "code",
   "execution_count": 8,
   "id": "1fe7a321",
   "metadata": {
    "execution": {
     "iopub.execute_input": "2022-10-24T20:26:51.143259Z",
     "iopub.status.busy": "2022-10-24T20:26:51.142366Z",
     "iopub.status.idle": "2022-10-24T20:26:51.197111Z",
     "shell.execute_reply": "2022-10-24T20:26:51.195922Z"
    },
    "id": "wcrUFlmNzKKl",
    "outputId": "9407da2d-d7bb-47f9-c75f-6e04f992f358",
    "papermill": {
     "duration": 0.067098,
     "end_time": "2022-10-24T20:26:51.200469",
     "exception": false,
     "start_time": "2022-10-24T20:26:51.133371",
     "status": "completed"
    },
    "tags": []
   },
   "outputs": [
    {
     "name": "stdout",
     "output_type": "stream",
     "text": [
      "train\n",
      "   id    zip state         county  poverty  price2007  price2013\n",
      "0   0  10467    NY          bronx     27.1     335200     294000\n",
      "1   1  11226    NY          kings     21.9     471500     471600\n",
      "2   2  60640    IL           cook     14.6     254600     174200\n",
      "3   3  94109    CA  san francisco     10.6     707100     822600\n",
      "4   4  11375    NY         queens     12.2     636400     681500\n",
      "test\n",
      "   id    zip state      county  poverty  price2007\n",
      "0   6  32162    FL      marion     13.0     265600\n",
      "1  13  78572    TX     hidalgo     34.0      79900\n",
      "2  20  11212    NY       kings     21.9     332000\n",
      "3  30  37042    TN  montgomery     12.7      98700\n",
      "4  37  85032    AZ    maricopa     12.9     266100\n"
     ]
    }
   ],
   "source": [
    "df=pd.read_csv('./house_train.csv')\n",
    "test=pd.read_csv('./house_test.csv')\n",
    "print('train')\n",
    "print(df.head())\n",
    "print('test')\n",
    "print(test.head())\n"
   ]
  },
  {
   "cell_type": "code",
   "execution_count": 9,
   "id": "51dc5f57",
   "metadata": {
    "execution": {
     "iopub.execute_input": "2022-10-24T20:26:51.233694Z",
     "iopub.status.busy": "2022-10-24T20:26:51.233312Z",
     "iopub.status.idle": "2022-10-24T20:26:51.257781Z",
     "shell.execute_reply": "2022-10-24T20:26:51.256688Z"
    },
    "id": "WdZhr-NmfehW",
    "outputId": "c4d71509-51cc-4137-d354-dc1e147ef7b4",
    "papermill": {
     "duration": 0.036315,
     "end_time": "2022-10-24T20:26:51.260367",
     "exception": false,
     "start_time": "2022-10-24T20:26:51.224052",
     "status": "completed"
    },
    "tags": []
   },
   "outputs": [
    {
     "data": {
      "text/html": [
       "<div>\n",
       "<style scoped>\n",
       "    .dataframe tbody tr th:only-of-type {\n",
       "        vertical-align: middle;\n",
       "    }\n",
       "\n",
       "    .dataframe tbody tr th {\n",
       "        vertical-align: top;\n",
       "    }\n",
       "\n",
       "    .dataframe thead th {\n",
       "        text-align: right;\n",
       "    }\n",
       "</style>\n",
       "<table border=\"1\" class=\"dataframe\">\n",
       "  <thead>\n",
       "    <tr style=\"text-align: right;\">\n",
       "      <th></th>\n",
       "      <th>id</th>\n",
       "      <th>zip</th>\n",
       "      <th>state</th>\n",
       "      <th>county</th>\n",
       "      <th>poverty</th>\n",
       "      <th>price2007</th>\n",
       "      <th>price2013</th>\n",
       "    </tr>\n",
       "  </thead>\n",
       "  <tbody>\n",
       "    <tr>\n",
       "      <th>0</th>\n",
       "      <td>0</td>\n",
       "      <td>10467</td>\n",
       "      <td>NY</td>\n",
       "      <td>bronx</td>\n",
       "      <td>27.1</td>\n",
       "      <td>335200</td>\n",
       "      <td>294000</td>\n",
       "    </tr>\n",
       "    <tr>\n",
       "      <th>1</th>\n",
       "      <td>1</td>\n",
       "      <td>11226</td>\n",
       "      <td>NY</td>\n",
       "      <td>kings</td>\n",
       "      <td>21.9</td>\n",
       "      <td>471500</td>\n",
       "      <td>471600</td>\n",
       "    </tr>\n",
       "    <tr>\n",
       "      <th>2</th>\n",
       "      <td>2</td>\n",
       "      <td>60640</td>\n",
       "      <td>IL</td>\n",
       "      <td>cook</td>\n",
       "      <td>14.6</td>\n",
       "      <td>254600</td>\n",
       "      <td>174200</td>\n",
       "    </tr>\n",
       "    <tr>\n",
       "      <th>3</th>\n",
       "      <td>3</td>\n",
       "      <td>94109</td>\n",
       "      <td>CA</td>\n",
       "      <td>san francisco</td>\n",
       "      <td>10.6</td>\n",
       "      <td>707100</td>\n",
       "      <td>822600</td>\n",
       "    </tr>\n",
       "    <tr>\n",
       "      <th>4</th>\n",
       "      <td>4</td>\n",
       "      <td>11375</td>\n",
       "      <td>NY</td>\n",
       "      <td>queens</td>\n",
       "      <td>12.2</td>\n",
       "      <td>636400</td>\n",
       "      <td>681500</td>\n",
       "    </tr>\n",
       "  </tbody>\n",
       "</table>\n",
       "</div>"
      ],
      "text/plain": [
       "   id    zip state         county  poverty  price2007  price2013\n",
       "0   0  10467    NY          bronx     27.1     335200     294000\n",
       "1   1  11226    NY          kings     21.9     471500     471600\n",
       "2   2  60640    IL           cook     14.6     254600     174200\n",
       "3   3  94109    CA  san francisco     10.6     707100     822600\n",
       "4   4  11375    NY         queens     12.2     636400     681500"
      ]
     },
     "execution_count": 9,
     "metadata": {},
     "output_type": "execute_result"
    }
   ],
   "source": [
    "# df=df.drop(  'price2013', axis='columns' )\n",
    "df.head()"
   ]
  },
  {
   "cell_type": "code",
   "execution_count": 10,
   "id": "72289b24",
   "metadata": {
    "execution": {
     "iopub.execute_input": "2022-10-24T20:26:51.279433Z",
     "iopub.status.busy": "2022-10-24T20:26:51.279070Z",
     "iopub.status.idle": "2022-10-24T20:26:51.304444Z",
     "shell.execute_reply": "2022-10-24T20:26:51.303152Z"
    },
    "id": "JZVMqBve0aYl",
    "outputId": "cda12333-5bc2-44db-c0b0-626ec1edef48",
    "papermill": {
     "duration": 0.039291,
     "end_time": "2022-10-24T20:26:51.307545",
     "exception": false,
     "start_time": "2022-10-24T20:26:51.268254",
     "status": "completed"
    },
    "tags": []
   },
   "outputs": [
    {
     "name": "stdout",
     "output_type": "stream",
     "text": [
      "                 id           zip      poverty     price2007     price2013\n",
      "count   8973.000000   8973.000000  8973.000000  8.973000e+03  8.973000e+03\n",
      "mean    5016.424830  45752.551098    11.438504  2.880939e+05  2.424867e+05\n",
      "std     2900.023449  31306.650907     4.520784  2.276980e+05  2.176485e+05\n",
      "min        0.000000   1001.000000    -1.000000  3.400000e+04  3.520000e+04\n",
      "25%     2505.000000  19026.000000     8.400000  1.397000e+05  1.223000e+05\n",
      "50%     5023.000000  37324.000000    11.100000  2.230000e+05  1.788000e+05\n",
      "75%     7528.000000  76085.000000    14.500000  3.627000e+05  2.848000e+05\n",
      "max    10035.000000  99709.000000    34.000000  3.467800e+06  4.709500e+06\n"
     ]
    }
   ],
   "source": [
    "print(df.describe())"
   ]
  },
  {
   "cell_type": "markdown",
   "id": "7c7489a5",
   "metadata": {
    "papermill": {
     "duration": 0.007702,
     "end_time": "2022-10-24T20:26:51.324145",
     "exception": false,
     "start_time": "2022-10-24T20:26:51.316443",
     "status": "completed"
    },
    "tags": []
   },
   "source": [
    "for functions\n"
   ]
  },
  {
   "cell_type": "code",
   "execution_count": 11,
   "id": "294f58ce",
   "metadata": {
    "execution": {
     "iopub.execute_input": "2022-10-24T20:26:51.342582Z",
     "iopub.status.busy": "2022-10-24T20:26:51.341524Z",
     "iopub.status.idle": "2022-10-24T20:26:51.349235Z",
     "shell.execute_reply": "2022-10-24T20:26:51.348414Z"
    },
    "papermill": {
     "duration": 0.019079,
     "end_time": "2022-10-24T20:26:51.351396",
     "exception": false,
     "start_time": "2022-10-24T20:26:51.332317",
     "status": "completed"
    },
    "tags": []
   },
   "outputs": [],
   "source": [
    "\n",
    "def map_state(x):\n",
    "    # if state in top 5 most count, label it else others =6\n",
    "  if x in state_map:\n",
    "    return state_map[x]\n",
    "  else:\n",
    "    return 11\n",
    "def map_county(x):\n",
    "     # if state in top 15 most count, label it else others =16\n",
    "  if x in county_map:\n",
    "    return county_map[x]\n",
    "  else:\n",
    "    return 16 \n",
    "def get_top_n_count(target,n):\n",
    "    return list(df.groupby(target).count()['id'].nlargest(n).reset_index()[target])\n",
    "def standardize(data,target):\n",
    "  minmax = preprocessing.MinMaxScaler()\n",
    "  return minmax.fit_transform(   data[ [target] ] )"
   ]
  },
  {
   "cell_type": "markdown",
   "id": "aec4b8e2",
   "metadata": {
    "papermill": {
     "duration": 0.007584,
     "end_time": "2022-10-24T20:26:51.366955",
     "exception": false,
     "start_time": "2022-10-24T20:26:51.359371",
     "status": "completed"
    },
    "tags": []
   },
   "source": [
    "get top n count based on the frequency."
   ]
  },
  {
   "cell_type": "markdown",
   "id": "ae924a9f",
   "metadata": {
    "papermill": {
     "duration": 0.007531,
     "end_time": "2022-10-24T20:26:51.382537",
     "exception": false,
     "start_time": "2022-10-24T20:26:51.375006",
     "status": "completed"
    },
    "tags": []
   },
   "source": [
    "I tried to only encode the top n by frequency, but the result is better when I include all the states and counties.\n",
    "Other than that, I included a 'other' label data in testing data that doesn't appeared in training set. "
   ]
  },
  {
   "cell_type": "code",
   "execution_count": 12,
   "id": "fc497c42",
   "metadata": {
    "execution": {
     "iopub.execute_input": "2022-10-24T20:26:51.401914Z",
     "iopub.status.busy": "2022-10-24T20:26:51.401476Z",
     "iopub.status.idle": "2022-10-24T20:26:51.417654Z",
     "shell.execute_reply": "2022-10-24T20:26:51.416755Z"
    },
    "id": "MPxzz192kymk",
    "papermill": {
     "duration": 0.029517,
     "end_time": "2022-10-24T20:26:51.420039",
     "exception": false,
     "start_time": "2022-10-24T20:26:51.390522",
     "status": "completed"
    },
    "tags": []
   },
   "outputs": [],
   "source": [
    "top_states=get_top_n_count('state',50)\n",
    "top_county=get_top_n_count('county',700)\n",
    "\n",
    "# print(top_states)\n",
    "# print(top_county)"
   ]
  },
  {
   "cell_type": "code",
   "execution_count": 13,
   "id": "e1578c0e",
   "metadata": {
    "execution": {
     "iopub.execute_input": "2022-10-24T20:26:51.438804Z",
     "iopub.status.busy": "2022-10-24T20:26:51.437669Z",
     "iopub.status.idle": "2022-10-24T20:26:51.446022Z",
     "shell.execute_reply": "2022-10-24T20:26:51.445003Z"
    },
    "id": "a7SIQVt0RcGp",
    "outputId": "74249c3a-c0da-45d9-e2f7-a35342277f0d",
    "papermill": {
     "duration": 0.020323,
     "end_time": "2022-10-24T20:26:51.448564",
     "exception": false,
     "start_time": "2022-10-24T20:26:51.428241",
     "status": "completed"
    },
    "tags": []
   },
   "outputs": [
    {
     "name": "stdout",
     "output_type": "stream",
     "text": [
      "{'CA': 0, 'FL': 1, 'NY': 2, 'PA': 3, 'OH': 4, 'NJ': 5, 'MA': 6, 'IL': 7, 'NC': 8, 'TX': 9, 'MD': 10, 'MI': 11, 'WA': 12, 'TN': 13, 'CO': 14, 'GA': 15, 'CT': 16, 'VA': 17, 'AZ': 18, 'WI': 19, 'OR': 20, 'MN': 21, 'MO': 22, 'SC': 23, 'OK': 24, 'AL': 25, 'NH': 26, 'IA': 27, 'UT': 28, 'AR': 29, 'NV': 30, 'KY': 31, 'RI': 32, 'IN': 33, 'HI': 34, 'NE': 35, 'DE': 36, 'NM': 37, 'MT': 38, 'AK': 39, 'DC': 40, 'WV': 41, 'LA': 42, 'KS': 43, 'WY': 44, 'ND': 45, 'others': 50}\n",
      "{'los angeles': 0, 'orange': 1, 'montgomery': 2, 'middlesex': 3, 'suffolk': 4, 'washington': 5, 'maricopa': 6, 'jefferson': 7, 'san diego': 8, 'franklin': 9, 'monroe': 10, 'worcester': 11, 'king': 12, 'allegheny': 13, 'nassau': 14, 'jackson': 15, 'erie': 16, 'miami-dade': 17, 'cook': 18, 'oakland': 19, 'hillsborough': 20, 'westchester': 21, 'lake': 22, 'bergen': 23, 'clark': 24, 'marion': 25, 'hamilton': 26, 'polk': 27, 'hennepin': 28, 'fairfield': 29, 'kent': 30, 'riverside': 31, 'broward': 32, 'santa clara': 33, 'palm beach': 34, 'lancaster': 35, 'oklahoma': 36, 'saint louis': 37, 'dallas': 38, 'pierce': 39, 'san bernardino': 40, 'wayne': 41, 'monmouth': 42, 'morris': 43, 'york': 44, 'philadelphia': 45, 'essex': 46, 'cuyahoga': 47, 'alameda': 48, 'hartford': 49, 'shelby': 50, 'rockingham': 51, 'delaware': 52, 'sacramento': 53, 'fairfax': 54, 'bristol': 55, 'pima': 56, 'onondaga': 57, 'camden': 58, 'union': 59, 'douglas': 60, 'fulton': 61, 'new haven': 62, 'fresno': 63, 'queens': 64, 'el paso': 65, 'barnstable': 66, 'madison': 67, 'hampden': 68, 'du page': 69, 'berks': 70, 'tulsa': 71, 'pinellas': 72, 'litchfield': 73, 'macomb': 74, 'wake': 75, 'prince georges': 76, 'bucks': 77, 'norfolk': 78, 'duval': 79, 'cumberland': 80, 'providence': 81, 'carroll': 82, 'dane': 83, 'multnomah': 84, 'contra costa': 85, 'plymouth': 86, 'travis': 87, 'lee': 88, 'summit': 89, 'frederick': 90, 'saint clair': 91, 'mecklenburg': 92, 'will': 93, 'stark': 94, 'baltimore': 95, 'davidson': 96, 'anne arundel': 97, 'salt lake': 98, 'columbia': 99, 'warren': 100, 'greene': 101, 'ocean': 102, 'chester': 103, 'brevard': 104, 'spokane': 105, 'westmoreland': 106, 'denver': 107, 'fayette': 108, 'new london': 109, 'milwaukee': 110, 'somerset': 111, 'volusia': 112, 'dutchess': 113, 'adams': 114, 'san mateo': 115, 'albany': 116, 'winnebago': 117, 'ulster': 118, 'honolulu': 119, 'waukesha': 120, 'harris': 121, 'sullivan': 122, 'gloucester': 123, 'burlington': 124, 'clackamas': 125, 'placer': 126, 'sarasota': 127, 'rockland': 128, 'livingston': 129, 'passaic': 130, 'linn': 131, 'kane': 132, 'kern': 133, 'mercer': 134, 'luzerne': 135, 'lane': 136, 'pasco': 137, 'snohomish': 138, 'denton': 139, 'williamson': 140, 'ventura': 141, 'wood': 142, 'berkshire': 143, 'new castle': 144, 'district of columbia': 145, 'greenville': 146, 'dekalb': 147, 'johnson': 148, 'pulaski': 149, 'saratoga': 150, 'oneida': 151, 'trumbull': 152, 'san francisco': 153, 'lucas': 154, 'windham': 155, 'guilford': 156, 'baltimore city': 157, 'tulare': 158, 'sonoma': 159, 'scott': 160, 'utah': 161, 'washoe': 162, 'merrimack': 163, 'kings': 164, 'weld': 165, 'yavapai': 166, 'santa barbara': 167, 'ramsey': 168, 'mobile': 169, 'forsyth': 170, 'bernalillo': 171, 'peoria': 172, 'howard': 173, 'hunterdon': 174, 'lehigh': 175, 'harford': 176, 'champaign': 177, 'gwinnett': 178, 'san joaquin': 179, 'charleston': 180, 'butler': 181, 'marin': 182, 'richmond': 183, 'benton': 184, 'horry': 185, 'alachua': 186, 'stearns': 187, 'spartanburg': 188, 'bay': 189, 'lackawanna': 190, 'anderson': 191, 'arapahoe': 192, 'knox': 193, 'loudoun': 194, 'buncombe': 195, 'pinal': 196, 'tazewell': 197, 'dakota': 198, 'larimer': 199, 'schuylkill': 200, 'cobb': 201, 'clinton': 202, 'atlantic': 203, 'smith': 204, 'manatee': 205, 'chatham': 206, 'sussex': 207, 'hidalgo': 208, 'baldwin': 209, 'boulder': 210, 'ingham': 211, 'lorain': 212, 'san luis obispo': 213, 'saint lucie': 214, 'tolland': 215, 'monterey': 216, 'sheboygan': 217, 'mchenry': 218, 'clay': 219, 'seminole': 220, 'hampshire': 221, 'brazoria': 222, 'cheshire': 223, 'charlotte': 224, 'whatcom': 225, 'kitsap': 226, 'brown': 227, 'dauphin': 228, 'nueces': 229, 'washtenaw': 230, 'niagara': 231, 'osceola': 232, 'wright': 233, 'steuben': 234, 'yakima': 235, 'putnam': 236, 'tuscaloosa': 237, 'charles': 238, 'escambia': 239, 'anoka': 240, 'elkhart': 241, 'saginaw': 242, 'rutherford': 243, 'collier': 244, 'hawaii': 245, 'okaloosa': 246, 'anchorage': 247, 'potter': 248, 'santa cruz': 249, 'kalamazoo': 250, 'randolph': 251, 'mahoning': 252, 'saint marys': 253, 'missoula': 254, 'marshall': 255, 'centre': 256, 'portage': 257, 'collin': 258, 'beaver': 259, 'ashtabula': 260, 'pottawattamie': 261, 'lexington': 262, 'stanislaus': 263, 'racine': 264, 'marathon': 265, 'mesa': 266, 'pueblo': 267, 'cape may': 268, 'calvert': 269, 'ontario': 270, 'butte': 271, 'bronx': 272, 'hall': 273, 'sebastian': 274, 'davis': 275, 'saint charles': 276, 'henderson': 277, 'henrico': 278, 'de kalb': 279, 'allen': 280, 'prince william': 281, 'kenosha': 282, 'thurston': 283, 'cochise': 284, 'lincoln': 285, 'perry': 286, 'richmond city': 287, 'belknap': 288, 'campbell': 289, 'muskegon': 290, 'weber': 291, 'carver': 292, 'walton': 293, 'fond du lac': 294, 'saint croix': 295, 'boone': 296, 'hernando': 297, 'dodge': 298, 'el dorado': 299, 'rowan': 300, 'tuolumne': 301, 'medina': 302, 'chesterfield': 303, 'rock island': 304, 'beaufort': 305, 'clermont': 306, 'solano': 307, 'cleveland': 308, 'leon': 309, 'new hanover': 310, 'nevada': 311, 'pitt': 312, 'mohave': 313, 'onslow': 314, 'parker': 315, 'madera': 316, 'sarpy': 317, 'east baton rouge': 318, 'henry': 319, 'santa rosa': 320, 'genesee': 321, 'cherokee': 322, 'grays harbor': 323, 'cecil': 324, 'walworth': 325, 'caroline': 326, 'cabarrus': 327, 'wicomico': 328, 'gaston': 329, 'blount': 330, 'blair': 331, 'arlington': 332, 'johnston': 333, 'allegan': 334, 'richland': 335, 'kenton': 336, 'sangamon': 337, 'stanly': 338, 'delta': 339, 'queen annes': 340, 'skagit': 341, 'miami': 342, 'tippecanoe': 343, 'porter': 344, 'tipton': 345, 'tompkins': 346, 'moore': 347, 'eaton': 348, 'bibb': 349, 'berkeley': 350, 'wilson': 351, 'yamhill': 352, 'virginia beach city': 353, 'durham': 354, 'northampton': 355, 'roanoke city': 356, 'saint johns': 357, 'hanover': 358, 'schenectady': 359, 'harnett': 360, 'hays': 361, 'rogers': 362, 'saint louis city': 363, 'shasta': 364, 'fauquier': 365, 'kanawha': 366, 'pickens': 367, 'island': 368, 'napa': 369, 'guadalupe': 370, 'carbon': 371, 'brazos': 372, 'alamance': 373, 'nash': 374, 'auglaize': 375, 'yellowstone': 376, 'grayson': 377, 'imperial': 378, 'indian river': 379, 'houston': 380, 'shenandoah': 381, 'morgan': 382, 'spotsylvania': 383, 'florence': 384, 'mason': 385, 'martin': 386, 'culpeper': 387, 'sumner': 388, 'salem': 389, 'talbot': 390, 'coos': 391, 'maui': 392, 'coconino': 393, 'geauga': 394, 'manitowoc': 395, 'eagle': 396, 'oswego': 397, 'park': 398, 'yolo': 399, 'sherburne': 400, 'whitfield': 401, 'saline': 402, 'umatilla': 403, 'sumter': 404, 'yuma': 405, 'catawba': 406, 'eau claire': 407, 'kauai': 408, 'iredell': 409, 'cayuga': 410, 'highlands': 411, 'hampton city': 412, 'lewis': 413, 'chesapeake city': 414, 'gordon': 415, 'goodhue': 416, 'berrien': 417, 'maury': 418, 'faulkner': 419, 'ellis': 420, 'mecosta': 421, 'cortland': 422, 'kendall': 423, 'alexandria city': 424, 'dona ana': 425, 'cowlitz': 426, 'newport news city': 427, 'creek': 428, 'newport': 429, 'dickson': 430, 'dubuque': 431, 'granville': 432, 'deschutes': 433, 'hamblen': 434, 'cheatham': 435, 'haywood': 436, 'giles': 437, 'crawford': 438, 'carson city': 439, 'canadian': 440, 'dorchester': 441, 'coweta': 442, 'effingham': 443, 'teller': 444, 'sandusky': 445, 'garrett': 446, 'dougherty': 447, 'garland': 448, 'tarrant': 449, 'fort bend': 450, 'watauga': 451, 'floyd': 452, 'flagler': 453, 'dukes': 454, 'sevier': 455, 'shawnee': 456, 'siskiyou': 457, 'tillamook': 458, 'stevens': 459, 'aiken': 460, 'yadkin': 461, 'klamath': 462, 'bedford': 463, 'bartow': 464, 'bryan': 465, 'pottawatomie': 466, 'mclennan': 467, 'mcnairy': 468, 'payne': 469, 'barrow': 470, 'merced': 471, 'bradley': 472, 'allegany': 473, 'navajo': 474, 'albemarle': 475, 'la plata': 476, 'montrose': 477, 'matanuska susitna': 478, 'stokes': 479, 'lyon': 480, 'pine': 481, 'crockett': 482, 'garfield': 483, 'comanche': 484, 'santa fe': 485, 'yuba': 486, 'fremont': 487, 'pickaway': 488, 'saunders': 489, 'ascension': 490, 'mayes': 491, 'natrona': 492, 'fairbanks north star': 493, 'wise': 494, 'louisa': 495, 'woodford': 496, 'sutter': 497, 'amador': 498, 'yates': 499, 'caldwell': 500, 'gila': 501, 'coffee': 502, 'levy': 503, 'chaffee': 504, 'glynn': 505, 'cattaraugus': 506, 'humphreys': 507, 'currituck': 508, 'cass': 509, 'lawrence': 510, 'robertson': 511, 'isanti': 512, 'wakulla': 513, 'cascade': 514, 'weakley': 515, 'kay': 516, 'kenai peninsula': 517, 'kosciusko': 518, 'burke': 519, 'le sueur': 520, 'hawkins': 521, 'grant': 522, 'loudon': 523, 'clatsop': 524, 'lonoke': 525, 'clarke': 526, 'chisago': 527, 'saint lawrence': 528, 'chenango': 529, 'hardee': 530, 'portsmouth city': 531, 'fluvanna': 532, 'suwannee': 533, 'craven': 534, 'tooele': 535, 'walla walla': 536, 'baker': 537, 'taylor': 538, 'carter': 539, 'wyoming': 540, 'cannon': 541, 'bexar': 542, 'story': 543, 'tift': 544, 'broomfield': 545, 'nye': 546, 'rockdale': 547, 'san benito': 548, 'grundy': 549, 'rockwall': 550, 'inyo': 551, 'davie': 552, 'roanoke': 553, 'josephine': 554, 'laramie': 555, 'liberty': 556, 'pike': 557, 'peach': 558, 'paulding': 559, 'mendocino': 560, 'meriwether': 561, 'muscogee': 562, 'muskogee': 563, 'oldham': 564, 'oconee': 565, 'grady': 566, 'lenawee': 567, 'georgetown': 568, 'stafford': 569, 'newton': 570, 'seneca': 571, 'elbert': 572, 'dyer': 573, 'des moines': 574, 'gadsden': 575, 'san juan': 576, 'glenn': 577, 'decatur': 578, 'beckham': 579, 'brunswick': 580, 'pope': 581, 'broome': 582, 'lynchburg city': 583, 'bradford': 584, 'pitkin': 585, 'macon': 586, 'manassas park city': 587, 'de soto': 588, 'muskingum': 589, 'navarro': 590, 'barry': 591, 'edgecombe': 592, 'lenoir': 593, 'skamania': 594, 'montcalm': 595, 'ottawa': 596, 'augusta': 597, 'nantucket': 598, 'clear creek': 599, 'calaveras': 600, 'cleburne': 601, 'van zandt': 602, 'salem city': 603, 'citrus': 604, 'christian': 605, 'graham': 606, 'gunnison': 607, 'hendry': 608, 'chautauqua': 609, 'hickman': 610, 'upson': 611, 'hoke': 612, 'van buren': 613, 'catoosa': 614, 'kittitas': 615, 'colonial heights city': 616, 'san patricio': 617, 'galveston': 618, 'roane': 619, 'gallatin': 620, 'carteret': 621, 'kaufman': 622, 'rice': 623, 'rhea': 624, 'randall': 625, 'king george': 626, 'dade': 627, 'others': 628}\n"
     ]
    }
   ],
   "source": [
    "state_map={}\n",
    "for x in range(len(top_states)):\n",
    "  state_map[top_states[x] ]=x\n",
    "\n",
    "\n",
    "county_map={}\n",
    "for x in range(len(top_county)):\n",
    "  county_map[top_county[x] ]=x\n",
    "state_map['others']=50\n",
    "county_map['others']=628\n",
    "\n",
    "\n",
    "print(state_map)\n",
    "print(county_map)\n"
   ]
  },
  {
   "cell_type": "code",
   "execution_count": 14,
   "id": "4638793f",
   "metadata": {
    "execution": {
     "iopub.execute_input": "2022-10-24T20:26:51.467192Z",
     "iopub.status.busy": "2022-10-24T20:26:51.466216Z",
     "iopub.status.idle": "2022-10-24T20:26:51.480801Z",
     "shell.execute_reply": "2022-10-24T20:26:51.479969Z"
    },
    "papermill": {
     "duration": 0.026293,
     "end_time": "2022-10-24T20:26:51.483110",
     "exception": false,
     "start_time": "2022-10-24T20:26:51.456817",
     "status": "completed"
    },
    "tags": []
   },
   "outputs": [],
   "source": [
    "df['state_label']=df['state'].apply(map_state)\n",
    "df['county_label']=df['county'].apply(map_county)\n"
   ]
  },
  {
   "cell_type": "markdown",
   "id": "2fec5376",
   "metadata": {
    "papermill": {
     "duration": 0.007944,
     "end_time": "2022-10-24T20:26:51.499324",
     "exception": false,
     "start_time": "2022-10-24T20:26:51.491380",
     "status": "completed"
    },
    "tags": []
   },
   "source": [
    "Use label encoding for state and store in state_label."
   ]
  },
  {
   "cell_type": "code",
   "execution_count": 15,
   "id": "1461d326",
   "metadata": {
    "execution": {
     "iopub.execute_input": "2022-10-24T20:26:51.517744Z",
     "iopub.status.busy": "2022-10-24T20:26:51.517089Z",
     "iopub.status.idle": "2022-10-24T20:26:51.533441Z",
     "shell.execute_reply": "2022-10-24T20:26:51.532306Z"
    },
    "papermill": {
     "duration": 0.028172,
     "end_time": "2022-10-24T20:26:51.535928",
     "exception": false,
     "start_time": "2022-10-24T20:26:51.507756",
     "status": "completed"
    },
    "tags": []
   },
   "outputs": [
    {
     "data": {
      "text/html": [
       "<div>\n",
       "<style scoped>\n",
       "    .dataframe tbody tr th:only-of-type {\n",
       "        vertical-align: middle;\n",
       "    }\n",
       "\n",
       "    .dataframe tbody tr th {\n",
       "        vertical-align: top;\n",
       "    }\n",
       "\n",
       "    .dataframe thead th {\n",
       "        text-align: right;\n",
       "    }\n",
       "</style>\n",
       "<table border=\"1\" class=\"dataframe\">\n",
       "  <thead>\n",
       "    <tr style=\"text-align: right;\">\n",
       "      <th></th>\n",
       "      <th>id</th>\n",
       "      <th>zip</th>\n",
       "      <th>state</th>\n",
       "      <th>county</th>\n",
       "      <th>poverty</th>\n",
       "      <th>price2007</th>\n",
       "      <th>state_label</th>\n",
       "      <th>county_label</th>\n",
       "    </tr>\n",
       "  </thead>\n",
       "  <tbody>\n",
       "    <tr>\n",
       "      <th>0</th>\n",
       "      <td>6</td>\n",
       "      <td>32162</td>\n",
       "      <td>FL</td>\n",
       "      <td>marion</td>\n",
       "      <td>13.0</td>\n",
       "      <td>265600</td>\n",
       "      <td>1</td>\n",
       "      <td>25</td>\n",
       "    </tr>\n",
       "    <tr>\n",
       "      <th>1</th>\n",
       "      <td>13</td>\n",
       "      <td>78572</td>\n",
       "      <td>TX</td>\n",
       "      <td>hidalgo</td>\n",
       "      <td>34.0</td>\n",
       "      <td>79900</td>\n",
       "      <td>9</td>\n",
       "      <td>208</td>\n",
       "    </tr>\n",
       "    <tr>\n",
       "      <th>2</th>\n",
       "      <td>20</td>\n",
       "      <td>11212</td>\n",
       "      <td>NY</td>\n",
       "      <td>kings</td>\n",
       "      <td>21.9</td>\n",
       "      <td>332000</td>\n",
       "      <td>2</td>\n",
       "      <td>164</td>\n",
       "    </tr>\n",
       "    <tr>\n",
       "      <th>3</th>\n",
       "      <td>30</td>\n",
       "      <td>37042</td>\n",
       "      <td>TN</td>\n",
       "      <td>montgomery</td>\n",
       "      <td>12.7</td>\n",
       "      <td>98700</td>\n",
       "      <td>13</td>\n",
       "      <td>2</td>\n",
       "    </tr>\n",
       "    <tr>\n",
       "      <th>4</th>\n",
       "      <td>37</td>\n",
       "      <td>85032</td>\n",
       "      <td>AZ</td>\n",
       "      <td>maricopa</td>\n",
       "      <td>12.9</td>\n",
       "      <td>266100</td>\n",
       "      <td>18</td>\n",
       "      <td>6</td>\n",
       "    </tr>\n",
       "  </tbody>\n",
       "</table>\n",
       "</div>"
      ],
      "text/plain": [
       "   id    zip state      county  poverty  price2007  state_label  county_label\n",
       "0   6  32162    FL      marion     13.0     265600            1            25\n",
       "1  13  78572    TX     hidalgo     34.0      79900            9           208\n",
       "2  20  11212    NY       kings     21.9     332000            2           164\n",
       "3  30  37042    TN  montgomery     12.7      98700           13             2\n",
       "4  37  85032    AZ    maricopa     12.9     266100           18             6"
      ]
     },
     "execution_count": 15,
     "metadata": {},
     "output_type": "execute_result"
    }
   ],
   "source": [
    "test['state_label']=test['state'].apply(map_state)\n",
    "test['county_label']=test['county'].apply(map_county)\n",
    "test.head()"
   ]
  },
  {
   "cell_type": "markdown",
   "id": "dc1d820d",
   "metadata": {
    "papermill": {
     "duration": 0.00804,
     "end_time": "2022-10-24T20:26:51.552468",
     "exception": false,
     "start_time": "2022-10-24T20:26:51.544428",
     "status": "completed"
    },
    "tags": []
   },
   "source": [
    "Stadardize the data."
   ]
  },
  {
   "cell_type": "code",
   "execution_count": 16,
   "id": "7ba6aa42",
   "metadata": {
    "execution": {
     "iopub.execute_input": "2022-10-24T20:26:51.571297Z",
     "iopub.status.busy": "2022-10-24T20:26:51.570648Z",
     "iopub.status.idle": "2022-10-24T20:26:51.596621Z",
     "shell.execute_reply": "2022-10-24T20:26:51.595494Z"
    },
    "papermill": {
     "duration": 0.038674,
     "end_time": "2022-10-24T20:26:51.599485",
     "exception": false,
     "start_time": "2022-10-24T20:26:51.560811",
     "status": "completed"
    },
    "tags": []
   },
   "outputs": [
    {
     "name": "stdout",
     "output_type": "stream",
     "text": [
      "   id    zip state         county  poverty  price2007  price2013  state_label  \\\n",
      "0   0  10467    NY          bronx     27.1     335200     294000            2   \n",
      "1   1  11226    NY          kings     21.9     471500     471600            2   \n",
      "2   2  60640    IL           cook     14.6     254600     174200            7   \n",
      "3   3  94109    CA  san francisco     10.6     707100     822600            0   \n",
      "4   4  11375    NY         queens     12.2     636400     681500            2   \n",
      "\n",
      "   county_label  poverty_std   zip_std  price2007_std  \n",
      "0           272     0.802857  0.095899       0.087716  \n",
      "1           164     0.654286  0.103588       0.127410  \n",
      "2            18     0.445714  0.604196       0.064244  \n",
      "3           153     0.331429  0.943267       0.196022  \n",
      "4            64     0.377143  0.105098       0.175432  \n"
     ]
    }
   ],
   "source": [
    "df['poverty_std']=standardize(df,'poverty')\n",
    "test['poverty_std']=standardize(test,'poverty')\n",
    "\n",
    "df['zip_std']=standardize(df,'zip')\n",
    "test['zip_std']=standardize(test,'zip')\n",
    "\n",
    "df['price2007_std']=standardize(df,'price2007')\n",
    "test['price2007_std']=standardize(test,'price2007')\n",
    "\n",
    "# df['state_label']=standardize(df,'state_label')\n",
    "# test['state_label']=standardize(test,'state_label')\n",
    "\n",
    "# df['county_label']=standardize(df,'county_label')\n",
    "# test['county_label']=standardize(test,'county_label')\n",
    "\n",
    "print(df.head())\n",
    "# print(test.head())\n"
   ]
  },
  {
   "cell_type": "markdown",
   "id": "421f023f",
   "metadata": {
    "papermill": {
     "duration": 0.008072,
     "end_time": "2022-10-24T20:26:51.616037",
     "exception": false,
     "start_time": "2022-10-24T20:26:51.607965",
     "status": "completed"
    },
    "tags": []
   },
   "source": [
    "show correlation"
   ]
  },
  {
   "cell_type": "code",
   "execution_count": 17,
   "id": "a2cb60a4",
   "metadata": {
    "execution": {
     "iopub.execute_input": "2022-10-24T20:26:51.634858Z",
     "iopub.status.busy": "2022-10-24T20:26:51.634170Z",
     "iopub.status.idle": "2022-10-24T20:26:52.160917Z",
     "shell.execute_reply": "2022-10-24T20:26:52.159801Z"
    },
    "papermill": {
     "duration": 0.538919,
     "end_time": "2022-10-24T20:26:52.163285",
     "exception": false,
     "start_time": "2022-10-24T20:26:51.624366",
     "status": "completed"
    },
    "tags": []
   },
   "outputs": [
    {
     "data": {
      "image/png": "[encoded data removed]",
      "text/plain": [
       "<Figure size 1200x1000 with 2 Axes>"
      ]
     },
     "metadata": {},
     "output_type": "display_data"
    }
   ],
   "source": [
    "df_corr = df[   ['zip_std','state_label','county_label','poverty_std','price2007_std','price2013']  ].corr()\n",
    "# print(df_corr)\n",
    "mask = np.zeros_like(df_corr)\n",
    "mask[np.triu_indices_from(mask)] = True\n",
    "with sns.axes_style(\"white\"):\n",
    "    f, ax = plt.subplots(figsize=(12, 10))\n",
    "    ax = sns.heatmap(df_corr, mask=mask, vmax=1, vmin=-1, linewidths=.5, square=True, cmap='coolwarm', annot=True)\n",
    "    plt.title('Correlation Heatmap of factors', fontsize = 15)\n",
    "    plt.yticks(rotation=0)\n",
    "    plt.tight_layout()"
   ]
  },
  {
   "cell_type": "code",
   "execution_count": 18,
   "id": "728a34f1",
   "metadata": {
    "execution": {
     "iopub.execute_input": "2022-10-24T20:26:52.184226Z",
     "iopub.status.busy": "2022-10-24T20:26:52.183184Z",
     "iopub.status.idle": "2022-10-24T20:26:52.191653Z",
     "shell.execute_reply": "2022-10-24T20:26:52.190171Z"
    },
    "id": "9pBORkKAPU83",
    "outputId": "06cd07eb-75a6-4f04-b7c0-ce3a0be76377",
    "papermill": {
     "duration": 0.02181,
     "end_time": "2022-10-24T20:26:52.194369",
     "exception": false,
     "start_time": "2022-10-24T20:26:52.172559",
     "status": "completed"
    },
    "tags": []
   },
   "outputs": [
    {
     "name": "stdout",
     "output_type": "stream",
     "text": [
      "(8973, 3)\n",
      "(8973,)\n"
     ]
    }
   ],
   "source": [
    "\n",
    "\n",
    "x=df[ ['poverty_std','county_label','price2007_std']  ]\n",
    "y = df['price2013']\n",
    "\n",
    "\n",
    "print(  x.shape  )\n",
    "print(  y.shape  )"
   ]
  },
  {
   "cell_type": "code",
   "execution_count": 19,
   "id": "28c2fda0",
   "metadata": {
    "execution": {
     "iopub.execute_input": "2022-10-24T20:26:52.215114Z",
     "iopub.status.busy": "2022-10-24T20:26:52.214481Z",
     "iopub.status.idle": "2022-10-24T20:26:52.222937Z",
     "shell.execute_reply": "2022-10-24T20:26:52.221848Z"
    },
    "id": "B8VWSx3NjyLy",
    "outputId": "795a5b10-36d3-4b0d-a85e-efe1093ebb56",
    "papermill": {
     "duration": 0.021576,
     "end_time": "2022-10-24T20:26:52.225278",
     "exception": false,
     "start_time": "2022-10-24T20:26:52.203702",
     "status": "completed"
    },
    "tags": []
   },
   "outputs": [],
   "source": [
    "\n",
    "\n",
    "# test_y=test['price2007']\n",
    "test_x=test[ ['poverty_std','county_label','price2007_std']   ]\n",
    "\n",
    "id=test['id']\n",
    "\n",
    "# print(  test_x.head()   )\n",
    "\n",
    "# print(  test_y.head()   )\n",
    "# print(id)"
   ]
  },
  {
   "cell_type": "code",
   "execution_count": 20,
   "id": "b7b29677",
   "metadata": {},
   "outputs": [],
   "source": [
    "def train_model(model,x,y):\n",
    "    print('model=',model)\n",
    "    model.fit(x,y)\n",
    "    pre=model.predict(test_x)\n",
    "    output = pd.DataFrame({\n",
    "                        \"id\":id,\n",
    "                        \"prediction\": pre\n",
    "                        })\n",
    "    output.to_csv('submission'+str(model)+'.csv', index=False, header = 1)\n",
    "    print(\"Your submission for \",str(model),\"was successfully saved!\")\n",
    "    "
   ]
  },
  {
   "cell_type": "code",
   "execution_count": 21,
   "id": "fc50c331",
   "metadata": {
    "execution": {
     "iopub.execute_input": "2022-10-24T20:26:52.413769Z",
     "iopub.status.busy": "2022-10-24T20:26:52.412622Z",
     "iopub.status.idle": "2022-10-24T20:27:44.493478Z",
     "shell.execute_reply": "2022-10-24T20:27:44.492274Z"
    },
    "id": "7D7W_Jt05vAf",
    "outputId": "073f1c17-6d31-4120-ac27-63bc6b73eee9",
    "papermill": {
     "duration": 52.106849,
     "end_time": "2022-10-24T20:27:44.506359",
     "exception": false,
     "start_time": "2022-10-24T20:26:52.399510",
     "status": "completed"
    },
    "tags": []
   },
   "outputs": [
    {
     "name": "stdout",
     "output_type": "stream",
     "text": [
      "model= LinearRegression()\n",
      "Your submission for  LinearRegression() was successfully saved!\n"
     ]
    }
   ],
   "source": [
    "from sklearn.linear_model import LinearRegression\n",
    "from sklearn import tree\n",
    "from sklearn.ensemble import RandomForestClassifier\n",
    "\n",
    "train_model(LinearRegression(),x,y)\n",
    "# train_model(tree.DecisionTreeClassifier(),x,y)\n",
    "# train_model(RandomForestClassifier(n_estimators=30),x,y)\n",
    "\n",
    "# # model.fit(x,y)\n"
   ]
  },
  {
   "cell_type": "code",
   "execution_count": 22,
   "id": "9afb8526",
   "metadata": {},
   "outputs": [],
   "source": [
    "# from sklearn.svm import SVC\n",
    "# train_model(SVC(),x,y)"
   ]
  },
  {
   "cell_type": "code",
   "execution_count": 23,
   "id": "46cada79",
   "metadata": {
    "execution": {
     "iopub.execute_input": "2022-10-24T20:27:44.527343Z",
     "iopub.status.busy": "2022-10-24T20:27:44.526964Z",
     "iopub.status.idle": "2022-10-24T20:27:49.783599Z",
     "shell.execute_reply": "2022-10-24T20:27:49.782078Z"
    },
    "papermill": {
     "duration": 5.270085,
     "end_time": "2022-10-24T20:27:49.786505",
     "exception": false,
     "start_time": "2022-10-24T20:27:44.516420",
     "status": "completed"
    },
    "tags": []
   },
   "outputs": [],
   "source": [
    "# from sklearn.svm import SVR\n",
    "# train_model(SVR(),x,y)"
   ]
  },
  {
   "cell_type": "code",
   "execution_count": 24,
   "id": "a524bef2",
   "metadata": {
    "execution": {
     "iopub.execute_input": "2022-10-24T20:27:49.807843Z",
     "iopub.status.busy": "2022-10-24T20:27:49.807427Z",
     "iopub.status.idle": "2022-10-24T20:27:49.871094Z",
     "shell.execute_reply": "2022-10-24T20:27:49.869908Z"
    },
    "papermill": {
     "duration": 0.077073,
     "end_time": "2022-10-24T20:27:49.873599",
     "exception": false,
     "start_time": "2022-10-24T20:27:49.796526",
     "status": "completed"
    },
    "tags": []
   },
   "outputs": [],
   "source": [
    "# from sklearn.linear_model import SGDRegressor\n",
    "# train_model(SGDRegressor(),x,y)"
   ]
  },
  {
   "cell_type": "code",
   "execution_count": 25,
   "id": "900ec48a",
   "metadata": {},
   "outputs": [],
   "source": [
    "# from sklearn.linear_model import LogisticRegression\n",
    "# train_model(LogisticRegression(),x,y)"
   ]
  }
 ],
 "metadata": {
  "kernelspec": {
   "display_name": "Python 3.10.8 64-bit (microsoft store)",
   "language": "python",
   "name": "python3"
  },
  "language_info": {
   "codemirror_mode": {
    "name": "ipython",
    "version": 3
   },
   "file_extension": ".py",
   "mimetype": "text/x-python",
   "name": "python",
   "nbconvert_exporter": "python",
   "pygments_lexer": "ipython3",
   "version": "3.10.8"
  },
  "papermill": {
   "default_parameters": {},
   "duration": 72.759272,
   "end_time": "2022-10-24T20:27:54.087163",
   "environment_variables": {},
   "exception": null,
   "input_path": "__notebook__.ipynb",
   "output_path": "__notebook__.ipynb",
   "parameters": {},
   "start_time": "2022-10-24T20:26:41.327891",
   "version": "2.3.4"
  },
  "vscode": {
   "interpreter": {
    "hash": "7a4d3da570d8d7921002094f9af6272e1fa14c10db40a3946e0383906a000bcf"
   }
  }
 },
 "nbformat": 4,
 "nbformat_minor": 5
}
