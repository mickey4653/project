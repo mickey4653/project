{
  "cells": [
    {
      "cell_type": "code",
      "execution_count": 2,
      "metadata": {
        "colab": {
          "base_uri": "https://localhost:8080/"
        },
        "id": "SzQbseRmTeQi",
        "outputId": "274e41b4-2e41-46e7-dc4b-32cbc63ebcba"
      },
      "outputs": [
        {
          "output_type": "stream",
          "name": "stdout",
          "text": [
            "nyt1.csv is added to the data frame\n",
            "nyt2.csv is added to the data frame\n",
            "nyt3.csv is added to the data frame\n",
            "nyt4.csv is added to the data frame\n",
            "nyt5.csv is added to the data frame\n",
            "nyt6.csv is added to the data frame\n",
            "nyt7.csv is added to the data frame\n"
          ]
        }
      ],
      "source": [
        "import pandas as pd\n",
        "import os\n",
        "import seaborn as sns\n",
        "\n",
        "\n",
        "dir=r\"http://stat.columbia.edu/~rachel/datasets/\"\n",
        "df=pd.DataFrame()\n",
        "for x in range(1,8):\n",
        "  name=dir+'nyt'+str(x)+'.csv'\n",
        "  tmp=pd.read_csv (name)\n",
        "  tmp['day']=x\n",
        "  df=df.append(tmp)\n",
        "  print(\"nyt\"+str(x)+\".csv is added to the data frame\")\n",
        " \n"
      ]
    },
    {
      "cell_type": "code",
      "execution_count": 3,
      "metadata": {
        "colab": {
          "base_uri": "https://localhost:8080/"
        },
        "id": "semuzP1AVEq7",
        "outputId": "3c4cd3d2-e36c-441b-950a-11e39bd68a1f"
      },
      "outputs": [
        {
          "output_type": "stream",
          "name": "stdout",
          "text": [
            "                Age        Gender   Impressions        Clicks     Signed_In  \\\n",
            "count  3.378934e+06  3.378934e+06  3.378934e+06  3.378934e+06  3.378934e+06   \n",
            "mean   2.947162e+01  3.637851e-01  4.999779e+00  9.244158e-02  7.000877e-01   \n",
            "std    2.363669e+01  4.810879e-01  2.235961e+00  3.099647e-01  4.582194e-01   \n",
            "min    0.000000e+00  0.000000e+00  0.000000e+00  0.000000e+00  0.000000e+00   \n",
            "25%    0.000000e+00  0.000000e+00  3.000000e+00  0.000000e+00  0.000000e+00   \n",
            "50%    3.100000e+01  0.000000e+00  5.000000e+00  0.000000e+00  1.000000e+00   \n",
            "75%    4.800000e+01  1.000000e+00  6.000000e+00  0.000000e+00  1.000000e+00   \n",
            "max    1.120000e+02  1.000000e+00  2.000000e+01  6.000000e+00  1.000000e+00   \n",
            "\n",
            "                day  \n",
            "count  3.378934e+06  \n",
            "mean   4.160188e+00  \n",
            "std    2.019471e+00  \n",
            "min    1.000000e+00  \n",
            "25%    2.000000e+00  \n",
            "50%    4.000000e+00  \n",
            "75%    6.000000e+00  \n",
            "max    7.000000e+00  \n"
          ]
        }
      ],
      "source": [
        "print(  df.describe()  )\n"
      ]
    },
    {
      "cell_type": "markdown",
      "metadata": {
        "id": "l1Rw30AhTLD-"
      },
      "source": [
        "The count of each columnn are same, so don't need to deal with missing value."
      ]
    },
    {
      "cell_type": "code",
      "execution_count": 4,
      "metadata": {
        "colab": {
          "base_uri": "https://localhost:8080/"
        },
        "id": "ZgHDspMtHkGU",
        "outputId": "5e64640d-3220-4440-ba77-4d84b23154f4"
      },
      "outputs": [
        {
          "output_type": "stream",
          "name": "stdout",
          "text": [
            "   Age  Gender  Impressions  Clicks  Signed_In  day\n",
            "0   36       0            3       0          1    1\n",
            "1   73       1            3       0          1    1\n",
            "2   30       0            3       0          1    1\n",
            "3   49       1            3       0          1    1\n",
            "4   47       1           11       0          1    1\n"
          ]
        }
      ],
      "source": [
        "print(df.head())"
      ]
    },
    {
      "cell_type": "markdown",
      "metadata": {
        "id": "7aWraGPtTcvo"
      },
      "source": [
        "Create a new variable, age_group, that categorizes users as “<18”, ”18-24”, ”25-34”, ”35-44”, ”45-54”, “55-64” and “65+”."
      ]
    },
    {
      "cell_type": "code",
      "execution_count": 5,
      "metadata": {
        "id": "XpHigTFUJp0_"
      },
      "outputs": [],
      "source": [
        "ages = [float('-inf'),18,25,35,45,55,65,float('inf')]\n",
        "age_labels =[\"<18\", \"18-24\", \"25-34\", \"35-44\", \"45-54\", \"55-64\", \"65+\"]\n",
        "df['Age_Group'] = pd.cut(df['Age'],bins=ages, labels=age_labels,right=True)\n",
        "\n"
      ]
    },
    {
      "cell_type": "code",
      "execution_count": 6,
      "metadata": {
        "colab": {
          "base_uri": "https://localhost:8080/"
        },
        "id": "s9GRginjccSI",
        "outputId": "ab71bb51-14cc-4a63-f00b-692c4d9416b9"
      },
      "outputs": [
        {
          "output_type": "stream",
          "name": "stdout",
          "text": [
            "    Age  Gender  Impressions  Clicks  Signed_In  day Age_Group\n",
            "0    36       0            3       0          1    1     35-44\n",
            "1    73       1            3       0          1    1       65+\n",
            "2    30       0            3       0          1    1     25-34\n",
            "3    49       1            3       0          1    1     45-54\n",
            "4    47       1           11       0          1    1     45-54\n",
            "5    47       0           11       1          1    1     45-54\n",
            "6     0       0            7       1          0    1       <18\n",
            "7    46       0            5       0          1    1     45-54\n",
            "8    16       0            3       0          1    1       <18\n",
            "9    52       0            4       0          1    1     45-54\n",
            "10    0       0            8       1          0    1       <18\n",
            "11   21       0            3       0          1    1     18-24\n",
            "12    0       0            4       0          0    1       <18\n",
            "13   57       0            6       0          1    1     55-64\n",
            "14   31       0            5       0          1    1     25-34\n",
            "15    0       0            6       0          0    1       <18\n",
            "16   40       1            3       0          1    1     35-44\n",
            "17   31       1            5       0          1    1     25-34\n",
            "18   38       0            4       0          1    1     35-44\n",
            "19    0       0            5       0          0    1       <18\n",
            "20   59       1            4       0          1    1     55-64\n",
            "21   61       0            6       0          1    1     55-64\n",
            "22   48       0            7       0          1    1     45-54\n",
            "23   29       1            2       0          1    1     25-34\n",
            "24    0       0            4       0          0    1       <18\n",
            "25   19       1            4       0          1    1     18-24\n",
            "26   19       0            3       0          1    1     18-24\n",
            "27   48       1            9       0          1    1     45-54\n",
            "28   48       1            4       0          1    1     45-54\n",
            "29   21       1            5       0          1    1     18-24\n",
            "30   23       0            4       0          1    1     18-24\n",
            "31   66       1            3       0          1    1       65+\n",
            "32   23       1            7       0          1    1     18-24\n",
            "33   44       1            4       0          1    1     35-44\n",
            "34   32       0            2       0          1    1     25-34\n",
            "35   22       1            2       0          1    1     18-24\n",
            "36   30       1            8       0          1    1     25-34\n",
            "37   74       0            2       0          1    1       65+\n",
            "38   65       1            5       0          1    1     55-64\n",
            "39    0       0            7       2          0    1       <18\n"
          ]
        }
      ],
      "source": [
        "print(df.head(40))"
      ]
    },
    {
      "cell_type": "markdown",
      "metadata": {
        "id": "b02BqIvOmYdZ"
      },
      "source": [
        "Plot the distributions of number impressions and click-through-rate (CTR=# clicks/# impressions), for these 6 age categories."
      ]
    },
    {
      "cell_type": "code",
      "execution_count": 7,
      "metadata": {
        "colab": {
          "base_uri": "https://localhost:8080/"
        },
        "id": "R7XTx8RsmX-0",
        "outputId": "1792342a-dd94-450d-9137-0f5d9fc13af9"
      },
      "outputs": [
        {
          "output_type": "stream",
          "name": "stdout",
          "text": [
            "        Age  Gender  Impressions  Clicks  Signed_In  day Age_Group       CTS\n",
            "0        48       1            3       0          1    2     45-54  0.000000\n",
            "1         0       0            9       1          0    2       <18  0.111111\n",
            "2        15       1            4       0          1    2       <18  0.000000\n",
            "3         0       0            5       0          0    2       <18  0.000000\n",
            "4         0       0            7       1          0    2       <18  0.142857\n",
            "...     ...     ...          ...     ...        ...  ...       ...       ...\n",
            "449930   21       1            5       0          1    2     18-24  0.000000\n",
            "449931   37       1            9       0          1    2     35-44  0.000000\n",
            "449932   52       1            2       0          1    2     45-54  0.000000\n",
            "449933   22       1            0       0          1    2     18-24       NaN\n",
            "449934   66       0            6       0          1    2       65+  0.000000\n",
            "\n",
            "[449935 rows x 8 columns]\n"
          ]
        },
        {
          "output_type": "stream",
          "name": "stderr",
          "text": [
            "/usr/local/lib/python3.7/dist-packages/ipykernel_launcher.py:2: SettingWithCopyWarning: \n",
            "A value is trying to be set on a copy of a slice from a DataFrame.\n",
            "Try using .loc[row_indexer,col_indexer] = value instead\n",
            "\n",
            "See the caveats in the documentation: https://pandas.pydata.org/pandas-docs/stable/user_guide/indexing.html#returning-a-view-versus-a-copy\n",
            "  \n"
          ]
        }
      ],
      "source": [
        "day2=df[df['day']==2]\n",
        "day2['CTS']=day2['Clicks']/day2['Impressions']\n",
        "print(day2)\n"
      ]
    },
    {
      "cell_type": "markdown",
      "metadata": {
        "id": "xP4QPqBoXoz_"
      },
      "source": []
    },
    {
      "cell_type": "code",
      "execution_count": 8,
      "metadata": {
        "colab": {
          "base_uri": "https://localhost:8080/",
          "height": 386
        },
        "id": "JZ9oU1sYrzXd",
        "outputId": "2d3c0394-fdfc-40dc-cdc1-1596ad31101b"
      },
      "outputs": [
        {
          "output_type": "execute_result",
          "data": {
            "text/plain": [
              "<seaborn.axisgrid.FacetGrid at 0x7f638f348f90>"
            ]
          },
          "metadata": {},
          "execution_count": 8
        },
        {
          "output_type": "display_data",
          "data": {
            "text/plain": [
              "<Figure size 425x360 with 1 Axes>"
            ],
            "image/png": "[encoded data removed]"
          },
          "metadata": {
            "needs_background": "light"
          }
        }
      ],
      "source": [
        "# print(df['Impressions'])\n",
        "sns.displot(data=day2,x=day2['Impressions'] ,kind=\"kde\",hue='Age_Group')\n"
      ]
    },
    {
      "cell_type": "markdown",
      "source": [
        "We can see from the plot that age group <18 has the most impressios."
      ],
      "metadata": {
        "id": "AzgX4uhglNxm"
      }
    },
    {
      "cell_type": "code",
      "execution_count": 9,
      "metadata": {
        "colab": {
          "base_uri": "https://localhost:8080/",
          "height": 296
        },
        "id": "jTDsC11OpxDW",
        "outputId": "b3e46911-bf7c-4a39-a58d-14f34d38cb0a"
      },
      "outputs": [
        {
          "output_type": "execute_result",
          "data": {
            "text/plain": [
              "<matplotlib.axes._subplots.AxesSubplot at 0x7f6374119cd0>"
            ]
          },
          "metadata": {},
          "execution_count": 9
        },
        {
          "output_type": "display_data",
          "data": {
            "text/plain": [
              "<Figure size 432x288 with 1 Axes>"
            ],
            "image/png": "[encoded data removed]"
          },
          "metadata": {
            "needs_background": "light"
          }
        }
      ],
      "source": [
        "\n",
        "sns.boxplot(x=day2['Impressions'] )"
      ]
    },
    {
      "cell_type": "markdown",
      "metadata": {
        "id": "u751xSZgnAjl"
      },
      "source": [
        "(Expalin this)"
      ]
    },
    {
      "cell_type": "code",
      "execution_count": 10,
      "metadata": {
        "colab": {
          "base_uri": "https://localhost:8080/",
          "height": 386
        },
        "id": "8mQBqyGcbOWN",
        "outputId": "c9176632-2439-43e5-d913-0feb25c3dc63"
      },
      "outputs": [
        {
          "output_type": "execute_result",
          "data": {
            "text/plain": [
              "<seaborn.axisgrid.FacetGrid at 0x7f637414f710>"
            ]
          },
          "metadata": {},
          "execution_count": 10
        },
        {
          "output_type": "display_data",
          "data": {
            "text/plain": [
              "<Figure size 425x360 with 1 Axes>"
            ],
            "image/png": "[encoded data removed]"
          },
          "metadata": {
            "needs_background": "light"
          }
        }
      ],
      "source": [
        "sns.displot(data=day2,x=day2['CTS'] ,kind=\"kde\",hue='Age_Group')"
      ]
    },
    {
      "cell_type": "markdown",
      "source": [
        "For CTS, the majority of them are low."
      ],
      "metadata": {
        "id": "kfn6-sm1lG3g"
      }
    },
    {
      "cell_type": "code",
      "execution_count": 13,
      "metadata": {
        "colab": {
          "base_uri": "https://localhost:8080/"
        },
        "id": "QlDqUai4f23R",
        "outputId": "6c231d56-7090-4382-f6e2-44d956321bcb"
      },
      "outputs": [
        {
          "output_type": "stream",
          "name": "stdout",
          "text": [
            "  Age_Group      Age  Gender  Impressions  Clicks  Signed_In     day       CTS\n",
            "0       <18   306518   12470       768874   21700      19135  307414  0.028223\n",
            "1     18-24   816015   20443       188483    1963      37777   75554  0.010415\n",
            "2     25-34  1731558   31130       287635    2886      57485  114970  0.010034\n",
            "3     35-44  2750127   37428       342577    3499      68672  137344  0.010214\n",
            "4     45-54  3107982   33811       310748    3340      62190  124380  0.010748\n",
            "5     55-64  2561279   23210       214489    4345      42761   85522  0.020257\n",
            "6       65+  2003432    9964       136680    4019      27343   54686  0.029404\n"
          ]
        }
      ],
      "source": [
        "df2=df[df['day']==2].groupby(['Age_Group']).sum().reset_index()\n",
        "\n",
        "df2['CTS']=df2['Clicks']/df2['Impressions']\n",
        "print(df2)"
      ]
    },
    {
      "cell_type": "code",
      "source": [
        "sns.barplot(data=df2, x=\"Impressions\",y=\"Age_Group\").set(title=\"Impression count by age group\")"
      ],
      "metadata": {
        "colab": {
          "base_uri": "https://localhost:8080/",
          "height": 312
        },
        "id": "8192mXSWOHJi",
        "outputId": "46028012-9843-46d6-e9dd-8ccea35a3ee6"
      },
      "execution_count": 14,
      "outputs": [
        {
          "output_type": "execute_result",
          "data": {
            "text/plain": [
              "[Text(0.5, 1.0, 'Impression count by age group')]"
            ]
          },
          "metadata": {},
          "execution_count": 14
        },
        {
          "output_type": "display_data",
          "data": {
            "text/plain": [
              "<Figure size 432x288 with 1 Axes>"
            ],
            "image/png": "[encoded data removed]"
          },
          "metadata": {
            "needs_background": "light"
          }
        }
      ]
    },
    {
      "cell_type": "markdown",
      "metadata": {
        "id": "iSL0So5BqFVe"
      },
      "source": [
        "It seems like for impressions by age group, <18 has the most impression.\n"
      ]
    },
    {
      "cell_type": "code",
      "source": [
        "sns.barplot(data=df2, x=\"CTS\",y=\"Age_Group\").set(title=\"CTR by age group\")"
      ],
      "metadata": {
        "colab": {
          "base_uri": "https://localhost:8080/",
          "height": 312
        },
        "id": "wEw7GJC2PNk1",
        "outputId": "a436b3ae-e493-4ed0-8b2d-a3179bb0d989"
      },
      "execution_count": 15,
      "outputs": [
        {
          "output_type": "execute_result",
          "data": {
            "text/plain": [
              "[Text(0.5, 1.0, 'CTR by age group')]"
            ]
          },
          "metadata": {},
          "execution_count": 15
        },
        {
          "output_type": "display_data",
          "data": {
            "text/plain": [
              "<Figure size 432x288 with 1 Axes>"
            ],
            "image/png": "[encoded data removed]"
          },
          "metadata": {
            "needs_background": "light"
          }
        }
      ]
    },
    {
      "cell_type": "markdown",
      "metadata": {
        "id": "CtmlVXZHqTqX"
      },
      "source": [
        "If we consider CTS, **<18** and **65+** are the most.\n",
        "I knowtice from the data that the age group 65+, even though they view the web less, their CTS rate is higer than others."
      ]
    },
    {
      "cell_type": "markdown",
      "metadata": {
        "id": "YhTplmX7osTG"
      },
      "source": [
        "*Define a new variable to segment or categorize users based on their click behavior*"
      ]
    },
    {
      "cell_type": "code",
      "execution_count": 16,
      "metadata": {
        "colab": {
          "base_uri": "https://localhost:8080/"
        },
        "id": "X_OIC7vA7Wj-",
        "outputId": "726e77e6-cd4b-4f66-ff40-1983ff8a5b69"
      },
      "outputs": [
        {
          "output_type": "stream",
          "name": "stdout",
          "text": [
            "Age_Group\n",
            "<18      150488\n",
            "18-24      6707\n",
            "25-34     10293\n",
            "35-44     12423\n",
            "45-54     11417\n",
            "55-64     15557\n",
            "65+       19767\n",
            "Name: Clicks, dtype: int64\n",
            "Age_Group\n",
            "<18      12465\n",
            "18-24     7369\n",
            "25-34    11249\n",
            "35-44    13773\n",
            "45-54    12822\n",
            "55-64    17116\n",
            "65+      10908\n",
            "Name: Clicks, dtype: int64\n"
          ]
        }
      ],
      "source": [
        "clicks_gender1=df[df['Gender']==1].groupby('Age_Group').sum()['Clicks']\n",
        "clicks_gender0=df[df['Gender']==0].groupby('Age_Group').sum()['Clicks']\n",
        "print(clicks_gender0)\n",
        "print(clicks_gender1)"
      ]
    },
    {
      "cell_type": "markdown",
      "metadata": {
        "id": "HS_r9iLKo0uF"
      },
      "source": [
        "clicks_gender1\n",
        "  is Female for each age group\n",
        "\n",
        "\n",
        "clicks_gender0\n",
        "  is Male for each age group\n",
        "\n",
        "\n",
        "\n"
      ]
    },
    {
      "cell_type": "code",
      "execution_count": 17,
      "metadata": {
        "colab": {
          "base_uri": "https://localhost:8080/",
          "height": 313
        },
        "id": "n5zYGU3e8HBj",
        "outputId": "fba8faf9-a51b-4f60-a480-116aea9acebb"
      },
      "outputs": [
        {
          "output_type": "execute_result",
          "data": {
            "text/plain": [
              "Text(0.5, 1.0, 'Clicking amount for each age group')"
            ]
          },
          "metadata": {},
          "execution_count": 17
        },
        {
          "output_type": "display_data",
          "data": {
            "text/plain": [
              "<Figure size 432x288 with 1 Axes>"
            ],
            "image/png": "[encoded data removed]"
          },
          "metadata": {
            "needs_background": "light"
          }
        }
      ],
      "source": [
        "import matplotlib.pyplot as plt\n",
        "clicks_gender1.plot(legend=age_labels)\n",
        "clicks_gender0.plot(legend=age_labels)\n",
        "plt.legend( ['gender=1','gender=0'] )\n",
        "plt.title('Clicking amount for each age group')\n",
        "\n",
        "\n"
      ]
    },
    {
      "cell_type": "markdown",
      "metadata": {
        "id": "I-VUT3sK_K9V"
      },
      "source": [
        "Except for the age group of youger than 18, theere are not a lot of different on clicking amount between males and females."
      ]
    },
    {
      "cell_type": "markdown",
      "metadata": {
        "id": "y1Ygm2mlTj_n"
      },
      "source": [
        "Explore the data and make visual and quantitative comparisons across user segments/ demographics (<18 year old male vs < 18 year old\n",
        "females or logged-in vs not, for example). "
      ]
    },
    {
      "cell_type": "code",
      "execution_count": 18,
      "metadata": {
        "colab": {
          "base_uri": "https://localhost:8080/"
        },
        "id": "Jz-44Bc2vPdL",
        "outputId": "b7494107-c5f2-4515-8e29-4c82667e3d4c"
      },
      "outputs": [
        {
          "output_type": "stream",
          "name": "stdout",
          "text": [
            "   Age_Group  Signed_In  Clicks\n",
            "0        <18          0  143902\n",
            "1        <18          1   19051\n",
            "2      18-24          0       0\n",
            "3      18-24          1   14076\n",
            "4      25-34          0       0\n",
            "5      25-34          1   21542\n",
            "6      35-44          0       0\n",
            "7      35-44          1   26196\n",
            "8      45-54          0       0\n",
            "9      45-54          1   24239\n",
            "10     55-64          0       0\n",
            "11     55-64          1   32673\n",
            "12       65+          0       0\n",
            "13       65+          1   30675\n"
          ]
        }
      ],
      "source": [
        "sign_in=df[ df['Signed_In']==1]\n",
        "\n",
        "by_age=df.groupby(  ['Age_Group','Signed_In'] )['Clicks'].sum().reset_index()\n",
        "print(by_age.head(100))\n"
      ]
    },
    {
      "cell_type": "code",
      "execution_count": 19,
      "metadata": {
        "colab": {
          "base_uri": "https://localhost:8080/",
          "height": 297
        },
        "id": "MoSz-3eC1S94",
        "outputId": "88a372aa-4495-49e4-bfd2-75c23d591fff"
      },
      "outputs": [
        {
          "output_type": "execute_result",
          "data": {
            "text/plain": [
              "<matplotlib.axes._subplots.AxesSubplot at 0x7f637387c2d0>"
            ]
          },
          "metadata": {},
          "execution_count": 19
        },
        {
          "output_type": "display_data",
          "data": {
            "text/plain": [
              "<Figure size 432x288 with 1 Axes>"
            ],
            "image/png": "[encoded data removed]"
          },
          "metadata": {
            "needs_background": "light"
          }
        }
      ],
      "source": [
        "\n",
        "sns.barplot(data=by_age,x='Age_Group',  y='Clicks',hue='Signed_In')\n"
      ]
    },
    {
      "cell_type": "markdown",
      "source": [
        "We can see from the chart that only for age group <18, there are significant difference betwen signed in and did not signed in."
      ],
      "metadata": {
        "id": "8Kqe0hYwkk6E"
      }
    },
    {
      "cell_type": "code",
      "execution_count": 20,
      "metadata": {
        "colab": {
          "base_uri": "https://localhost:8080/",
          "height": 424
        },
        "id": "xLJTkVJxZIkc",
        "outputId": "e79b2dce-dce9-4ebc-c4e2-fd69ddc53f7c"
      },
      "outputs": [
        {
          "output_type": "execute_result",
          "data": {
            "text/plain": [
              "        Age  Gender  Impressions  Clicks  Signed_In  day Age_Group\n",
              "6         0       0            7       1          0    1       <18\n",
              "10        0       0            8       1          0    1       <18\n",
              "12        0       0            4       0          0    1       <18\n",
              "15        0       0            6       0          0    1       <18\n",
              "19        0       0            5       0          0    1       <18\n",
              "...     ...     ...          ...     ...        ...  ...       ...\n",
              "452475    0       0            3       0          0    7       <18\n",
              "452477    0       0            8       0          0    7       <18\n",
              "452482    0       0            3       0          0    7       <18\n",
              "452484    0       0            6       0          0    7       <18\n",
              "452485    0       0            8       1          0    7       <18\n",
              "\n",
              "[1013384 rows x 7 columns]"
            ],
            "text/html": [
              "\n",
              "  <div id=\"df-13e32720-73b8-427d-998e-4377d87e0e97\">\n",
              "    <div class=\"colab-df-container\">\n",
              "      <div>\n",
              "<style scoped>\n",
              "    .dataframe tbody tr th:only-of-type {\n",
              "        vertical-align: middle;\n",
              "    }\n",
              "\n",
              "    .dataframe tbody tr th {\n",
              "        vertical-align: top;\n",
              "    }\n",
              "\n",
              "    .dataframe thead th {\n",
              "        text-align: right;\n",
              "    }\n",
              "</style>\n",
              "<table border=\"1\" class=\"dataframe\">\n",
              "  <thead>\n",
              "    <tr style=\"text-align: right;\">\n",
              "      <th></th>\n",
              "      <th>Age</th>\n",
              "      <th>Gender</th>\n",
              "      <th>Impressions</th>\n",
              "      <th>Clicks</th>\n",
              "      <th>Signed_In</th>\n",
              "      <th>day</th>\n",
              "      <th>Age_Group</th>\n",
              "    </tr>\n",
              "  </thead>\n",
              "  <tbody>\n",
              "    <tr>\n",
              "      <th>6</th>\n",
              "      <td>0</td>\n",
              "      <td>0</td>\n",
              "      <td>7</td>\n",
              "      <td>1</td>\n",
              "      <td>0</td>\n",
              "      <td>1</td>\n",
              "      <td>&lt;18</td>\n",
              "    </tr>\n",
              "    <tr>\n",
              "      <th>10</th>\n",
              "      <td>0</td>\n",
              "      <td>0</td>\n",
              "      <td>8</td>\n",
              "      <td>1</td>\n",
              "      <td>0</td>\n",
              "      <td>1</td>\n",
              "      <td>&lt;18</td>\n",
              "    </tr>\n",
              "    <tr>\n",
              "      <th>12</th>\n",
              "      <td>0</td>\n",
              "      <td>0</td>\n",
              "      <td>4</td>\n",
              "      <td>0</td>\n",
              "      <td>0</td>\n",
              "      <td>1</td>\n",
              "      <td>&lt;18</td>\n",
              "    </tr>\n",
              "    <tr>\n",
              "      <th>15</th>\n",
              "      <td>0</td>\n",
              "      <td>0</td>\n",
              "      <td>6</td>\n",
              "      <td>0</td>\n",
              "      <td>0</td>\n",
              "      <td>1</td>\n",
              "      <td>&lt;18</td>\n",
              "    </tr>\n",
              "    <tr>\n",
              "      <th>19</th>\n",
              "      <td>0</td>\n",
              "      <td>0</td>\n",
              "      <td>5</td>\n",
              "      <td>0</td>\n",
              "      <td>0</td>\n",
              "      <td>1</td>\n",
              "      <td>&lt;18</td>\n",
              "    </tr>\n",
              "    <tr>\n",
              "      <th>...</th>\n",
              "      <td>...</td>\n",
              "      <td>...</td>\n",
              "      <td>...</td>\n",
              "      <td>...</td>\n",
              "      <td>...</td>\n",
              "      <td>...</td>\n",
              "      <td>...</td>\n",
              "    </tr>\n",
              "    <tr>\n",
              "      <th>452475</th>\n",
              "      <td>0</td>\n",
              "      <td>0</td>\n",
              "      <td>3</td>\n",
              "      <td>0</td>\n",
              "      <td>0</td>\n",
              "      <td>7</td>\n",
              "      <td>&lt;18</td>\n",
              "    </tr>\n",
              "    <tr>\n",
              "      <th>452477</th>\n",
              "      <td>0</td>\n",
              "      <td>0</td>\n",
              "      <td>8</td>\n",
              "      <td>0</td>\n",
              "      <td>0</td>\n",
              "      <td>7</td>\n",
              "      <td>&lt;18</td>\n",
              "    </tr>\n",
              "    <tr>\n",
              "      <th>452482</th>\n",
              "      <td>0</td>\n",
              "      <td>0</td>\n",
              "      <td>3</td>\n",
              "      <td>0</td>\n",
              "      <td>0</td>\n",
              "      <td>7</td>\n",
              "      <td>&lt;18</td>\n",
              "    </tr>\n",
              "    <tr>\n",
              "      <th>452484</th>\n",
              "      <td>0</td>\n",
              "      <td>0</td>\n",
              "      <td>6</td>\n",
              "      <td>0</td>\n",
              "      <td>0</td>\n",
              "      <td>7</td>\n",
              "      <td>&lt;18</td>\n",
              "    </tr>\n",
              "    <tr>\n",
              "      <th>452485</th>\n",
              "      <td>0</td>\n",
              "      <td>0</td>\n",
              "      <td>8</td>\n",
              "      <td>1</td>\n",
              "      <td>0</td>\n",
              "      <td>7</td>\n",
              "      <td>&lt;18</td>\n",
              "    </tr>\n",
              "  </tbody>\n",
              "</table>\n",
              "<p>1013384 rows × 7 columns</p>\n",
              "</div>\n",
              "      <button class=\"colab-df-convert\" onclick=\"convertToInteractive('df-13e32720-73b8-427d-998e-4377d87e0e97')\"\n",
              "              title=\"Convert this dataframe to an interactive table.\"\n",
              "              style=\"display:none;\">\n",
              "        \n",
              "  <svg xmlns=\"http://www.w3.org/2000/svg\" height=\"24px\"viewBox=\"0 0 24 24\"\n",
              "       width=\"24px\">\n",
              "    <path d=\"M0 0h24v24H0V0z\" fill=\"none\"/>\n",
              "    <path d=\"M18.56 5.44l.94 2.06.94-2.06 2.06-.94-2.06-.94-.94-2.06-.94 2.06-2.06.94zm-11 1L8.5 8.5l.94-2.06 2.06-.94-2.06-.94L8.5 2.5l-.94 2.06-2.06.94zm10 10l.94 2.06.94-2.06 2.06-.94-2.06-.94-.94-2.06-.94 2.06-2.06.94z\"/><path d=\"M17.41 7.96l-1.37-1.37c-.4-.4-.92-.59-1.43-.59-.52 0-1.04.2-1.43.59L10.3 9.45l-7.72 7.72c-.78.78-.78 2.05 0 2.83L4 21.41c.39.39.9.59 1.41.59.51 0 1.02-.2 1.41-.59l7.78-7.78 2.81-2.81c.8-.78.8-2.07 0-2.86zM5.41 20L4 18.59l7.72-7.72 1.47 1.35L5.41 20z\"/>\n",
              "  </svg>\n",
              "      </button>\n",
              "      \n",
              "  <style>\n",
              "    .colab-df-container {\n",
              "      display:flex;\n",
              "      flex-wrap:wrap;\n",
              "      gap: 12px;\n",
              "    }\n",
              "\n",
              "    .colab-df-convert {\n",
              "      background-color: #E8F0FE;\n",
              "      border: none;\n",
              "      border-radius: 50%;\n",
              "      cursor: pointer;\n",
              "      display: none;\n",
              "      fill: #1967D2;\n",
              "      height: 32px;\n",
              "      padding: 0 0 0 0;\n",
              "      width: 32px;\n",
              "    }\n",
              "\n",
              "    .colab-df-convert:hover {\n",
              "      background-color: #E2EBFA;\n",
              "      box-shadow: 0px 1px 2px rgba(60, 64, 67, 0.3), 0px 1px 3px 1px rgba(60, 64, 67, 0.15);\n",
              "      fill: #174EA6;\n",
              "    }\n",
              "\n",
              "    [theme=dark] .colab-df-convert {\n",
              "      background-color: #3B4455;\n",
              "      fill: #D2E3FC;\n",
              "    }\n",
              "\n",
              "    [theme=dark] .colab-df-convert:hover {\n",
              "      background-color: #434B5C;\n",
              "      box-shadow: 0px 1px 3px 1px rgba(0, 0, 0, 0.15);\n",
              "      filter: drop-shadow(0px 1px 2px rgba(0, 0, 0, 0.3));\n",
              "      fill: #FFFFFF;\n",
              "    }\n",
              "  </style>\n",
              "\n",
              "      <script>\n",
              "        const buttonEl =\n",
              "          document.querySelector('#df-13e32720-73b8-427d-998e-4377d87e0e97 button.colab-df-convert');\n",
              "        buttonEl.style.display =\n",
              "          google.colab.kernel.accessAllowed ? 'block' : 'none';\n",
              "\n",
              "        async function convertToInteractive(key) {\n",
              "          const element = document.querySelector('#df-13e32720-73b8-427d-998e-4377d87e0e97');\n",
              "          const dataTable =\n",
              "            await google.colab.kernel.invokeFunction('convertToInteractive',\n",
              "                                                     [key], {});\n",
              "          if (!dataTable) return;\n",
              "\n",
              "          const docLinkHtml = 'Like what you see? Visit the ' +\n",
              "            '<a target=\"_blank\" href=https://colab.research.google.com/notebooks/data_table.ipynb>data table notebook</a>'\n",
              "            + ' to learn more about interactive tables.';\n",
              "          element.innerHTML = '';\n",
              "          dataTable['output_type'] = 'display_data';\n",
              "          await google.colab.output.renderOutput(dataTable, element);\n",
              "          const docLink = document.createElement('div');\n",
              "          docLink.innerHTML = docLinkHtml;\n",
              "          element.appendChild(docLink);\n",
              "        }\n",
              "      </script>\n",
              "    </div>\n",
              "  </div>\n",
              "  "
            ]
          },
          "metadata": {},
          "execution_count": 20
        }
      ],
      "source": [
        "df[ ( (df.Signed_In==0) & (df.Age_Group=='<18') ) ]"
      ]
    },
    {
      "cell_type": "markdown",
      "metadata": {
        "id": "fraewoqxTnA7"
      },
      "source": [
        "Create metrics/measurements/statistics that summarize the data. Examples of potential metrics include CTR, quantiles, mean, median, variance, max, and these can be calculated across the various user segments. Be selective. Think about what will be important to track over time; what will compress the data, but still capture user behavior. Now extend your analysis across days (one week is sufficient). Visualize metrics and distributions over time. Your plot should emphasize what actually changes over days.\n",
        "d. Describe and interpret any patterns you find. [Include in your writeup]"
      ]
    },
    {
      "cell_type": "markdown",
      "metadata": {
        "id": "oflPjzePTpOC"
      },
      "source": [
        "Describe and interpret any patterns you find. [Include in your writeup]\n"
      ]
    },
    {
      "cell_type": "code",
      "execution_count": 22,
      "metadata": {
        "colab": {
          "base_uri": "https://localhost:8080/",
          "height": 1000
        },
        "id": "j0cPtIYU-CIv",
        "outputId": "08db6954-a51b-45d5-9baa-771f6dd78f98"
      },
      "outputs": [
        {
          "output_type": "display_data",
          "data": {
            "text/plain": [
              "<Figure size 432x288 with 1 Axes>"
            ],
            "image/png": "[encoded data removed]"
          },
          "metadata": {
            "needs_background": "light"
          }
        },
        {
          "output_type": "display_data",
          "data": {
            "text/plain": [
              "<Figure size 432x288 with 1 Axes>"
            ],
            "image/png": "[encoded data removed]"
          },
          "metadata": {
            "needs_background": "light"
          }
        },
        {
          "output_type": "display_data",
          "data": {
            "text/plain": [
              "<Figure size 432x288 with 1 Axes>"
            ],
            "image/png": "[encoded data removed]"
          },
          "metadata": {
            "needs_background": "light"
          }
        },
        {
          "output_type": "display_data",
          "data": {
            "text/plain": [
              "<Figure size 432x288 with 1 Axes>"
            ],
            "image/png": "[encoded data removed]"
          },
          "metadata": {
            "needs_background": "light"
          }
        },
        {
          "output_type": "display_data",
          "data": {
            "text/plain": [
              "<Figure size 432x288 with 1 Axes>"
            ],
            "image/png": "[encoded data removed]"
          },
          "metadata": {
            "needs_background": "light"
          }
        },
        {
          "output_type": "display_data",
          "data": {
            "text/plain": [
              "<Figure size 432x288 with 1 Axes>"
            ],
            "image/png": "[encoded data removed]"
          },
          "metadata": {
            "needs_background": "light"
          }
        },
        {
          "output_type": "display_data",
          "data": {
            "text/plain": [
              "<Figure size 432x288 with 1 Axes>"
            ],
            "image/png": "[encoded data removed]"
          },
          "metadata": {
            "needs_background": "light"
          }
        }
      ],
      "source": [
        "import matplotlib.pyplot as plt\n",
        "for x in age_labels:  \n",
        "  tmp=df[df['Age_Group']==x].groupby('day').mean().reset_index()\n",
        "\n",
        "  sns.lineplot(data=tmp, x=\"day\", y=\"Clicks\")\n",
        "  plt.title('Distribution for age group'+x)\n",
        "  plt.show()\n"
      ]
    },
    {
      "cell_type": "markdown",
      "metadata": {
        "id": "NAMVLHN-Yzsv"
      },
      "source": [
        "We can find from the plot, diffent age group varies their clicking behavior on different days in a week.\n",
        "We can also find that,when signed in =0, there are 1013384 records that age=0."
      ]
    },
    {
      "cell_type": "markdown",
      "metadata": {
        "id": "XQO9cO4SRwFe"
      },
      "source": [
        "Part2\n",
        "https://www.kaggle.com/datasets/ruchi798/data-science-job-salaries"
      ]
    },
    {
      "cell_type": "code",
      "execution_count": 23,
      "metadata": {
        "id": "WvmOpMVOlG6_"
      },
      "outputs": [],
      "source": [
        "! pip install -q kaggle\n"
      ]
    },
    {
      "cell_type": "code",
      "execution_count": 24,
      "metadata": {
        "colab": {
          "base_uri": "https://localhost:8080/",
          "height": 91
        },
        "id": "O12N-_C8pE3q",
        "outputId": "33d1c6fa-769d-4e4d-80eb-24a48329d462"
      },
      "outputs": [
        {
          "output_type": "display_data",
          "data": {
            "text/plain": [
              "<IPython.core.display.HTML object>"
            ],
            "text/html": [
              "\n",
              "     <input type=\"file\" id=\"files-aaf1e013-915c-465f-8097-053a5f0ca77e\" name=\"files[]\" multiple disabled\n",
              "        style=\"border:none\" />\n",
              "     <output id=\"result-aaf1e013-915c-465f-8097-053a5f0ca77e\">\n",
              "      Upload widget is only available when the cell has been executed in the\n",
              "      current browser session. Please rerun this cell to enable.\n",
              "      </output>\n",
              "      <script>// Copyright 2017 Google LLC\n",
              "//\n",
              "// Licensed under the Apache License, Version 2.0 (the \"License\");\n",
              "// you may not use this file except in compliance with the License.\n",
              "// You may obtain a copy of the License at\n",
              "//\n",
              "//      http://www.apache.org/licenses/LICENSE-2.0\n",
              "//\n",
              "// Unless required by applicable law or agreed to in writing, software\n",
              "// distributed under the License is distributed on an \"AS IS\" BASIS,\n",
              "// WITHOUT WARRANTIES OR CONDITIONS OF ANY KIND, either express or implied.\n",
              "// See the License for the specific language governing permissions and\n",
              "// limitations under the License.\n",
              "\n",
              "/**\n",
              " * @fileoverview Helpers for google.colab Python module.\n",
              " */\n",
              "(function(scope) {\n",
              "function span(text, styleAttributes = {}) {\n",
              "  const element = document.createElement('span');\n",
              "  element.textContent = text;\n",
              "  for (const key of Object.keys(styleAttributes)) {\n",
              "    element.style[key] = styleAttributes[key];\n",
              "  }\n",
              "  return element;\n",
              "}\n",
              "\n",
              "// Max number of bytes which will be uploaded at a time.\n",
              "const MAX_PAYLOAD_SIZE = 100 * 1024;\n",
              "\n",
              "function _uploadFiles(inputId, outputId) {\n",
              "  const steps = uploadFilesStep(inputId, outputId);\n",
              "  const outputElement = document.getElementById(outputId);\n",
              "  // Cache steps on the outputElement to make it available for the next call\n",
              "  // to uploadFilesContinue from Python.\n",
              "  outputElement.steps = steps;\n",
              "\n",
              "  return _uploadFilesContinue(outputId);\n",
              "}\n",
              "\n",
              "// This is roughly an async generator (not supported in the browser yet),\n",
              "// where there are multiple asynchronous steps and the Python side is going\n",
              "// to poll for completion of each step.\n",
              "// This uses a Promise to block the python side on completion of each step,\n",
              "// then passes the result of the previous step as the input to the next step.\n",
              "function _uploadFilesContinue(outputId) {\n",
              "  const outputElement = document.getElementById(outputId);\n",
              "  const steps = outputElement.steps;\n",
              "\n",
              "  const next = steps.next(outputElement.lastPromiseValue);\n",
              "  return Promise.resolve(next.value.promise).then((value) => {\n",
              "    // Cache the last promise value to make it available to the next\n",
              "    // step of the generator.\n",
              "    outputElement.lastPromiseValue = value;\n",
              "    return next.value.response;\n",
              "  });\n",
              "}\n",
              "\n",
              "/**\n",
              " * Generator function which is called between each async step of the upload\n",
              " * process.\n",
              " * @param {string} inputId Element ID of the input file picker element.\n",
              " * @param {string} outputId Element ID of the output display.\n",
              " * @return {!Iterable<!Object>} Iterable of next steps.\n",
              " */\n",
              "function* uploadFilesStep(inputId, outputId) {\n",
              "  const inputElement = document.getElementById(inputId);\n",
              "  inputElement.disabled = false;\n",
              "\n",
              "  const outputElement = document.getElementById(outputId);\n",
              "  outputElement.innerHTML = '';\n",
              "\n",
              "  const pickedPromise = new Promise((resolve) => {\n",
              "    inputElement.addEventListener('change', (e) => {\n",
              "      resolve(e.target.files);\n",
              "    });\n",
              "  });\n",
              "\n",
              "  const cancel = document.createElement('button');\n",
              "  inputElement.parentElement.appendChild(cancel);\n",
              "  cancel.textContent = 'Cancel upload';\n",
              "  const cancelPromise = new Promise((resolve) => {\n",
              "    cancel.onclick = () => {\n",
              "      resolve(null);\n",
              "    };\n",
              "  });\n",
              "\n",
              "  // Wait for the user to pick the files.\n",
              "  const files = yield {\n",
              "    promise: Promise.race([pickedPromise, cancelPromise]),\n",
              "    response: {\n",
              "      action: 'starting',\n",
              "    }\n",
              "  };\n",
              "\n",
              "  cancel.remove();\n",
              "\n",
              "  // Disable the input element since further picks are not allowed.\n",
              "  inputElement.disabled = true;\n",
              "\n",
              "  if (!files) {\n",
              "    return {\n",
              "      response: {\n",
              "        action: 'complete',\n",
              "      }\n",
              "    };\n",
              "  }\n",
              "\n",
              "  for (const file of files) {\n",
              "    const li = document.createElement('li');\n",
              "    li.append(span(file.name, {fontWeight: 'bold'}));\n",
              "    li.append(span(\n",
              "        `(${file.type || 'n/a'}) - ${file.size} bytes, ` +\n",
              "        `last modified: ${\n",
              "            file.lastModifiedDate ? file.lastModifiedDate.toLocaleDateString() :\n",
              "                                    'n/a'} - `));\n",
              "    const percent = span('0% done');\n",
              "    li.appendChild(percent);\n",
              "\n",
              "    outputElement.appendChild(li);\n",
              "\n",
              "    const fileDataPromise = new Promise((resolve) => {\n",
              "      const reader = new FileReader();\n",
              "      reader.onload = (e) => {\n",
              "        resolve(e.target.result);\n",
              "      };\n",
              "      reader.readAsArrayBuffer(file);\n",
              "    });\n",
              "    // Wait for the data to be ready.\n",
              "    let fileData = yield {\n",
              "      promise: fileDataPromise,\n",
              "      response: {\n",
              "        action: 'continue',\n",
              "      }\n",
              "    };\n",
              "\n",
              "    // Use a chunked sending to avoid message size limits. See b/62115660.\n",
              "    let position = 0;\n",
              "    do {\n",
              "      const length = Math.min(fileData.byteLength - position, MAX_PAYLOAD_SIZE);\n",
              "      const chunk = new Uint8Array(fileData, position, length);\n",
              "      position += length;\n",
              "\n",
              "      const base64 = btoa(String.fromCharCode.apply(null, chunk));\n",
              "      yield {\n",
              "        response: {\n",
              "          action: 'append',\n",
              "          file: file.name,\n",
              "          data: base64,\n",
              "        },\n",
              "      };\n",
              "\n",
              "      let percentDone = fileData.byteLength === 0 ?\n",
              "          100 :\n",
              "          Math.round((position / fileData.byteLength) * 100);\n",
              "      percent.textContent = `${percentDone}% done`;\n",
              "\n",
              "    } while (position < fileData.byteLength);\n",
              "  }\n",
              "\n",
              "  // All done.\n",
              "  yield {\n",
              "    response: {\n",
              "      action: 'complete',\n",
              "    }\n",
              "  };\n",
              "}\n",
              "\n",
              "scope.google = scope.google || {};\n",
              "scope.google.colab = scope.google.colab || {};\n",
              "scope.google.colab._files = {\n",
              "  _uploadFiles,\n",
              "  _uploadFilesContinue,\n",
              "};\n",
              "})(self);\n",
              "</script> "
            ]
          },
          "metadata": {}
        },
        {
          "output_type": "stream",
          "name": "stdout",
          "text": [
            "Saving kaggle.json to kaggle.json\n"
          ]
        },
        {
          "output_type": "execute_result",
          "data": {
            "text/plain": [
              "{'kaggle.json': b'{\"username\":\"kevinchoooou\",\"key\":\"83cf2a5d0438ccf487ae15cf62fe261f\"}'}"
            ]
          },
          "metadata": {},
          "execution_count": 24
        }
      ],
      "source": [
        "from google.colab import files\n",
        "files.upload()"
      ]
    },
    {
      "cell_type": "code",
      "execution_count": 25,
      "metadata": {
        "id": "4ChcpVyLpOy0"
      },
      "outputs": [],
      "source": [
        "! mkdir ~/.kaggle\n",
        "! cp kaggle.json ~/.kaggle/\n",
        "! chmod 600 ~/.kaggle/kaggle.json"
      ]
    },
    {
      "cell_type": "code",
      "execution_count": 26,
      "metadata": {
        "colab": {
          "base_uri": "https://localhost:8080/"
        },
        "id": "bdJEUFxMlsqb",
        "outputId": "bfcfac33-a3ff-4ad0-d7ec-24715a7974cf"
      },
      "outputs": [
        {
          "output_type": "stream",
          "name": "stdout",
          "text": [
            "Downloading data-science-job-salaries.zip to /content\n",
            "\r  0% 0.00/7.37k [00:00<?, ?B/s]\n",
            "\r100% 7.37k/7.37k [00:00<00:00, 5.00MB/s]\n"
          ]
        }
      ],
      "source": [
        "!kaggle datasets download -d ruchi798/data-science-job-salaries"
      ]
    },
    {
      "cell_type": "code",
      "execution_count": 27,
      "metadata": {
        "colab": {
          "base_uri": "https://localhost:8080/"
        },
        "id": "nB-DqT_NqMcJ",
        "outputId": "44750967-62a6-43b8-9354-f41dafb4c649"
      },
      "outputs": [
        {
          "output_type": "stream",
          "name": "stdout",
          "text": [
            "Archive:  data-science-job-salaries.zip\n",
            "  inflating: ds_salaries.csv         \n"
          ]
        }
      ],
      "source": [
        "!unzip data-science-job-salaries.zip"
      ]
    },
    {
      "cell_type": "code",
      "execution_count": 42,
      "metadata": {
        "id": "Twcvk4elqdtD"
      },
      "outputs": [],
      "source": [
        "df2=pd.read_csv( 'ds_salaries.csv' )\n",
        "df2.rename( columns={'Unnamed: 0':'ID'}, inplace=True )\n"
      ]
    },
    {
      "cell_type": "code",
      "source": [
        "print(  df2.describe()  )\n",
        "print(  df2.head())"
      ],
      "metadata": {
        "colab": {
          "base_uri": "https://localhost:8080/"
        },
        "id": "jr3F8Wd9mFU6",
        "outputId": "2afc26c8-11ba-4dc6-f37e-2bdf5ae6e1db"
      },
      "execution_count": 46,
      "outputs": [
        {
          "output_type": "stream",
          "name": "stdout",
          "text": [
            "               ID    work_year        salary  salary_in_usd  remote_ratio\n",
            "count  607.000000   607.000000  6.070000e+02     607.000000     607.00000\n",
            "mean   303.000000  2021.405272  3.240001e+05  112297.869852      70.92257\n",
            "std    175.370085     0.692133  1.544357e+06   70957.259411      40.70913\n",
            "min      0.000000  2020.000000  4.000000e+03    2859.000000       0.00000\n",
            "25%    151.500000  2021.000000  7.000000e+04   62726.000000      50.00000\n",
            "50%    303.000000  2022.000000  1.150000e+05  101570.000000     100.00000\n",
            "75%    454.500000  2022.000000  1.650000e+05  150000.000000     100.00000\n",
            "max    606.000000  2022.000000  3.040000e+07  600000.000000     100.00000\n",
            "   ID  work_year experience_level employment_type                   job_title  \\\n",
            "0   0       2020               MI              FT              Data Scientist   \n",
            "1   1       2020               SE              FT  Machine Learning Scientist   \n",
            "2   2       2020               SE              FT           Big Data Engineer   \n",
            "3   3       2020               MI              FT        Product Data Analyst   \n",
            "4   4       2020               SE              FT   Machine Learning Engineer   \n",
            "\n",
            "   salary salary_currency  salary_in_usd employee_residence  remote_ratio  \\\n",
            "0   70000             EUR          79833                 DE             0   \n",
            "1  260000             USD         260000                 JP             0   \n",
            "2   85000             GBP         109024                 GB            50   \n",
            "3   20000             USD          20000                 HN             0   \n",
            "4  150000             USD         150000                 US            50   \n",
            "\n",
            "  company_location company_size  \n",
            "0               DE            L  \n",
            "1               JP            S  \n",
            "2               GB            M  \n",
            "3               HN            S  \n",
            "4               US            L  \n"
          ]
        }
      ]
    },
    {
      "cell_type": "code",
      "source": [
        "print(df2['work_year'].max())\n",
        "print(df2['work_year'].min())"
      ],
      "metadata": {
        "colab": {
          "base_uri": "https://localhost:8080/"
        },
        "id": "_flYSWrYmk5w",
        "outputId": "dc7cd2b0-0f97-4cff-be87-6657533c5241"
      },
      "execution_count": 47,
      "outputs": [
        {
          "output_type": "stream",
          "name": "stdout",
          "text": [
            "2022\n",
            "2020\n"
          ]
        }
      ]
    },
    {
      "cell_type": "markdown",
      "source": [
        "The data is gatherd from 2020-2022."
      ],
      "metadata": {
        "id": "4LrnSabymvHK"
      }
    },
    {
      "cell_type": "code",
      "source": [
        "by_country=df2.groupby('employee_residence').sum().sort_values(by=\"ID\",ascending=False).reset_index()\n",
        "print(by_country.head())"
      ],
      "metadata": {
        "colab": {
          "base_uri": "https://localhost:8080/"
        },
        "id": "OzSXX3P_nak5",
        "outputId": "9e8b7678-5e6f-439f-ee03-51badc223b4a"
      },
      "execution_count": 151,
      "outputs": [
        {
          "output_type": "stream",
          "name": "stdout",
          "text": [
            "  employee_residence      ID  work_year    salary  salary_in_usd  remote_ratio\n",
            "0                 US  114966     671167  49735211       49532447         25650\n",
            "1                 GB   13478      88950   2732856        3581739          2000\n",
            "2                 CA   10527      58627   3266200        2815474          2200\n",
            "3                 IN    6264      60631  56104997        1119670          1900\n",
            "4                 DE    4708      50522   1841719        2138814          1400\n"
          ]
        }
      ]
    },
    {
      "cell_type": "code",
      "source": [
        "by_country.loc[by_country['ID']<2000, 'employee_residence'] ='Others'\n"
      ],
      "metadata": {
        "id": "ngGg7NPYo5y2"
      },
      "execution_count": 152,
      "outputs": []
    },
    {
      "cell_type": "code",
      "source": [
        "by_country=by_country.groupby('employee_residence').sum().sort_values(by=\"ID\",ascending=False).reset_index()\n",
        "print(by_country.head(10))"
      ],
      "metadata": {
        "colab": {
          "base_uri": "https://localhost:8080/"
        },
        "id": "D0NFv7VapTgD",
        "outputId": "6e23f186-013b-40ed-c104-5df04f4126d7"
      },
      "execution_count": 153,
      "outputs": [
        {
          "output_type": "stream",
          "name": "stdout",
          "text": [
            "  employee_residence      ID  work_year    salary  salary_in_usd  remote_ratio\n",
            "0                 US  114966     671167  49735211       49532447         25650\n",
            "1             Others   22854     204123  80590675        6302497          6500\n",
            "2                 GB   13478      88950   2732856        3581739          2000\n",
            "3                 CA   10527      58627   3266200        2815474          2200\n",
            "4                 IN    6264      60631  56104997        1119670          1900\n",
            "5                 DE    4708      50522   1841719        2138814          1400\n",
            "6                 GR    4118      26280    656000         732306          1050\n",
            "7                 ES    3790      30318    795160         863901          1350\n",
            "8                 FR    3216      36375    945220        1077959          1000\n"
          ]
        }
      ]
    },
    {
      "cell_type": "code",
      "source": [
        "plt.pie(data=by_country,labels=\"employee_residence\",x=\"ID\")"
      ],
      "metadata": {
        "colab": {
          "base_uri": "https://localhost:8080/",
          "height": 560
        },
        "id": "puWH4BWNm-fd",
        "outputId": "f538ccd7-533d-4118-d6af-766943fe29e3"
      },
      "execution_count": 154,
      "outputs": [
        {
          "output_type": "execute_result",
          "data": {
            "text/plain": [
              "([<matplotlib.patches.Wedge at 0x7f636fca3090>,\n",
              "  <matplotlib.patches.Wedge at 0x7f636fca3550>,\n",
              "  <matplotlib.patches.Wedge at 0x7f636fca3510>,\n",
              "  <matplotlib.patches.Wedge at 0x7f636fcaa0d0>,\n",
              "  <matplotlib.patches.Wedge at 0x7f636fcaa8d0>,\n",
              "  <matplotlib.patches.Wedge at 0x7f636fcaaf90>,\n",
              "  <matplotlib.patches.Wedge at 0x7f636fcb62d0>,\n",
              "  <matplotlib.patches.Wedge at 0x7f636fcb6310>,\n",
              "  <matplotlib.patches.Wedge at 0x7f636fcaa190>],\n",
              " [Text(-0.4212187514916745, 1.0161568596391972, 'US'),\n",
              "  Text(-0.422780110457417, -1.015508236402647, 'Others'),\n",
              "  Text(0.24659163819974653, -1.0720039943815347, 'GB'),\n",
              "  Text(0.6534955391930971, -0.8848409915090527, 'CA'),\n",
              "  Text(0.8771175694803474, -0.6638258576681751, 'IN'),\n",
              "  Text(0.9854423916402267, -0.48877734476793233, 'DE'),\n",
              "  Text(1.0476735606959793, -0.33523142785038545, 'GR'),\n",
              "  Text(1.0832749715563823, -0.19108986367549485, 'ES'),\n",
              "  Text(1.0983407214702319, -0.06039585714476645, 'FR')])"
            ]
          },
          "metadata": {},
          "execution_count": 154
        },
        {
          "output_type": "display_data",
          "data": {
            "text/plain": [
              "<Figure size 432x288 with 1 Axes>"
            ],
            "image/png": "[encoded data removed]"
          },
          "metadata": {}
        }
      ]
    },
    {
      "cell_type": "markdown",
      "source": [
        "We can see most of the data science jobs are in the US."
      ],
      "metadata": {
        "id": "vznDcqTEtu6v"
      }
    },
    {
      "cell_type": "code",
      "source": [
        "newest=df2[ df2['work_year']==2022]\n"
      ],
      "metadata": {
        "id": "R5_4sf6FmDd3"
      },
      "execution_count": 155,
      "outputs": []
    },
    {
      "cell_type": "markdown",
      "source": [
        "Get 2022 data."
      ],
      "metadata": {
        "id": "ZABv76NRt5n4"
      }
    },
    {
      "cell_type": "code",
      "execution_count": 45,
      "metadata": {
        "colab": {
          "base_uri": "https://localhost:8080/"
        },
        "id": "_dcnrkPJkSoV",
        "outputId": "80fd9e0a-8808-44c4-cf18-54270300df6c"
      },
      "outputs": [
        {
          "output_type": "stream",
          "name": "stdout",
          "text": [
            "               ID  work_year        salary  salary_in_usd  remote_ratio\n",
            "count  318.000000      318.0  3.180000e+02     318.000000    318.000000\n",
            "mean   447.500000     2022.0  1.588278e+05  124522.006289     73.584906\n",
            "std     91.942917        0.0  3.712070e+05   58183.647585     43.072575\n",
            "min    289.000000     2022.0  1.000000e+04   10000.000000      0.000000\n",
            "25%    368.250000     2022.0  8.041650e+04   81666.000000     50.000000\n",
            "50%    447.500000     2022.0  1.230000e+05  120000.000000    100.000000\n",
            "75%    526.750000     2022.0  1.600600e+05  160000.000000    100.000000\n",
            "max    606.000000     2022.0  6.000000e+06  405000.000000    100.000000\n"
          ]
        }
      ],
      "source": [
        "print(newest.describe())\n"
      ]
    },
    {
      "cell_type": "markdown",
      "source": [
        "There is no missing value"
      ],
      "metadata": {
        "id": "p8T5u3rSt_KK"
      }
    },
    {
      "cell_type": "code",
      "execution_count": 30,
      "metadata": {
        "colab": {
          "base_uri": "https://localhost:8080/"
        },
        "id": "h3TqfycNrLu2",
        "outputId": "083d7f48-c999-4da0-dd85-7cb2bdd7286f"
      },
      "outputs": [
        {
          "output_type": "stream",
          "name": "stdout",
          "text": [
            "      ID  work_year experience_level employment_type       job_title  salary  \\\n",
            "289  289       2022               SE              FT   Data Engineer  135000   \n",
            "290  290       2022               SE              FT    Data Analyst  155000   \n",
            "291  291       2022               SE              FT    Data Analyst  120600   \n",
            "292  292       2022               MI              FT  Data Scientist  130000   \n",
            "293  293       2022               MI              FT  Data Scientist   90000   \n",
            "\n",
            "    salary_currency  salary_in_usd employee_residence  remote_ratio  \\\n",
            "289             USD         135000                 US           100   \n",
            "290             USD         155000                 US           100   \n",
            "291             USD         120600                 US           100   \n",
            "292             USD         130000                 US             0   \n",
            "293             USD          90000                 US             0   \n",
            "\n",
            "    company_location company_size  \n",
            "289               US            M  \n",
            "290               US            M  \n",
            "291               US            M  \n",
            "292               US            M  \n",
            "293               US            M  \n"
          ]
        }
      ],
      "source": [
        "\n",
        "print(newest.head())\n"
      ]
    },
    {
      "cell_type": "markdown",
      "metadata": {
        "id": "Auf7T6RXdlXq"
      },
      "source": [
        "We can see from the DataFrame, there 11 columns which represents different attributes for Data Science job salaries.\n",
        "I wish to analyiss the newest data(2022) can try to find top 5 job titles that earn the most after coverted back to USD. "
      ]
    },
    {
      "cell_type": "code",
      "execution_count": 156,
      "metadata": {
        "colab": {
          "base_uri": "https://localhost:8080/"
        },
        "id": "AyW87BKNrnW8",
        "outputId": "69d13357-5aeb-41ef-9d9e-c41dac4bfef0"
      },
      "outputs": [
        {
          "output_type": "stream",
          "name": "stdout",
          "text": [
            "['Data Engineer' 'Data Analyst' 'Data Scientist' 'Head of Data Science'\n",
            " 'Analytics Engineer' 'Data Science Manager' 'Data Architect'\n",
            " 'Machine Learning Engineer' 'ETL Developer' 'Lead Data Engineer'\n",
            " 'Head of Machine Learning' 'AI Scientist' 'Data Analytics Manager'\n",
            " 'Data Science Engineer' 'Machine Learning Scientist' 'ML Engineer'\n",
            " 'Machine Learning Developer' 'Director of Data Science'\n",
            " 'Computer Vision Engineer' 'NLP Engineer'\n",
            " 'Lead Machine Learning Engineer' 'Business Data Analyst'\n",
            " 'Machine Learning Infrastructure Engineer' 'Financial Data Analyst'\n",
            " 'Principal Data Scientist' 'Research Scientist'\n",
            " 'Applied Machine Learning Scientist' 'Head of Data'\n",
            " 'Principal Data Analyst' 'Applied Data Scientist'\n",
            " 'Computer Vision Software Engineer' 'Data Analytics Engineer'\n",
            " 'Data Analytics Lead']\n"
          ]
        }
      ],
      "source": [
        "print(  pd.unique  (newest['job_title'])  )\n"
      ]
    },
    {
      "cell_type": "code",
      "execution_count": 32,
      "metadata": {
        "colab": {
          "base_uri": "https://localhost:8080/"
        },
        "id": "fN4W9IVVwS4D",
        "outputId": "8c0306a5-6fd8-419c-d27d-2a1fd254a9c0"
      },
      "outputs": [
        {
          "output_type": "stream",
          "name": "stdout",
          "text": [
            "      ID  work_year experience_level employment_type       job_title  salary  \\\n",
            "289  289       2022               SE              FT   Data Engineer  135000   \n",
            "290  290       2022               SE              FT    Data Analyst  155000   \n",
            "291  291       2022               SE              FT    Data Analyst  120600   \n",
            "292  292       2022               MI              FT  Data Scientist  130000   \n",
            "293  293       2022               MI              FT  Data Scientist   90000   \n",
            "\n",
            "    salary_currency  salary_in_usd employee_residence  remote_ratio  \\\n",
            "289             USD         135000                 US           100   \n",
            "290             USD         155000                 US           100   \n",
            "291             USD         120600                 US           100   \n",
            "292             USD         130000                 US             0   \n",
            "293             USD          90000                 US             0   \n",
            "\n",
            "    company_location company_size  \n",
            "289               US            M  \n",
            "290               US            M  \n",
            "291               US            M  \n",
            "292               US            M  \n",
            "293               US            M  \n"
          ]
        }
      ],
      "source": [
        "top_5=newest.groupby(['job_title'])['salary_in_usd'].count().nlargest(5).reset_index()\n",
        "\n",
        "top_5_jobs_list=list(top_5['job_title'])  \n",
        "\n",
        "top_5_jobs=newest[newest['job_title'].isin(top_5_jobs_list)]\n",
        "print(top_5_jobs.head() ) "
      ]
    },
    {
      "cell_type": "markdown",
      "source": [
        "Get data that their job title is in the top five most popular ones."
      ],
      "metadata": {
        "id": "P6q1IoFEuMWn"
      }
    },
    {
      "cell_type": "code",
      "execution_count": 33,
      "metadata": {
        "colab": {
          "base_uri": "https://localhost:8080/",
          "height": 400
        },
        "id": "BsQw7y-CzdUG",
        "outputId": "445ad9ae-a597-4eb7-d4a3-f3f7aa92226a"
      },
      "outputs": [
        {
          "output_type": "stream",
          "name": "stderr",
          "text": [
            "WARNING:matplotlib.legend:No handles with labels found to put in legend.\n"
          ]
        },
        {
          "output_type": "execute_result",
          "data": {
            "text/plain": [
              "<matplotlib.legend.Legend at 0x7f63736e3650>"
            ]
          },
          "metadata": {},
          "execution_count": 33
        },
        {
          "output_type": "display_data",
          "data": {
            "text/plain": [
              "<Figure size 360x360 with 1 Axes>"
            ],
            "image/png": "[encoded data removed]"
          },
          "metadata": {}
        }
      ],
      "source": [
        "import seaborn as sns\n",
        "import  matplotlib.pyplot as plt\n",
        "sns.set(font_scale=1)\n",
        "sns.catplot(data=top_5,y='job_title',x='salary_in_usd',kind=\"bar\")\n",
        "plt.ylabel(\"Job Title\")\n",
        "plt.xlabel('Count')\n",
        "plt.legend(fontsize=10)"
      ]
    },
    {
      "cell_type": "code",
      "execution_count": 34,
      "metadata": {
        "colab": {
          "base_uri": "https://localhost:8080/"
        },
        "id": "ZSdb7yAE5vru",
        "outputId": "7f7381b4-0cf1-440d-c674-6c8cabc58093"
      },
      "outputs": [
        {
          "output_type": "stream",
          "name": "stdout",
          "text": [
            "                   job_title  salary_in_usd\n",
            "0             Data Architect  182076.625000\n",
            "1             Data Scientist  136172.090909\n",
            "2  Machine Learning Engineer  129451.944444\n",
            "3              Data Engineer  126375.696629\n",
            "4               Data Analyst  100550.739726\n"
          ]
        }
      ],
      "source": [
        "top_5_by_sal= top_5_jobs.groupby('job_title')['salary_in_usd'].mean().sort_values(ascending=False).reset_index()\n",
        "print(top_5_by_sal)"
      ]
    },
    {
      "cell_type": "code",
      "execution_count": 195,
      "metadata": {
        "colab": {
          "base_uri": "https://localhost:8080/",
          "height": 382
        },
        "id": "qwIkDJA474HK",
        "outputId": "a992dc8f-44d2-4466-f19f-46a6a97572db"
      },
      "outputs": [
        {
          "output_type": "execute_result",
          "data": {
            "text/plain": [
              "Text(0.5, 8.95999999999998, 'Salary In USD')"
            ]
          },
          "metadata": {},
          "execution_count": 195
        },
        {
          "output_type": "display_data",
          "data": {
            "text/plain": [
              "<Figure size 360x360 with 1 Axes>"
            ],
            "image/png": "[encoded data removed]"
          },
          "metadata": {}
        }
      ],
      "source": [
        "import seaborn as sns\n",
        "import  matplotlib.pyplot as plt\n",
        "ax=sns.catplot(data=top_5_by_sal,y='job_title',x='salary_in_usd',kind=\"bar\")\n",
        "plt.ylabel(\"Job Title\")\n",
        "plt.xlabel('Salary In USD')\n",
        "\n"
      ]
    },
    {
      "cell_type": "code",
      "execution_count": 36,
      "metadata": {
        "colab": {
          "base_uri": "https://localhost:8080/"
        },
        "id": "A_Drz6uqeq0C",
        "outputId": "a7140e7d-2ab9-43c2-e1f9-1bd68278e4a6"
      },
      "outputs": [
        {
          "output_type": "stream",
          "name": "stdout",
          "text": [
            "      ID  work_year experience_level employment_type       job_title  salary  \\\n",
            "289  289       2022               SE              FT   Data Engineer  135000   \n",
            "290  290       2022               SE              FT    Data Analyst  155000   \n",
            "291  291       2022               SE              FT    Data Analyst  120600   \n",
            "292  292       2022               MI              FT  Data Scientist  130000   \n",
            "293  293       2022               MI              FT  Data Scientist   90000   \n",
            "\n",
            "    salary_currency  salary_in_usd employee_residence  remote_ratio  \\\n",
            "289             USD         135000                 US           100   \n",
            "290             USD         155000                 US           100   \n",
            "291             USD         120600                 US           100   \n",
            "292             USD         130000                 US             0   \n",
            "293             USD          90000                 US             0   \n",
            "\n",
            "    company_location company_size  \n",
            "289               US            M  \n",
            "290               US            M  \n",
            "291               US            M  \n",
            "292               US            M  \n",
            "293               US            M  \n"
          ]
        }
      ],
      "source": [
        "print(newest.head())"
      ]
    },
    {
      "cell_type": "code",
      "execution_count": 37,
      "metadata": {
        "id": "iPk2f2fqe29X"
      },
      "outputs": [],
      "source": [
        "by_remote= newest.groupby('job_title')['remote_ratio'].mean().sort_values(ascending=False).reset_index()\n",
        "by_remote=by_remote[ by_remote ['remote_ratio']>=75]"
      ]
    },
    {
      "cell_type": "markdown",
      "metadata": {
        "id": "FJPENdJlfTv1"
      },
      "source": [
        "But if you are looking for jobs that allow you to work remotely, these are the top choices."
      ]
    },
    {
      "cell_type": "code",
      "execution_count": 38,
      "metadata": {
        "colab": {
          "base_uri": "https://localhost:8080/",
          "height": 382
        },
        "id": "jWQOrRO_fl3W",
        "outputId": "615a2e6a-c170-41f1-c4cd-ea842271a05c"
      },
      "outputs": [
        {
          "output_type": "execute_result",
          "data": {
            "text/plain": [
              "Text(-170.41500000000002, 0.5, 'Job Title')"
            ]
          },
          "metadata": {},
          "execution_count": 38
        },
        {
          "output_type": "display_data",
          "data": {
            "text/plain": [
              "<Figure size 360x360 with 1 Axes>"
            ],
            "image/png": "[encoded data removed]"
          },
          "metadata": {}
        }
      ],
      "source": [
        "import seaborn as sns\n",
        "import  matplotlib.pyplot as plt\n",
        "sns.catplot(data=by_remote,y='job_title',x='remote_ratio',kind=\"bar\")\n",
        "plt.xlabel(\"Average remote ratio\")\n",
        "plt.ylabel('Job Title')\n"
      ]
    },
    {
      "cell_type": "code",
      "source": [
        "df2.head()"
      ],
      "metadata": {
        "colab": {
          "base_uri": "https://localhost:8080/",
          "height": 302
        },
        "id": "0fq0TXt8lull",
        "outputId": "5eb88769-8353-45ff-a5c8-dd7840a47dc4"
      },
      "execution_count": 39,
      "outputs": [
        {
          "output_type": "execute_result",
          "data": {
            "text/plain": [
              "   Unnamed: 0  work_year experience_level employment_type  \\\n",
              "0           0       2020               MI              FT   \n",
              "1           1       2020               SE              FT   \n",
              "2           2       2020               SE              FT   \n",
              "3           3       2020               MI              FT   \n",
              "4           4       2020               SE              FT   \n",
              "\n",
              "                    job_title  salary salary_currency  salary_in_usd  \\\n",
              "0              Data Scientist   70000             EUR          79833   \n",
              "1  Machine Learning Scientist  260000             USD         260000   \n",
              "2           Big Data Engineer   85000             GBP         109024   \n",
              "3        Product Data Analyst   20000             USD          20000   \n",
              "4   Machine Learning Engineer  150000             USD         150000   \n",
              "\n",
              "  employee_residence  remote_ratio company_location company_size  \n",
              "0                 DE             0               DE            L  \n",
              "1                 JP             0               JP            S  \n",
              "2                 GB            50               GB            M  \n",
              "3                 HN             0               HN            S  \n",
              "4                 US            50               US            L  "
            ],
            "text/html": [
              "\n",
              "  <div id=\"df-e53f9741-588b-4596-9773-bd78ba68f10c\">\n",
              "    <div class=\"colab-df-container\">\n",
              "      <div>\n",
              "<style scoped>\n",
              "    .dataframe tbody tr th:only-of-type {\n",
              "        vertical-align: middle;\n",
              "    }\n",
              "\n",
              "    .dataframe tbody tr th {\n",
              "        vertical-align: top;\n",
              "    }\n",
              "\n",
              "    .dataframe thead th {\n",
              "        text-align: right;\n",
              "    }\n",
              "</style>\n",
              "<table border=\"1\" class=\"dataframe\">\n",
              "  <thead>\n",
              "    <tr style=\"text-align: right;\">\n",
              "      <th></th>\n",
              "      <th>Unnamed: 0</th>\n",
              "      <th>work_year</th>\n",
              "      <th>experience_level</th>\n",
              "      <th>employment_type</th>\n",
              "      <th>job_title</th>\n",
              "      <th>salary</th>\n",
              "      <th>salary_currency</th>\n",
              "      <th>salary_in_usd</th>\n",
              "      <th>employee_residence</th>\n",
              "      <th>remote_ratio</th>\n",
              "      <th>company_location</th>\n",
              "      <th>company_size</th>\n",
              "    </tr>\n",
              "  </thead>\n",
              "  <tbody>\n",
              "    <tr>\n",
              "      <th>0</th>\n",
              "      <td>0</td>\n",
              "      <td>2020</td>\n",
              "      <td>MI</td>\n",
              "      <td>FT</td>\n",
              "      <td>Data Scientist</td>\n",
              "      <td>70000</td>\n",
              "      <td>EUR</td>\n",
              "      <td>79833</td>\n",
              "      <td>DE</td>\n",
              "      <td>0</td>\n",
              "      <td>DE</td>\n",
              "      <td>L</td>\n",
              "    </tr>\n",
              "    <tr>\n",
              "      <th>1</th>\n",
              "      <td>1</td>\n",
              "      <td>2020</td>\n",
              "      <td>SE</td>\n",
              "      <td>FT</td>\n",
              "      <td>Machine Learning Scientist</td>\n",
              "      <td>260000</td>\n",
              "      <td>USD</td>\n",
              "      <td>260000</td>\n",
              "      <td>JP</td>\n",
              "      <td>0</td>\n",
              "      <td>JP</td>\n",
              "      <td>S</td>\n",
              "    </tr>\n",
              "    <tr>\n",
              "      <th>2</th>\n",
              "      <td>2</td>\n",
              "      <td>2020</td>\n",
              "      <td>SE</td>\n",
              "      <td>FT</td>\n",
              "      <td>Big Data Engineer</td>\n",
              "      <td>85000</td>\n",
              "      <td>GBP</td>\n",
              "      <td>109024</td>\n",
              "      <td>GB</td>\n",
              "      <td>50</td>\n",
              "      <td>GB</td>\n",
              "      <td>M</td>\n",
              "    </tr>\n",
              "    <tr>\n",
              "      <th>3</th>\n",
              "      <td>3</td>\n",
              "      <td>2020</td>\n",
              "      <td>MI</td>\n",
              "      <td>FT</td>\n",
              "      <td>Product Data Analyst</td>\n",
              "      <td>20000</td>\n",
              "      <td>USD</td>\n",
              "      <td>20000</td>\n",
              "      <td>HN</td>\n",
              "      <td>0</td>\n",
              "      <td>HN</td>\n",
              "      <td>S</td>\n",
              "    </tr>\n",
              "    <tr>\n",
              "      <th>4</th>\n",
              "      <td>4</td>\n",
              "      <td>2020</td>\n",
              "      <td>SE</td>\n",
              "      <td>FT</td>\n",
              "      <td>Machine Learning Engineer</td>\n",
              "      <td>150000</td>\n",
              "      <td>USD</td>\n",
              "      <td>150000</td>\n",
              "      <td>US</td>\n",
              "      <td>50</td>\n",
              "      <td>US</td>\n",
              "      <td>L</td>\n",
              "    </tr>\n",
              "  </tbody>\n",
              "</table>\n",
              "</div>\n",
              "      <button class=\"colab-df-convert\" onclick=\"convertToInteractive('df-e53f9741-588b-4596-9773-bd78ba68f10c')\"\n",
              "              title=\"Convert this dataframe to an interactive table.\"\n",
              "              style=\"display:none;\">\n",
              "        \n",
              "  <svg xmlns=\"http://www.w3.org/2000/svg\" height=\"24px\"viewBox=\"0 0 24 24\"\n",
              "       width=\"24px\">\n",
              "    <path d=\"M0 0h24v24H0V0z\" fill=\"none\"/>\n",
              "    <path d=\"M18.56 5.44l.94 2.06.94-2.06 2.06-.94-2.06-.94-.94-2.06-.94 2.06-2.06.94zm-11 1L8.5 8.5l.94-2.06 2.06-.94-2.06-.94L8.5 2.5l-.94 2.06-2.06.94zm10 10l.94 2.06.94-2.06 2.06-.94-2.06-.94-.94-2.06-.94 2.06-2.06.94z\"/><path d=\"M17.41 7.96l-1.37-1.37c-.4-.4-.92-.59-1.43-.59-.52 0-1.04.2-1.43.59L10.3 9.45l-7.72 7.72c-.78.78-.78 2.05 0 2.83L4 21.41c.39.39.9.59 1.41.59.51 0 1.02-.2 1.41-.59l7.78-7.78 2.81-2.81c.8-.78.8-2.07 0-2.86zM5.41 20L4 18.59l7.72-7.72 1.47 1.35L5.41 20z\"/>\n",
              "  </svg>\n",
              "      </button>\n",
              "      \n",
              "  <style>\n",
              "    .colab-df-container {\n",
              "      display:flex;\n",
              "      flex-wrap:wrap;\n",
              "      gap: 12px;\n",
              "    }\n",
              "\n",
              "    .colab-df-convert {\n",
              "      background-color: #E8F0FE;\n",
              "      border: none;\n",
              "      border-radius: 50%;\n",
              "      cursor: pointer;\n",
              "      display: none;\n",
              "      fill: #1967D2;\n",
              "      height: 32px;\n",
              "      padding: 0 0 0 0;\n",
              "      width: 32px;\n",
              "    }\n",
              "\n",
              "    .colab-df-convert:hover {\n",
              "      background-color: #E2EBFA;\n",
              "      box-shadow: 0px 1px 2px rgba(60, 64, 67, 0.3), 0px 1px 3px 1px rgba(60, 64, 67, 0.15);\n",
              "      fill: #174EA6;\n",
              "    }\n",
              "\n",
              "    [theme=dark] .colab-df-convert {\n",
              "      background-color: #3B4455;\n",
              "      fill: #D2E3FC;\n",
              "    }\n",
              "\n",
              "    [theme=dark] .colab-df-convert:hover {\n",
              "      background-color: #434B5C;\n",
              "      box-shadow: 0px 1px 3px 1px rgba(0, 0, 0, 0.15);\n",
              "      filter: drop-shadow(0px 1px 2px rgba(0, 0, 0, 0.3));\n",
              "      fill: #FFFFFF;\n",
              "    }\n",
              "  </style>\n",
              "\n",
              "      <script>\n",
              "        const buttonEl =\n",
              "          document.querySelector('#df-e53f9741-588b-4596-9773-bd78ba68f10c button.colab-df-convert');\n",
              "        buttonEl.style.display =\n",
              "          google.colab.kernel.accessAllowed ? 'block' : 'none';\n",
              "\n",
              "        async function convertToInteractive(key) {\n",
              "          const element = document.querySelector('#df-e53f9741-588b-4596-9773-bd78ba68f10c');\n",
              "          const dataTable =\n",
              "            await google.colab.kernel.invokeFunction('convertToInteractive',\n",
              "                                                     [key], {});\n",
              "          if (!dataTable) return;\n",
              "\n",
              "          const docLinkHtml = 'Like what you see? Visit the ' +\n",
              "            '<a target=\"_blank\" href=https://colab.research.google.com/notebooks/data_table.ipynb>data table notebook</a>'\n",
              "            + ' to learn more about interactive tables.';\n",
              "          element.innerHTML = '';\n",
              "          dataTable['output_type'] = 'display_data';\n",
              "          await google.colab.output.renderOutput(dataTable, element);\n",
              "          const docLink = document.createElement('div');\n",
              "          docLink.innerHTML = docLinkHtml;\n",
              "          element.appendChild(docLink);\n",
              "        }\n",
              "      </script>\n",
              "    </div>\n",
              "  </div>\n",
              "  "
            ]
          },
          "metadata": {},
          "execution_count": 39
        }
      ]
    },
    {
      "cell_type": "code",
      "source": [
        "by_year=df2.groupby('work_year').mean().reset_index()\n",
        "print(by_year.describe(),\"\\n\\n\")\n",
        "print(by_year.head())"
      ],
      "metadata": {
        "colab": {
          "base_uri": "https://localhost:8080/"
        },
        "id": "BpwCsAuTvD0q",
        "outputId": "6362b531-a81a-4f77-ef67-863f487a04c3"
      },
      "execution_count": 192,
      "outputs": [
        {
          "output_type": "stream",
          "name": "stdout",
          "text": [
            "       work_year          ID         salary  salary_in_usd  remote_ratio\n",
            "count        3.0    3.000000       3.000000       3.000000      3.000000\n",
            "mean      2021.0  221.000000  362630.469790  106729.599639     69.097554\n",
            "std          1.0  209.037676  194678.057221   15540.569555      4.500846\n",
            "min       2020.0   35.500000  158827.786164   95813.000000     64.583333\n",
            "25%       2020.5  107.750000  270607.011137   97833.396313     66.853879\n",
            "50%       2021.0  180.000000  382386.236111   99853.792627     69.124424\n",
            "75%       2021.5  313.750000  464531.811604  112187.899458     71.354665\n",
            "max       2022.0  447.500000  546677.387097  124522.006289     73.584906 \n",
            "\n",
            "\n",
            "   work_year     ID         salary  salary_in_usd  remote_ratio\n",
            "0       2020   35.5  382386.236111   95813.000000     64.583333\n",
            "1       2021  180.0  546677.387097   99853.792627     69.124424\n",
            "2       2022  447.5  158827.786164  124522.006289     73.584906\n"
          ]
        }
      ]
    },
    {
      "cell_type": "code",
      "source": [
        "sns.relplot(data=by_year,x='work_year',y='salary_in_usd',kind=\"line\").set(title=\"Average salary in USD by year\")\n",
        "sns.relplot(data=by_year,x='work_year',y='remote_ratio',kind=\"line\").set(title=\"Average remote ratio by year\")"
      ],
      "metadata": {
        "colab": {
          "base_uri": "https://localhost:8080/",
          "height": 759
        },
        "id": "aRUnDl2tvZAB",
        "outputId": "55d680b4-dd77-45c0-bd82-9f543bb52d7a"
      },
      "execution_count": 188,
      "outputs": [
        {
          "output_type": "execute_result",
          "data": {
            "text/plain": [
              "<seaborn.axisgrid.FacetGrid at 0x7f636f15cb90>"
            ]
          },
          "metadata": {},
          "execution_count": 188
        },
        {
          "output_type": "display_data",
          "data": {
            "text/plain": [
              "<Figure size 360x360 with 1 Axes>"
            ],
            "image/png": "[encoded data removed]"
          },
          "metadata": {}
        },
        {
          "output_type": "display_data",
          "data": {
            "text/plain": [
              "<Figure size 360x360 with 1 Axes>"
            ],
            "image/png": "[encoded data removed]"
          },
          "metadata": {}
        }
      ]
    },
    {
      "cell_type": "markdown",
      "source": [
        "We can also see from the chart in the front, the average salary and remote ration is increasing."
      ],
      "metadata": {
        "id": "y6FrEk4wl9l0"
      }
    }
  ],
  "metadata": {
    "colab": {
      "collapsed_sections": [],
      "provenance": []
    },
    "kernelspec": {
      "display_name": "Python 3",
      "name": "python3"
    },
    "language_info": {
      "name": "python"
    }
  },
  "nbformat": 4,
  "nbformat_minor": 0
}