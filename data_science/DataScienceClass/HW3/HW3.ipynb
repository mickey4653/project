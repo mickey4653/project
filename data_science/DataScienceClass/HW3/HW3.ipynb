{
 "cells": [
  {
   "cell_type": "code",
   "execution_count": 1,
   "metadata": {},
   "outputs": [],
   "source": [
    "import pandas as pd\n",
    "import numpy as np\n",
    "import matplotlib.pyplot as plt\n",
    "from sklearn import preprocessing\n",
    "import seaborn as sns\n",
    "import re\n",
    "from sklearn.preprocessing import StandardScaler\n",
    "from sklearn.preprocessing import MinMaxScaler\n",
    "from sklearn.model_selection import train_test_split\n",
    "from sklearn.linear_model import LogisticRegression\n",
    "from sklearn.metrics import confusion_matrix"
   ]
  },
  {
   "cell_type": "markdown",
   "metadata": {},
   "source": [
    "load data from csv file."
   ]
  },
  {
   "cell_type": "code",
   "execution_count": 2,
   "metadata": {},
   "outputs": [],
   "source": [
    "train=pd.read_csv('./data/qb.train.csv')"
   ]
  },
  {
   "cell_type": "code",
   "execution_count": 3,
   "metadata": {},
   "outputs": [],
   "source": [
    "test=pd.read_csv('./data/qb.test.csv')"
   ]
  },
  {
   "cell_type": "markdown",
   "metadata": {},
   "source": [
    "Method from helper "
   ]
  },
  {
   "cell_type": "code",
   "execution_count": 4,
   "metadata": {},
   "outputs": [],
   "source": [
    "def paren_match(row):\n",
    "    page = row['page']\n",
    "    text = row['text']\n",
    "    page = re.sub('[\\(|.|\\)|,|\"|\\t]', '', page)\n",
    "    page = page.split(' ')\n",
    "    page = [x.lower() for x in page]\n",
    "    text = re.sub('[\\(|.|\\)|,|\"|\\t]', ' ', text)\n",
    "    text = text.split(' ')\n",
    "    text = [x.lower() for x in text]\n",
    "    count = 0\n",
    "    for item in page:\n",
    "        if item in text and item not in [' ', 'at', 'a', 'of', 'the', 'on']:\n",
    "            count += 1\n",
    "    return count\n"
   ]
  },
  {
   "cell_type": "markdown",
   "metadata": {},
   "source": [
    "Data processing from helper"
   ]
  },
  {
   "cell_type": "code",
   "execution_count": 5,
   "metadata": {},
   "outputs": [],
   "source": [
    "train['paren_match'] = train.apply(paren_match, axis=1)\n",
    "train['obs_len'] = train['text'].apply(len)"
   ]
  },
  {
   "cell_type": "markdown",
   "metadata": {},
   "source": [
    "Standarlize"
   ]
  },
  {
   "cell_type": "code",
   "execution_count": 6,
   "metadata": {},
   "outputs": [
    {
     "name": "stdout",
     "output_type": "stream",
     "text": [
      "   row  body_score                 page               answer  \\\n",
      "0    1  127.398036  Comus (John Milton)  Comus (John Milton)   \n",
      "1    2   50.212336                Circe  Comus (John Milton)   \n",
      "2    3   44.767071                Satyr  Comus (John Milton)   \n",
      "3    4   44.058274       Philip K. Dick         Wilfred Owen   \n",
      "4    5   40.675249     Honore de Balzac         Wilfred Owen   \n",
      "\n",
      "                                                text    category  \\\n",
      "0  First performed in Ludlow Castle by the childr...  Literature   \n",
      "1  First performed in Ludlow Castle by the childr...  Literature   \n",
      "2  First performed in Ludlow Castle by the childr...  Literature   \n",
      "3  This author is convinced by another to publish...  Literature   \n",
      "4  This author is convinced by another to publish...  Literature   \n",
      "\n",
      "          tournaments answer_type   corr  inlinks  paren_match  obs_len  \\\n",
      "0  2000 ACF Nationals        work   True       63            2      352   \n",
      "1  2000 ACF Nationals        None  False        6            1      352   \n",
      "2  2000 ACF Nationals        None  False        7            0      352   \n",
      "3     2009 ACF Winter      people  False       23            0      327   \n",
      "4     2009 ACF Winter        None  False        1            0      327   \n",
      "\n",
      "   inlinks_log  inlinks_scaled  \n",
      "0     5.977280        0.388181  \n",
      "1     2.584963        0.167875  \n",
      "2     2.807355        0.182317  \n",
      "3     4.523562        0.293773  \n",
      "4     0.000000        0.000000  \n"
     ]
    }
   ],
   "source": [
    "scaler = MinMaxScaler()\n",
    "train['inlinks'] += 1\n",
    "train['inlinks_log'] = np.log2(train['inlinks']) \n",
    "train[['inlinks_scaled']]  = scaler.fit_transform(train[['inlinks_log']])\n",
    "\n",
    "print(train.head())\n"
   ]
  },
  {
   "cell_type": "code",
   "execution_count": 7,
   "metadata": {},
   "outputs": [],
   "source": [
    "# one hot encoding for categorical variables\n",
    "\n",
    "#X = pd.get_dummies(X[['category']])\n",
    "train = pd.get_dummies(train, columns = ['category', 'tournaments', 'answer_type', \n",
    "'corr'])\n",
    "# corr is now corr_True\n"
   ]
  },
  {
   "cell_type": "code",
   "execution_count": 8,
   "metadata": {},
   "outputs": [],
   "source": [
    "features = pd.DataFrame(train, columns=['body_score', 'inlinks'])\n",
    "\n",
    "y = train['corr_True']\n",
    "#x = train.drop(['corr_True'], axis=1)\n",
    "x = features\n",
    "\n"
   ]
  },
  {
   "cell_type": "code",
   "execution_count": 9,
   "metadata": {},
   "outputs": [
    {
     "name": "stdout",
     "output_type": "stream",
     "text": [
      "(6463, 2) (1616, 2) (6463,) (1616,)\n"
     ]
    }
   ],
   "source": [
    "train_x, test_x, train_y, test_y = train_test_split(x, y, test_size=0.2,random_state=1)\n",
    "print(train_x.shape, test_x.shape, train_y.shape, test_y.shape)"
   ]
  },
  {
   "cell_type": "markdown",
   "metadata": {},
   "source": [
    "2.a. Try using logistic regression, SVM (multiple kernels), and decision trees. "
   ]
  },
  {
   "cell_type": "code",
   "execution_count": 10,
   "metadata": {},
   "outputs": [],
   "source": [
    "from sklearn.linear_model import LogisticRegression\n",
    "from sklearn.svm import SVC\n",
    "from sklearn import tree\n",
    "from sklearn.metrics import accuracy_score\n",
    "from sklearn.metrics import plot_confusion_matrix\n",
    "\n",
    "models=[LogisticRegression(),SVC(kernel=\"linear\"),SVC(kernel=\"poly\"),SVC(kernel=\"rbf\"),SVC(kernel=\"sigmoid\"),tree.DecisionTreeClassifier()]\n",
    "result={}"
   ]
  },
  {
   "cell_type": "code",
   "execution_count": 11,
   "metadata": {},
   "outputs": [
    {
     "name": "stdout",
     "output_type": "stream",
     "text": [
      "model= LogisticRegression() acc= 0.6918316831683168\n"
     ]
    },
    {
     "name": "stderr",
     "output_type": "stream",
     "text": [
      "c:\\Users\\ke012\\AppData\\Local\\Programs\\Python\\Python310\\lib\\site-packages\\sklearn\\utils\\deprecation.py:87: FutureWarning: Function plot_confusion_matrix is deprecated; Function `plot_confusion_matrix` is deprecated in 1.0 and will be removed in 1.2. Use one of the class methods: ConfusionMatrixDisplay.from_predictions or ConfusionMatrixDisplay.from_estimator.\n",
      "  warnings.warn(msg, category=FutureWarning)\n"
     ]
    },
    {
     "data": {
      "image/png": "[encoded data removed]",
      "text/plain": [
       "<Figure size 640x480 with 2 Axes>"
      ]
     },
     "metadata": {},
     "output_type": "display_data"
    }
   ],
   "source": [
    "from sklearn.metrics import plot_confusion_matrix\n",
    "# result={}\n",
    "\n",
    "x=models[0]\n",
    "x.fit(train_x, train_y)\n",
    "pred=x.predict(test_x)\n",
    "result[x]=accuracy_score(test_y, pred  )\n",
    "print('model=',x,'acc=',result[x])\n",
    "plot_confusion_matrix(x, test_x,test_y)  \n",
    "plt.show()\n",
    "\n"
   ]
  },
  {
   "cell_type": "markdown",
   "metadata": {},
   "source": [
    "SVM"
   ]
  },
  {
   "cell_type": "code",
   "execution_count": 12,
   "metadata": {},
   "outputs": [
    {
     "name": "stdout",
     "output_type": "stream",
     "text": [
      "model= SVC(kernel='linear') acc= 0.7035891089108911\n"
     ]
    },
    {
     "name": "stderr",
     "output_type": "stream",
     "text": [
      "c:\\Users\\ke012\\AppData\\Local\\Programs\\Python\\Python310\\lib\\site-packages\\sklearn\\utils\\deprecation.py:87: FutureWarning: Function plot_confusion_matrix is deprecated; Function `plot_confusion_matrix` is deprecated in 1.0 and will be removed in 1.2. Use one of the class methods: ConfusionMatrixDisplay.from_predictions or ConfusionMatrixDisplay.from_estimator.\n",
      "  warnings.warn(msg, category=FutureWarning)\n"
     ]
    },
    {
     "data": {
      "image/png": "[encoded data removed]",
      "text/plain": [
       "<Figure size 640x480 with 2 Axes>"
      ]
     },
     "metadata": {},
     "output_type": "display_data"
    }
   ],
   "source": [
    "from sklearn.metrics import plot_confusion_matrix\n",
    "\n",
    "x=models[1]\n",
    "x.fit(train_x, train_y)\n",
    "pred=x.predict(test_x)\n",
    "result[x]=accuracy_score(test_y, pred  )\n",
    "print('model=',x,'acc=',result[x])\n",
    "plot_confusion_matrix(x, test_x,test_y)  \n",
    "plt.show()\n",
    "\n"
   ]
  },
  {
   "cell_type": "code",
   "execution_count": 13,
   "metadata": {},
   "outputs": [
    {
     "name": "stdout",
     "output_type": "stream",
     "text": [
      "model= SVC(kernel='poly') acc= 0.5612623762376238\n"
     ]
    },
    {
     "name": "stderr",
     "output_type": "stream",
     "text": [
      "c:\\Users\\ke012\\AppData\\Local\\Programs\\Python\\Python310\\lib\\site-packages\\sklearn\\utils\\deprecation.py:87: FutureWarning: Function plot_confusion_matrix is deprecated; Function `plot_confusion_matrix` is deprecated in 1.0 and will be removed in 1.2. Use one of the class methods: ConfusionMatrixDisplay.from_predictions or ConfusionMatrixDisplay.from_estimator.\n",
      "  warnings.warn(msg, category=FutureWarning)\n"
     ]
    },
    {
     "data": {
      "image/png": "[encoded data removed]",
      "text/plain": [
       "<Figure size 640x480 with 2 Axes>"
      ]
     },
     "metadata": {},
     "output_type": "display_data"
    }
   ],
   "source": [
    "from sklearn.metrics import plot_confusion_matrix\n",
    "\n",
    "\n",
    "x=models[2]\n",
    "x.fit(train_x, train_y)\n",
    "pred=x.predict(test_x)\n",
    "result[x]=accuracy_score(test_y, pred  )\n",
    "print('model=',x,'acc=',result[x])\n",
    "plot_confusion_matrix(x, test_x,test_y)  \n",
    "plt.show()\n"
   ]
  },
  {
   "cell_type": "code",
   "execution_count": 14,
   "metadata": {},
   "outputs": [
    {
     "name": "stdout",
     "output_type": "stream",
     "text": [
      "model= SVC() acc= 0.6986386138613861\n"
     ]
    },
    {
     "name": "stderr",
     "output_type": "stream",
     "text": [
      "c:\\Users\\ke012\\AppData\\Local\\Programs\\Python\\Python310\\lib\\site-packages\\sklearn\\utils\\deprecation.py:87: FutureWarning: Function plot_confusion_matrix is deprecated; Function `plot_confusion_matrix` is deprecated in 1.0 and will be removed in 1.2. Use one of the class methods: ConfusionMatrixDisplay.from_predictions or ConfusionMatrixDisplay.from_estimator.\n",
      "  warnings.warn(msg, category=FutureWarning)\n"
     ]
    },
    {
     "data": {
      "image/png": "[encoded data removed]",
      "text/plain": [
       "<Figure size 640x480 with 2 Axes>"
      ]
     },
     "metadata": {},
     "output_type": "display_data"
    }
   ],
   "source": [
    "from sklearn.metrics import plot_confusion_matrix\n",
    "\n",
    "x=models[3]\n",
    "x.fit(train_x, train_y)\n",
    "pred=x.predict(test_x)\n",
    "result[x]=accuracy_score(test_y, pred  )\n",
    "print('model=',x,'acc=',result[x])\n",
    "plot_confusion_matrix(x, test_x,test_y)  \n",
    "plt.show()\n",
    "\n"
   ]
  },
  {
   "cell_type": "code",
   "execution_count": 15,
   "metadata": {},
   "outputs": [
    {
     "name": "stdout",
     "output_type": "stream",
     "text": [
      "model= SVC(kernel='sigmoid') acc= 0.6379950495049505\n"
     ]
    },
    {
     "name": "stderr",
     "output_type": "stream",
     "text": [
      "c:\\Users\\ke012\\AppData\\Local\\Programs\\Python\\Python310\\lib\\site-packages\\sklearn\\utils\\deprecation.py:87: FutureWarning: Function plot_confusion_matrix is deprecated; Function `plot_confusion_matrix` is deprecated in 1.0 and will be removed in 1.2. Use one of the class methods: ConfusionMatrixDisplay.from_predictions or ConfusionMatrixDisplay.from_estimator.\n",
      "  warnings.warn(msg, category=FutureWarning)\n"
     ]
    },
    {
     "data": {
      "image/png": "[encoded data removed]",
      "text/plain": [
       "<Figure size 640x480 with 2 Axes>"
      ]
     },
     "metadata": {},
     "output_type": "display_data"
    }
   ],
   "source": [
    "from sklearn.metrics import plot_confusion_matrix\n",
    "\n",
    "\n",
    "x=models[4]\n",
    "x.fit(train_x, train_y)\n",
    "pred=x.predict(test_x)\n",
    "result[x]=accuracy_score(test_y, pred  )\n",
    "print('model=',x,'acc=',result[x])\n",
    "plot_confusion_matrix(x, test_x,test_y)  \n",
    "plt.show()\n",
    "\n"
   ]
  },
  {
   "cell_type": "code",
   "execution_count": 16,
   "metadata": {},
   "outputs": [
    {
     "name": "stdout",
     "output_type": "stream",
     "text": [
      "model= DecisionTreeClassifier() acc= 0.6862623762376238\n"
     ]
    },
    {
     "name": "stderr",
     "output_type": "stream",
     "text": [
      "c:\\Users\\ke012\\AppData\\Local\\Programs\\Python\\Python310\\lib\\site-packages\\sklearn\\utils\\deprecation.py:87: FutureWarning: Function plot_confusion_matrix is deprecated; Function `plot_confusion_matrix` is deprecated in 1.0 and will be removed in 1.2. Use one of the class methods: ConfusionMatrixDisplay.from_predictions or ConfusionMatrixDisplay.from_estimator.\n",
      "  warnings.warn(msg, category=FutureWarning)\n"
     ]
    },
    {
     "data": {
      "image/png": "[encoded data removed]",
      "text/plain": [
       "<Figure size 640x480 with 2 Axes>"
      ]
     },
     "metadata": {},
     "output_type": "display_data"
    }
   ],
   "source": [
    "from sklearn.metrics import plot_confusion_matrix\n",
    "\n",
    "\n",
    "x=models[5]\n",
    "x.fit(train_x, train_y)\n",
    "pred=x.predict(test_x)\n",
    "result[x]=accuracy_score(test_y, pred  )\n",
    "print('model=',x,'acc=',result[x])\n",
    "plot_confusion_matrix(x, test_x,test_y)  \n",
    "plt.show()\n"
   ]
  },
  {
   "cell_type": "code",
   "execution_count": 17,
   "metadata": {},
   "outputs": [
    {
     "data": {
      "text/plain": [
       "[(SVC(kernel='linear'), 0.7035891089108911),\n",
       " (SVC(), 0.6986386138613861),\n",
       " (LogisticRegression(), 0.6918316831683168),\n",
       " (DecisionTreeClassifier(), 0.6862623762376238),\n",
       " (SVC(kernel='sigmoid'), 0.6379950495049505),\n",
       " (SVC(kernel='poly'), 0.5612623762376238)]"
      ]
     },
     "execution_count": 17,
     "metadata": {},
     "output_type": "execute_result"
    }
   ],
   "source": [
    "result=sorted(result.items(), key=lambda item: item[1],reverse=True)\n",
    "result"
   ]
  },
  {
   "cell_type": "markdown",
   "metadata": {},
   "source": [
    "2.a.  Create a table with your accuracy with each of these methods"
   ]
  },
  {
   "cell_type": "code",
   "execution_count": 18,
   "metadata": {},
   "outputs": [
    {
     "data": {
      "text/html": [
       "<div>\n",
       "<style scoped>\n",
       "    .dataframe tbody tr th:only-of-type {\n",
       "        vertical-align: middle;\n",
       "    }\n",
       "\n",
       "    .dataframe tbody tr th {\n",
       "        vertical-align: top;\n",
       "    }\n",
       "\n",
       "    .dataframe thead th {\n",
       "        text-align: right;\n",
       "    }\n",
       "</style>\n",
       "<table border=\"1\" class=\"dataframe\">\n",
       "  <thead>\n",
       "    <tr style=\"text-align: right;\">\n",
       "      <th></th>\n",
       "      <th>model</th>\n",
       "      <th>acc</th>\n",
       "    </tr>\n",
       "  </thead>\n",
       "  <tbody>\n",
       "    <tr>\n",
       "      <th>0</th>\n",
       "      <td>SVC(kernel='linear')</td>\n",
       "      <td>0.703589</td>\n",
       "    </tr>\n",
       "    <tr>\n",
       "      <th>1</th>\n",
       "      <td>SVC()</td>\n",
       "      <td>0.698639</td>\n",
       "    </tr>\n",
       "    <tr>\n",
       "      <th>2</th>\n",
       "      <td>LogisticRegression()</td>\n",
       "      <td>0.691832</td>\n",
       "    </tr>\n",
       "    <tr>\n",
       "      <th>3</th>\n",
       "      <td>DecisionTreeClassifier()</td>\n",
       "      <td>0.686262</td>\n",
       "    </tr>\n",
       "    <tr>\n",
       "      <th>4</th>\n",
       "      <td>SVC(kernel='sigmoid')</td>\n",
       "      <td>0.637995</td>\n",
       "    </tr>\n",
       "    <tr>\n",
       "      <th>5</th>\n",
       "      <td>SVC(kernel='poly')</td>\n",
       "      <td>0.561262</td>\n",
       "    </tr>\n",
       "  </tbody>\n",
       "</table>\n",
       "</div>"
      ],
      "text/plain": [
       "                      model       acc\n",
       "0      SVC(kernel='linear')  0.703589\n",
       "1                     SVC()  0.698639\n",
       "2      LogisticRegression()  0.691832\n",
       "3  DecisionTreeClassifier()  0.686262\n",
       "4     SVC(kernel='sigmoid')  0.637995\n",
       "5        SVC(kernel='poly')  0.561262"
      ]
     },
     "execution_count": 18,
     "metadata": {},
     "output_type": "execute_result"
    }
   ],
   "source": [
    "results_train=pd.DataFrame({'model':    [i[0]   for i in result],   'acc':[i[1]   for i in result]})\n",
    "results_train"
   ]
  },
  {
   "cell_type": "code",
   "execution_count": 19,
   "metadata": {},
   "outputs": [
    {
     "data": {
      "text/plain": [
       "corr_True\n",
       "0    907\n",
       "1    709\n",
       "dtype: int64"
      ]
     },
     "execution_count": 19,
     "metadata": {},
     "output_type": "execute_result"
    }
   ],
   "source": [
    "# test_y.groupby()\n",
    "c=(test_y.to_frame())\n",
    "c=c.groupby(['corr_True']).size()\n",
    "c"
   ]
  },
  {
   "cell_type": "markdown",
   "metadata": {},
   "source": [
    "2.b. Look at where you’re making mistakes. Can you see any patterns?"
   ]
  },
  {
   "cell_type": "markdown",
   "metadata": {},
   "source": [
    "From the confusion matrixs above, the modles are guessing 0 most of the time; whereas, we can see form the ratio in test_y, the ratio between 1 and 0 is not that inbalenced.\n",
    "label   count\n",
    "0       907\n",
    "1       709"
   ]
  },
  {
   "cell_type": "markdown",
   "metadata": {},
   "source": [
    "Find additional information you can use to improve predictions. Be creative. Look for features you can extract from the data that you have.\n",
    " NOTE: To get credit for this, you need to have an idea and evaluate it. You will get full credit for a well-thought out feature that doesn’t improve performance."
   ]
  },
  {
   "cell_type": "code",
   "execution_count": 20,
   "metadata": {},
   "outputs": [
    {
     "data": {
      "text/html": [
       "<div>\n",
       "<style scoped>\n",
       "    .dataframe tbody tr th:only-of-type {\n",
       "        vertical-align: middle;\n",
       "    }\n",
       "\n",
       "    .dataframe tbody tr th {\n",
       "        vertical-align: top;\n",
       "    }\n",
       "\n",
       "    .dataframe thead th {\n",
       "        text-align: right;\n",
       "    }\n",
       "</style>\n",
       "<table border=\"1\" class=\"dataframe\">\n",
       "  <thead>\n",
       "    <tr style=\"text-align: right;\">\n",
       "      <th></th>\n",
       "      <th>row</th>\n",
       "      <th>body_score</th>\n",
       "      <th>inlinks</th>\n",
       "      <th>paren_match</th>\n",
       "      <th>obs_len</th>\n",
       "      <th>inlinks_log</th>\n",
       "      <th>inlinks_scaled</th>\n",
       "      <th>category_Literature</th>\n",
       "      <th>tournaments_1999 ACF Nationals</th>\n",
       "      <th>tournaments_1999 ACF Regionals</th>\n",
       "      <th>...</th>\n",
       "      <th>answer_type_abs</th>\n",
       "      <th>answer_type_anim</th>\n",
       "      <th>answer_type_char</th>\n",
       "      <th>answer_type_event</th>\n",
       "      <th>answer_type_org</th>\n",
       "      <th>answer_type_people</th>\n",
       "      <th>answer_type_place</th>\n",
       "      <th>answer_type_work</th>\n",
       "      <th>corr_False</th>\n",
       "      <th>corr_True</th>\n",
       "    </tr>\n",
       "  </thead>\n",
       "  <tbody>\n",
       "    <tr>\n",
       "      <th>count</th>\n",
       "      <td>8079.000000</td>\n",
       "      <td>8079.000000</td>\n",
       "      <td>8079.000000</td>\n",
       "      <td>8079.000000</td>\n",
       "      <td>8079.000000</td>\n",
       "      <td>8079.000000</td>\n",
       "      <td>8079.000000</td>\n",
       "      <td>8079.0</td>\n",
       "      <td>8079.000000</td>\n",
       "      <td>8079.000000</td>\n",
       "      <td>...</td>\n",
       "      <td>8079.000000</td>\n",
       "      <td>8079.000000</td>\n",
       "      <td>8079.000000</td>\n",
       "      <td>8079.000000</td>\n",
       "      <td>8079.000000</td>\n",
       "      <td>8079.000000</td>\n",
       "      <td>8079.000000</td>\n",
       "      <td>8079.000000</td>\n",
       "      <td>8079.000000</td>\n",
       "      <td>8079.000000</td>\n",
       "    </tr>\n",
       "    <tr>\n",
       "      <th>mean</th>\n",
       "      <td>6925.462805</td>\n",
       "      <td>58.712909</td>\n",
       "      <td>71.683253</td>\n",
       "      <td>0.205223</td>\n",
       "      <td>409.571482</td>\n",
       "      <td>4.008690</td>\n",
       "      <td>0.260335</td>\n",
       "      <td>1.0</td>\n",
       "      <td>0.013863</td>\n",
       "      <td>0.020547</td>\n",
       "      <td>...</td>\n",
       "      <td>0.005694</td>\n",
       "      <td>0.002352</td>\n",
       "      <td>0.036267</td>\n",
       "      <td>0.002352</td>\n",
       "      <td>0.008417</td>\n",
       "      <td>0.377646</td>\n",
       "      <td>0.008788</td>\n",
       "      <td>0.358336</td>\n",
       "      <td>0.554277</td>\n",
       "      <td>0.445723</td>\n",
       "    </tr>\n",
       "    <tr>\n",
       "      <th>std</th>\n",
       "      <td>4010.872917</td>\n",
       "      <td>40.023035</td>\n",
       "      <td>541.807126</td>\n",
       "      <td>0.490027</td>\n",
       "      <td>214.371700</td>\n",
       "      <td>2.315134</td>\n",
       "      <td>0.150351</td>\n",
       "      <td>0.0</td>\n",
       "      <td>0.116930</td>\n",
       "      <td>0.141871</td>\n",
       "      <td>...</td>\n",
       "      <td>0.075247</td>\n",
       "      <td>0.048441</td>\n",
       "      <td>0.186965</td>\n",
       "      <td>0.048441</td>\n",
       "      <td>0.091362</td>\n",
       "      <td>0.484828</td>\n",
       "      <td>0.093338</td>\n",
       "      <td>0.479541</td>\n",
       "      <td>0.497076</td>\n",
       "      <td>0.497076</td>\n",
       "    </tr>\n",
       "    <tr>\n",
       "      <th>min</th>\n",
       "      <td>1.000000</td>\n",
       "      <td>0.000000</td>\n",
       "      <td>1.000000</td>\n",
       "      <td>0.000000</td>\n",
       "      <td>1.000000</td>\n",
       "      <td>0.000000</td>\n",
       "      <td>0.000000</td>\n",
       "      <td>1.0</td>\n",
       "      <td>0.000000</td>\n",
       "      <td>0.000000</td>\n",
       "      <td>...</td>\n",
       "      <td>0.000000</td>\n",
       "      <td>0.000000</td>\n",
       "      <td>0.000000</td>\n",
       "      <td>0.000000</td>\n",
       "      <td>0.000000</td>\n",
       "      <td>0.000000</td>\n",
       "      <td>0.000000</td>\n",
       "      <td>0.000000</td>\n",
       "      <td>0.000000</td>\n",
       "      <td>0.000000</td>\n",
       "    </tr>\n",
       "    <tr>\n",
       "      <th>25%</th>\n",
       "      <td>3500.500000</td>\n",
       "      <td>32.073499</td>\n",
       "      <td>5.000000</td>\n",
       "      <td>0.000000</td>\n",
       "      <td>225.000000</td>\n",
       "      <td>2.321928</td>\n",
       "      <td>0.150792</td>\n",
       "      <td>1.0</td>\n",
       "      <td>0.000000</td>\n",
       "      <td>0.000000</td>\n",
       "      <td>...</td>\n",
       "      <td>0.000000</td>\n",
       "      <td>0.000000</td>\n",
       "      <td>0.000000</td>\n",
       "      <td>0.000000</td>\n",
       "      <td>0.000000</td>\n",
       "      <td>0.000000</td>\n",
       "      <td>0.000000</td>\n",
       "      <td>0.000000</td>\n",
       "      <td>0.000000</td>\n",
       "      <td>0.000000</td>\n",
       "    </tr>\n",
       "    <tr>\n",
       "      <th>50%</th>\n",
       "      <td>6905.000000</td>\n",
       "      <td>49.067585</td>\n",
       "      <td>16.000000</td>\n",
       "      <td>0.000000</td>\n",
       "      <td>393.000000</td>\n",
       "      <td>4.000000</td>\n",
       "      <td>0.259771</td>\n",
       "      <td>1.0</td>\n",
       "      <td>0.000000</td>\n",
       "      <td>0.000000</td>\n",
       "      <td>...</td>\n",
       "      <td>0.000000</td>\n",
       "      <td>0.000000</td>\n",
       "      <td>0.000000</td>\n",
       "      <td>0.000000</td>\n",
       "      <td>0.000000</td>\n",
       "      <td>0.000000</td>\n",
       "      <td>0.000000</td>\n",
       "      <td>0.000000</td>\n",
       "      <td>1.000000</td>\n",
       "      <td>0.000000</td>\n",
       "    </tr>\n",
       "    <tr>\n",
       "      <th>75%</th>\n",
       "      <td>10370.500000</td>\n",
       "      <td>71.922447</td>\n",
       "      <td>46.000000</td>\n",
       "      <td>0.000000</td>\n",
       "      <td>574.000000</td>\n",
       "      <td>5.523562</td>\n",
       "      <td>0.358715</td>\n",
       "      <td>1.0</td>\n",
       "      <td>0.000000</td>\n",
       "      <td>0.000000</td>\n",
       "      <td>...</td>\n",
       "      <td>0.000000</td>\n",
       "      <td>0.000000</td>\n",
       "      <td>0.000000</td>\n",
       "      <td>0.000000</td>\n",
       "      <td>0.000000</td>\n",
       "      <td>1.000000</td>\n",
       "      <td>0.000000</td>\n",
       "      <td>1.000000</td>\n",
       "      <td>1.000000</td>\n",
       "      <td>1.000000</td>\n",
       "    </tr>\n",
       "    <tr>\n",
       "      <th>max</th>\n",
       "      <td>13924.000000</td>\n",
       "      <td>359.077342</td>\n",
       "      <td>43183.000000</td>\n",
       "      <td>5.000000</td>\n",
       "      <td>1200.000000</td>\n",
       "      <td>15.398176</td>\n",
       "      <td>1.000000</td>\n",
       "      <td>1.0</td>\n",
       "      <td>1.000000</td>\n",
       "      <td>1.000000</td>\n",
       "      <td>...</td>\n",
       "      <td>1.000000</td>\n",
       "      <td>1.000000</td>\n",
       "      <td>1.000000</td>\n",
       "      <td>1.000000</td>\n",
       "      <td>1.000000</td>\n",
       "      <td>1.000000</td>\n",
       "      <td>1.000000</td>\n",
       "      <td>1.000000</td>\n",
       "      <td>1.000000</td>\n",
       "      <td>1.000000</td>\n",
       "    </tr>\n",
       "  </tbody>\n",
       "</table>\n",
       "<p>8 rows × 95 columns</p>\n",
       "</div>"
      ],
      "text/plain": [
       "                row   body_score       inlinks  paren_match      obs_len  \\\n",
       "count   8079.000000  8079.000000   8079.000000  8079.000000  8079.000000   \n",
       "mean    6925.462805    58.712909     71.683253     0.205223   409.571482   \n",
       "std     4010.872917    40.023035    541.807126     0.490027   214.371700   \n",
       "min        1.000000     0.000000      1.000000     0.000000     1.000000   \n",
       "25%     3500.500000    32.073499      5.000000     0.000000   225.000000   \n",
       "50%     6905.000000    49.067585     16.000000     0.000000   393.000000   \n",
       "75%    10370.500000    71.922447     46.000000     0.000000   574.000000   \n",
       "max    13924.000000   359.077342  43183.000000     5.000000  1200.000000   \n",
       "\n",
       "       inlinks_log  inlinks_scaled  category_Literature  \\\n",
       "count  8079.000000     8079.000000               8079.0   \n",
       "mean      4.008690        0.260335                  1.0   \n",
       "std       2.315134        0.150351                  0.0   \n",
       "min       0.000000        0.000000                  1.0   \n",
       "25%       2.321928        0.150792                  1.0   \n",
       "50%       4.000000        0.259771                  1.0   \n",
       "75%       5.523562        0.358715                  1.0   \n",
       "max      15.398176        1.000000                  1.0   \n",
       "\n",
       "       tournaments_1999 ACF Nationals  tournaments_1999 ACF Regionals  ...  \\\n",
       "count                     8079.000000                     8079.000000  ...   \n",
       "mean                         0.013863                        0.020547  ...   \n",
       "std                          0.116930                        0.141871  ...   \n",
       "min                          0.000000                        0.000000  ...   \n",
       "25%                          0.000000                        0.000000  ...   \n",
       "50%                          0.000000                        0.000000  ...   \n",
       "75%                          0.000000                        0.000000  ...   \n",
       "max                          1.000000                        1.000000  ...   \n",
       "\n",
       "       answer_type_abs  answer_type_anim  answer_type_char  answer_type_event  \\\n",
       "count      8079.000000       8079.000000       8079.000000        8079.000000   \n",
       "mean          0.005694          0.002352          0.036267           0.002352   \n",
       "std           0.075247          0.048441          0.186965           0.048441   \n",
       "min           0.000000          0.000000          0.000000           0.000000   \n",
       "25%           0.000000          0.000000          0.000000           0.000000   \n",
       "50%           0.000000          0.000000          0.000000           0.000000   \n",
       "75%           0.000000          0.000000          0.000000           0.000000   \n",
       "max           1.000000          1.000000          1.000000           1.000000   \n",
       "\n",
       "       answer_type_org  answer_type_people  answer_type_place  \\\n",
       "count      8079.000000         8079.000000        8079.000000   \n",
       "mean          0.008417            0.377646           0.008788   \n",
       "std           0.091362            0.484828           0.093338   \n",
       "min           0.000000            0.000000           0.000000   \n",
       "25%           0.000000            0.000000           0.000000   \n",
       "50%           0.000000            0.000000           0.000000   \n",
       "75%           0.000000            1.000000           0.000000   \n",
       "max           1.000000            1.000000           1.000000   \n",
       "\n",
       "       answer_type_work   corr_False    corr_True  \n",
       "count       8079.000000  8079.000000  8079.000000  \n",
       "mean           0.358336     0.554277     0.445723  \n",
       "std            0.479541     0.497076     0.497076  \n",
       "min            0.000000     0.000000     0.000000  \n",
       "25%            0.000000     0.000000     0.000000  \n",
       "50%            0.000000     1.000000     0.000000  \n",
       "75%            1.000000     1.000000     1.000000  \n",
       "max            1.000000     1.000000     1.000000  \n",
       "\n",
       "[8 rows x 95 columns]"
      ]
     },
     "execution_count": 20,
     "metadata": {},
     "output_type": "execute_result"
    }
   ],
   "source": [
    "train.describe()"
   ]
  },
  {
   "cell_type": "code",
   "execution_count": 21,
   "metadata": {},
   "outputs": [
    {
     "name": "stdout",
     "output_type": "stream",
     "text": [
      "<class 'pandas.core.frame.DataFrame'>\n",
      "RangeIndex: 8079 entries, 0 to 8078\n",
      "Data columns (total 98 columns):\n",
      " #   Column                                                   Non-Null Count  Dtype  \n",
      "---  ------                                                   --------------  -----  \n",
      " 0   row                                                      8079 non-null   int64  \n",
      " 1   body_score                                               8079 non-null   float64\n",
      " 2   page                                                     8079 non-null   object \n",
      " 3   answer                                                   8079 non-null   object \n",
      " 4   text                                                     8079 non-null   object \n",
      " 5   inlinks                                                  8079 non-null   int64  \n",
      " 6   paren_match                                              8079 non-null   int64  \n",
      " 7   obs_len                                                  8079 non-null   int64  \n",
      " 8   inlinks_log                                              8079 non-null   float64\n",
      " 9   inlinks_scaled                                           8079 non-null   float64\n",
      " 10  category_Literature                                      8079 non-null   uint8  \n",
      " 11  tournaments_1999 ACF Nationals                           8079 non-null   uint8  \n",
      " 12  tournaments_1999 ACF Regionals                           8079 non-null   uint8  \n",
      " 13  tournaments_2000 ACF Nationals                           8079 non-null   uint8  \n",
      " 14  tournaments_2000 ACF Regionals                           8079 non-null   uint8  \n",
      " 15  tournaments_2001 ACF Fall                                8079 non-null   uint8  \n",
      " 16  tournaments_2001 ACF Nationals                           8079 non-null   uint8  \n",
      " 17  tournaments_2001 ACF Regionals                           8079 non-null   uint8  \n",
      " 18  tournaments_2002 ACF Fall                                8079 non-null   uint8  \n",
      " 19  tournaments_2002 ACF Nationals                           8079 non-null   uint8  \n",
      " 20  tournaments_2002 ACF Regionals                           8079 non-null   uint8  \n",
      " 21  tournaments_2003 ACF Fall                                8079 non-null   uint8  \n",
      " 22  tournaments_2003 ACF Nationals                           8079 non-null   uint8  \n",
      " 23  tournaments_2003 ACF Regionals                           8079 non-null   uint8  \n",
      " 24  tournaments_2004 ACF Fall                                8079 non-null   uint8  \n",
      " 25  tournaments_2004 ACF Nationals                           8079 non-null   uint8  \n",
      " 26  tournaments_2004 ACF Regionals                           8079 non-null   uint8  \n",
      " 27  tournaments_2005 ACF Fall                                8079 non-null   uint8  \n",
      " 28  tournaments_2005 ACF Nationals                           8079 non-null   uint8  \n",
      " 29  tournaments_2005 ACF Regionals                           8079 non-null   uint8  \n",
      " 30  tournaments_2006 ACF Fall                                8079 non-null   uint8  \n",
      " 31  tournaments_2006 ACF Nationals                           8079 non-null   uint8  \n",
      " 32  tournaments_2006 ACF Regionals                           8079 non-null   uint8  \n",
      " 33  tournaments_2007 ACF Fall                                8079 non-null   uint8  \n",
      " 34  tournaments_2007 ACF Nationals                           8079 non-null   uint8  \n",
      " 35  tournaments_2007 ACF Regionals                           8079 non-null   uint8  \n",
      " 36  tournaments_2007 Chicago Open                            8079 non-null   uint8  \n",
      " 37  tournaments_2007 Chicago Open Literature Singles         8079 non-null   uint8  \n",
      " 38  tournaments_2007 Deep Bench                              8079 non-null   uint8  \n",
      " 39  tournaments_2007 EFT II                                  8079 non-null   uint8  \n",
      " 40  tournaments_2007 Illinois Open                           8079 non-null   uint8  \n",
      " 41  tournaments_2007 Illinois Open Literature Doubles        8079 non-null   uint8  \n",
      " 42  tournaments_2007 MCMNT                                   8079 non-null   uint8  \n",
      " 43  tournaments_2007 MLK                                     8079 non-null   uint8  \n",
      " 44  tournaments_2007 Penn Bowl                               8079 non-null   uint8  \n",
      " 45  tournaments_2007 Terrapin                                8079 non-null   uint8  \n",
      " 46  tournaments_2007 Titanomachy                             8079 non-null   uint8  \n",
      " 47  tournaments_2007 Westbrook Doubles - The Experiment      8079 non-null   uint8  \n",
      " 48  tournaments_2008 ACF Fall                                8079 non-null   uint8  \n",
      " 49  tournaments_2008 ACF Nationals                           8079 non-null   uint8  \n",
      " 50  tournaments_2008 ACF Regionals                           8079 non-null   uint8  \n",
      " 51  tournaments_2008 Cardinal Classic XVII                   8079 non-null   uint8  \n",
      " 52  tournaments_2008 Chicago Open                            8079 non-null   uint8  \n",
      " 53  tournaments_2008 Chicago Open Literature Singles         8079 non-null   uint8  \n",
      " 54  tournaments_2008 Chitin Classic                          8079 non-null   uint8  \n",
      " 55  tournaments_2008 EFT III                                 8079 non-null   uint8  \n",
      " 56  tournaments_2008 FEUERBACH                               8079 non-null   uint8  \n",
      " 57  tournaments_2008 FICHTE                                  8079 non-null   uint8  \n",
      " 58  tournaments_2008 Gunpei Yokoi Memorial Open              8079 non-null   uint8  \n",
      " 59  tournaments_2008 HAVOC                                   8079 non-null   uint8  \n",
      " 60  tournaments_2008 Hunter College Prison Bowl              8079 non-null   uint8  \n",
      " 61  tournaments_2008 Illinois Open                           8079 non-null   uint8  \n",
      " 62  tournaments_2008 MCMNT                                   8079 non-null   uint8  \n",
      " 63  tournaments_2008 MUT                                     8079 non-null   uint8  \n",
      " 64  tournaments_2008 Minnesota Open                          8079 non-null   uint8  \n",
      " 65  tournaments_2008 PACE NSC                                8079 non-null   uint8  \n",
      " 66  tournaments_2008 PACE Spring Qualifier                   8079 non-null   uint8  \n",
      " 67  tournaments_2008 Penn Bowl                               8079 non-null   uint8  \n",
      " 68  tournaments_2008 Sun N Fun IX                            8079 non-null   uint8  \n",
      " 69  tournaments_2008 Terrapin                                8079 non-null   uint8  \n",
      " 70  tournaments_2008 The July Crisis                         8079 non-null   uint8  \n",
      " 71  tournaments_2008 UIUC High School Solo                   8079 non-null   uint8  \n",
      " 72  tournaments_2008 VCU Open                                8079 non-null   uint8  \n",
      " 73  tournaments_2008 William Gaddis Experiment               8079 non-null   uint8  \n",
      " 74  tournaments_2008 Zot Bowl I                              8079 non-null   uint8  \n",
      " 75  tournaments_2009 ACF Fall                                8079 non-null   uint8  \n",
      " 76  tournaments_2009 ACF Nationals                           8079 non-null   uint8  \n",
      " 77  tournaments_2009 ACF Regionals                           8079 non-null   uint8  \n",
      " 78  tournaments_2009 ACF Winter                              8079 non-null   uint8  \n",
      " 79  tournaments_2009 Buzzerfest                              8079 non-null   uint8  \n",
      " 80  tournaments_2009 EuroFest                                8079 non-null   uint8  \n",
      " 81  tournaments_2009 Missouri Open                           8079 non-null   uint8  \n",
      " 82  tournaments_2010 ACF Regionals                           8079 non-null   uint8  \n",
      " 83  tournaments_2010 ACF Winter                              8079 non-null   uint8  \n",
      " 84  tournaments_2010 Chicago Open                            8079 non-null   uint8  \n",
      " 85  tournaments_2010 Mildly Experimental Literature Doubles  8079 non-null   uint8  \n",
      " 86  tournaments_2010 Penn Bowl                               8079 non-null   uint8  \n",
      " 87  answer_type_None                                         8079 non-null   uint8  \n",
      " 88  answer_type_abs                                          8079 non-null   uint8  \n",
      " 89  answer_type_anim                                         8079 non-null   uint8  \n",
      " 90  answer_type_char                                         8079 non-null   uint8  \n",
      " 91  answer_type_event                                        8079 non-null   uint8  \n",
      " 92  answer_type_org                                          8079 non-null   uint8  \n",
      " 93  answer_type_people                                       8079 non-null   uint8  \n",
      " 94  answer_type_place                                        8079 non-null   uint8  \n",
      " 95  answer_type_work                                         8079 non-null   uint8  \n",
      " 96  corr_False                                               8079 non-null   uint8  \n",
      " 97  corr_True                                                8079 non-null   uint8  \n",
      "dtypes: float64(3), int64(4), object(3), uint8(88)\n",
      "memory usage: 1.3+ MB\n"
     ]
    }
   ],
   "source": [
    "train.info()"
   ]
  },
  {
   "cell_type": "markdown",
   "metadata": {},
   "source": [
    "Revise the paren_match function to add more preposition.\n"
   ]
  },
  {
   "cell_type": "code",
   "execution_count": 22,
   "metadata": {},
   "outputs": [],
   "source": [
    "def paren_match_after(row):\n",
    "    page = row['page']\n",
    "    text = row['text']\n",
    "    page = re.sub('[\\(|.|\\)|,|\"|\\t]', '', page)\n",
    "    page = page.split(' ')\n",
    "    page = [x.lower() for x in page]\n",
    "    text = re.sub('[\\(|.|\\)|,|\"|\\t]', ' ', text)\n",
    "    text = text.split(' ')\n",
    "    text = [x.lower() for x in text]\n",
    "    count = 0\n",
    "    for item in page:\n",
    "        if item in text and item not in [' ', 'at', 'a', 'of', 'the', 'on','by','for','from','under','without','in','without','within','an','it','is','are','for']:\n",
    "            count += 1\n",
    "    return count"
   ]
  },
  {
   "cell_type": "code",
   "execution_count": 23,
   "metadata": {},
   "outputs": [],
   "source": [
    "train_after = pd.read_csv(\"./data/qb.train.csv\")\n",
    "train_after['paren_match'] = train_after.apply(paren_match_after, axis=1)\n",
    "train_after['obs_len'] = train_after['text'].apply(len)\n",
    "scaler = MinMaxScaler()\n",
    "train_after['inlinks'] += 1\n",
    "train_after['inlinks_log'] = np.log2(train_after['inlinks']) \n",
    "train_after[['inlinks_scaled']]  = scaler.fit_transform(train_after[['inlinks_log']])\n",
    "\n",
    "# train_after"
   ]
  },
  {
   "cell_type": "markdown",
   "metadata": {},
   "source": [
    "Try label encoding for 'category', 'tournaments', 'answer_type'."
   ]
  },
  {
   "cell_type": "code",
   "execution_count": 24,
   "metadata": {},
   "outputs": [],
   "source": [
    "from sklearn.preprocessing import LabelEncoder\n",
    "labelencoder = LabelEncoder()\n",
    "# Assigning numerical values and storing in another column\n"
   ]
  },
  {
   "cell_type": "markdown",
   "metadata": {},
   "source": [
    "Deal with unseen value."
   ]
  },
  {
   "cell_type": "code",
   "execution_count": 25,
   "metadata": {},
   "outputs": [],
   "source": [
    "all=pd.concat(  [test,train_after]    )\n"
   ]
  },
  {
   "cell_type": "code",
   "execution_count": 26,
   "metadata": {},
   "outputs": [],
   "source": [
    "category_list=['Literature']\n",
    "tournaments_list=list(set(all['tournaments']))\n",
    "answer_type_list=list(set(all['answer_type']))\n",
    "\n",
    "cat_label=LabelEncoder().fit(category_list)\n",
    "tour_label=LabelEncoder().fit(tournaments_list)\n",
    "aws_label=LabelEncoder().fit(answer_type_list)\n"
   ]
  },
  {
   "cell_type": "code",
   "execution_count": 27,
   "metadata": {},
   "outputs": [
    {
     "data": {
      "text/plain": [
       "True"
      ]
     },
     "execution_count": 27,
     "metadata": {},
     "output_type": "execute_result"
    }
   ],
   "source": [
    "'2000 ACF Nationals' in tournaments_list"
   ]
  },
  {
   "cell_type": "code",
   "execution_count": 28,
   "metadata": {},
   "outputs": [
    {
     "data": {
      "text/html": [
       "<div>\n",
       "<style scoped>\n",
       "    .dataframe tbody tr th:only-of-type {\n",
       "        vertical-align: middle;\n",
       "    }\n",
       "\n",
       "    .dataframe tbody tr th {\n",
       "        vertical-align: top;\n",
       "    }\n",
       "\n",
       "    .dataframe thead th {\n",
       "        text-align: right;\n",
       "    }\n",
       "</style>\n",
       "<table border=\"1\" class=\"dataframe\">\n",
       "  <thead>\n",
       "    <tr style=\"text-align: right;\">\n",
       "      <th></th>\n",
       "      <th>row</th>\n",
       "      <th>body_score</th>\n",
       "      <th>page</th>\n",
       "      <th>answer</th>\n",
       "      <th>text</th>\n",
       "      <th>category</th>\n",
       "      <th>tournaments</th>\n",
       "      <th>answer_type</th>\n",
       "      <th>inlinks</th>\n",
       "      <th>paren_match</th>\n",
       "      <th>obs_len</th>\n",
       "      <th>inlinks_log</th>\n",
       "      <th>inlinks_scaled</th>\n",
       "      <th>corr_False</th>\n",
       "      <th>corr_True</th>\n",
       "    </tr>\n",
       "  </thead>\n",
       "  <tbody>\n",
       "    <tr>\n",
       "      <th>0</th>\n",
       "      <td>1</td>\n",
       "      <td>127.398036</td>\n",
       "      <td>Comus (John Milton)</td>\n",
       "      <td>Comus (John Milton)</td>\n",
       "      <td>First performed in Ludlow Castle by the childr...</td>\n",
       "      <td>0</td>\n",
       "      <td>2</td>\n",
       "      <td>8</td>\n",
       "      <td>63</td>\n",
       "      <td>2</td>\n",
       "      <td>352</td>\n",
       "      <td>5.977280</td>\n",
       "      <td>0.388181</td>\n",
       "      <td>0</td>\n",
       "      <td>1</td>\n",
       "    </tr>\n",
       "    <tr>\n",
       "      <th>1</th>\n",
       "      <td>2</td>\n",
       "      <td>50.212336</td>\n",
       "      <td>Circe</td>\n",
       "      <td>Comus (John Milton)</td>\n",
       "      <td>First performed in Ludlow Castle by the childr...</td>\n",
       "      <td>0</td>\n",
       "      <td>2</td>\n",
       "      <td>0</td>\n",
       "      <td>6</td>\n",
       "      <td>1</td>\n",
       "      <td>352</td>\n",
       "      <td>2.584963</td>\n",
       "      <td>0.167875</td>\n",
       "      <td>1</td>\n",
       "      <td>0</td>\n",
       "    </tr>\n",
       "    <tr>\n",
       "      <th>2</th>\n",
       "      <td>3</td>\n",
       "      <td>44.767071</td>\n",
       "      <td>Satyr</td>\n",
       "      <td>Comus (John Milton)</td>\n",
       "      <td>First performed in Ludlow Castle by the childr...</td>\n",
       "      <td>0</td>\n",
       "      <td>2</td>\n",
       "      <td>0</td>\n",
       "      <td>7</td>\n",
       "      <td>0</td>\n",
       "      <td>352</td>\n",
       "      <td>2.807355</td>\n",
       "      <td>0.182317</td>\n",
       "      <td>1</td>\n",
       "      <td>0</td>\n",
       "    </tr>\n",
       "    <tr>\n",
       "      <th>3</th>\n",
       "      <td>4</td>\n",
       "      <td>44.058274</td>\n",
       "      <td>Philip K. Dick</td>\n",
       "      <td>Wilfred Owen</td>\n",
       "      <td>This author is convinced by another to publish...</td>\n",
       "      <td>0</td>\n",
       "      <td>67</td>\n",
       "      <td>6</td>\n",
       "      <td>23</td>\n",
       "      <td>0</td>\n",
       "      <td>327</td>\n",
       "      <td>4.523562</td>\n",
       "      <td>0.293773</td>\n",
       "      <td>1</td>\n",
       "      <td>0</td>\n",
       "    </tr>\n",
       "    <tr>\n",
       "      <th>4</th>\n",
       "      <td>5</td>\n",
       "      <td>40.675249</td>\n",
       "      <td>Honore de Balzac</td>\n",
       "      <td>Wilfred Owen</td>\n",
       "      <td>This author is convinced by another to publish...</td>\n",
       "      <td>0</td>\n",
       "      <td>67</td>\n",
       "      <td>0</td>\n",
       "      <td>1</td>\n",
       "      <td>0</td>\n",
       "      <td>327</td>\n",
       "      <td>0.000000</td>\n",
       "      <td>0.000000</td>\n",
       "      <td>1</td>\n",
       "      <td>0</td>\n",
       "    </tr>\n",
       "    <tr>\n",
       "      <th>...</th>\n",
       "      <td>...</td>\n",
       "      <td>...</td>\n",
       "      <td>...</td>\n",
       "      <td>...</td>\n",
       "      <td>...</td>\n",
       "      <td>...</td>\n",
       "      <td>...</td>\n",
       "      <td>...</td>\n",
       "      <td>...</td>\n",
       "      <td>...</td>\n",
       "      <td>...</td>\n",
       "      <td>...</td>\n",
       "      <td>...</td>\n",
       "      <td>...</td>\n",
       "      <td>...</td>\n",
       "    </tr>\n",
       "    <tr>\n",
       "      <th>8074</th>\n",
       "      <td>13920</td>\n",
       "      <td>51.072087</td>\n",
       "      <td>Lord Peter Wimsey</td>\n",
       "      <td>Snow Country</td>\n",
       "      <td>The author of this work later released a short...</td>\n",
       "      <td>0</td>\n",
       "      <td>68</td>\n",
       "      <td>8</td>\n",
       "      <td>4</td>\n",
       "      <td>0</td>\n",
       "      <td>461</td>\n",
       "      <td>2.000000</td>\n",
       "      <td>0.129886</td>\n",
       "      <td>1</td>\n",
       "      <td>0</td>\n",
       "    </tr>\n",
       "    <tr>\n",
       "      <th>8075</th>\n",
       "      <td>13921</td>\n",
       "      <td>42.298305</td>\n",
       "      <td>Satires (Juvenal)</td>\n",
       "      <td>Kaddish (poem)</td>\n",
       "      <td>The subject of this poem finds refuge from Tro...</td>\n",
       "      <td>0</td>\n",
       "      <td>68</td>\n",
       "      <td>0</td>\n",
       "      <td>19</td>\n",
       "      <td>0</td>\n",
       "      <td>347</td>\n",
       "      <td>4.247928</td>\n",
       "      <td>0.275872</td>\n",
       "      <td>1</td>\n",
       "      <td>0</td>\n",
       "    </tr>\n",
       "    <tr>\n",
       "      <th>8076</th>\n",
       "      <td>13922</td>\n",
       "      <td>40.570231</td>\n",
       "      <td>Kubla Khan</td>\n",
       "      <td>Kaddish (poem)</td>\n",
       "      <td>The subject of this poem finds refuge from Tro...</td>\n",
       "      <td>0</td>\n",
       "      <td>68</td>\n",
       "      <td>0</td>\n",
       "      <td>9</td>\n",
       "      <td>0</td>\n",
       "      <td>347</td>\n",
       "      <td>3.169925</td>\n",
       "      <td>0.205864</td>\n",
       "      <td>1</td>\n",
       "      <td>0</td>\n",
       "    </tr>\n",
       "    <tr>\n",
       "      <th>8077</th>\n",
       "      <td>13923</td>\n",
       "      <td>37.679422</td>\n",
       "      <td>Asgard</td>\n",
       "      <td>Kaddish (poem)</td>\n",
       "      <td>The subject of this poem finds refuge from Tro...</td>\n",
       "      <td>0</td>\n",
       "      <td>68</td>\n",
       "      <td>1</td>\n",
       "      <td>10</td>\n",
       "      <td>0</td>\n",
       "      <td>347</td>\n",
       "      <td>3.321928</td>\n",
       "      <td>0.215735</td>\n",
       "      <td>1</td>\n",
       "      <td>0</td>\n",
       "    </tr>\n",
       "    <tr>\n",
       "      <th>8078</th>\n",
       "      <td>13924</td>\n",
       "      <td>15.885859</td>\n",
       "      <td>Kaddish (poem)</td>\n",
       "      <td>Kaddish (poem)</td>\n",
       "      <td>The subject of this poem finds refuge from Tro...</td>\n",
       "      <td>0</td>\n",
       "      <td>68</td>\n",
       "      <td>0</td>\n",
       "      <td>15</td>\n",
       "      <td>1</td>\n",
       "      <td>347</td>\n",
       "      <td>3.906891</td>\n",
       "      <td>0.253724</td>\n",
       "      <td>0</td>\n",
       "      <td>1</td>\n",
       "    </tr>\n",
       "  </tbody>\n",
       "</table>\n",
       "<p>8079 rows × 15 columns</p>\n",
       "</div>"
      ],
      "text/plain": [
       "        row  body_score                 page               answer  \\\n",
       "0         1  127.398036  Comus (John Milton)  Comus (John Milton)   \n",
       "1         2   50.212336                Circe  Comus (John Milton)   \n",
       "2         3   44.767071                Satyr  Comus (John Milton)   \n",
       "3         4   44.058274       Philip K. Dick         Wilfred Owen   \n",
       "4         5   40.675249     Honore de Balzac         Wilfred Owen   \n",
       "...     ...         ...                  ...                  ...   \n",
       "8074  13920   51.072087    Lord Peter Wimsey         Snow Country   \n",
       "8075  13921   42.298305    Satires (Juvenal)       Kaddish (poem)   \n",
       "8076  13922   40.570231           Kubla Khan       Kaddish (poem)   \n",
       "8077  13923   37.679422               Asgard       Kaddish (poem)   \n",
       "8078  13924   15.885859       Kaddish (poem)       Kaddish (poem)   \n",
       "\n",
       "                                                   text  category  \\\n",
       "0     First performed in Ludlow Castle by the childr...         0   \n",
       "1     First performed in Ludlow Castle by the childr...         0   \n",
       "2     First performed in Ludlow Castle by the childr...         0   \n",
       "3     This author is convinced by another to publish...         0   \n",
       "4     This author is convinced by another to publish...         0   \n",
       "...                                                 ...       ...   \n",
       "8074  The author of this work later released a short...         0   \n",
       "8075  The subject of this poem finds refuge from Tro...         0   \n",
       "8076  The subject of this poem finds refuge from Tro...         0   \n",
       "8077  The subject of this poem finds refuge from Tro...         0   \n",
       "8078  The subject of this poem finds refuge from Tro...         0   \n",
       "\n",
       "      tournaments  answer_type  inlinks  paren_match  obs_len  inlinks_log  \\\n",
       "0               2            8       63            2      352     5.977280   \n",
       "1               2            0        6            1      352     2.584963   \n",
       "2               2            0        7            0      352     2.807355   \n",
       "3              67            6       23            0      327     4.523562   \n",
       "4              67            0        1            0      327     0.000000   \n",
       "...           ...          ...      ...          ...      ...          ...   \n",
       "8074           68            8        4            0      461     2.000000   \n",
       "8075           68            0       19            0      347     4.247928   \n",
       "8076           68            0        9            0      347     3.169925   \n",
       "8077           68            1       10            0      347     3.321928   \n",
       "8078           68            0       15            1      347     3.906891   \n",
       "\n",
       "      inlinks_scaled  corr_False  corr_True  \n",
       "0           0.388181           0          1  \n",
       "1           0.167875           1          0  \n",
       "2           0.182317           1          0  \n",
       "3           0.293773           1          0  \n",
       "4           0.000000           1          0  \n",
       "...              ...         ...        ...  \n",
       "8074        0.129886           1          0  \n",
       "8075        0.275872           1          0  \n",
       "8076        0.205864           1          0  \n",
       "8077        0.215735           1          0  \n",
       "8078        0.253724           0          1  \n",
       "\n",
       "[8079 rows x 15 columns]"
      ]
     },
     "execution_count": 28,
     "metadata": {},
     "output_type": "execute_result"
    }
   ],
   "source": [
    "train_after['category'] = cat_label.transform(train_after['category'])\n",
    "train_after['tournaments'] = tour_label.transform(train_after['tournaments'])\n",
    "train_after['answer_type'] = aws_label.transform(train_after['answer_type'])\n",
    "train_after = pd.get_dummies(train_after, columns = ['corr'])\n",
    "\n",
    "train_after"
   ]
  },
  {
   "cell_type": "code",
   "execution_count": 29,
   "metadata": {},
   "outputs": [
    {
     "data": {
      "image/png": "[encoded data removed]",
      "text/plain": [
       "<Figure size 1200x1000 with 2 Axes>"
      ]
     },
     "metadata": {},
     "output_type": "display_data"
    }
   ],
   "source": [
    "df_corr = train_after[   ['body_score','inlinks','obs_len','inlinks_scaled','paren_match','category','tournaments','answer_type','corr_True']  ].corr()\n",
    "mask = np.zeros_like(df_corr)\n",
    "mask[np.triu_indices_from(mask)] = True\n",
    "with sns.axes_style(\"white\"):\n",
    "    f, ax = plt.subplots(figsize=(12, 10))\n",
    "    ax = sns.heatmap(df_corr, mask=mask, vmax=1, vmin=-1, linewidths=.5, square=True, cmap='coolwarm', annot=True)\n",
    "    plt.title('Correlation Heatmap of factors', fontsize = 15)\n",
    "    plt.yticks(rotation=0)\n",
    "    plt.tight_layout()"
   ]
  },
  {
   "cell_type": "code",
   "execution_count": 30,
   "metadata": {},
   "outputs": [
    {
     "data": {
      "text/html": [
       "<div>\n",
       "<style scoped>\n",
       "    .dataframe tbody tr th:only-of-type {\n",
       "        vertical-align: middle;\n",
       "    }\n",
       "\n",
       "    .dataframe tbody tr th {\n",
       "        vertical-align: top;\n",
       "    }\n",
       "\n",
       "    .dataframe thead th {\n",
       "        text-align: right;\n",
       "    }\n",
       "</style>\n",
       "<table border=\"1\" class=\"dataframe\">\n",
       "  <thead>\n",
       "    <tr style=\"text-align: right;\">\n",
       "      <th></th>\n",
       "      <th>body_score</th>\n",
       "      <th>inlinks_scaled</th>\n",
       "      <th>answer_type</th>\n",
       "      <th>paren_match</th>\n",
       "      <th>obs_len</th>\n",
       "      <th>tournaments</th>\n",
       "    </tr>\n",
       "  </thead>\n",
       "  <tbody>\n",
       "    <tr>\n",
       "      <th>0</th>\n",
       "      <td>127.398036</td>\n",
       "      <td>0.388181</td>\n",
       "      <td>8</td>\n",
       "      <td>2</td>\n",
       "      <td>352</td>\n",
       "      <td>2</td>\n",
       "    </tr>\n",
       "    <tr>\n",
       "      <th>1</th>\n",
       "      <td>50.212336</td>\n",
       "      <td>0.167875</td>\n",
       "      <td>0</td>\n",
       "      <td>1</td>\n",
       "      <td>352</td>\n",
       "      <td>2</td>\n",
       "    </tr>\n",
       "    <tr>\n",
       "      <th>2</th>\n",
       "      <td>44.767071</td>\n",
       "      <td>0.182317</td>\n",
       "      <td>0</td>\n",
       "      <td>0</td>\n",
       "      <td>352</td>\n",
       "      <td>2</td>\n",
       "    </tr>\n",
       "    <tr>\n",
       "      <th>3</th>\n",
       "      <td>44.058274</td>\n",
       "      <td>0.293773</td>\n",
       "      <td>6</td>\n",
       "      <td>0</td>\n",
       "      <td>327</td>\n",
       "      <td>67</td>\n",
       "    </tr>\n",
       "    <tr>\n",
       "      <th>4</th>\n",
       "      <td>40.675249</td>\n",
       "      <td>0.000000</td>\n",
       "      <td>0</td>\n",
       "      <td>0</td>\n",
       "      <td>327</td>\n",
       "      <td>67</td>\n",
       "    </tr>\n",
       "    <tr>\n",
       "      <th>...</th>\n",
       "      <td>...</td>\n",
       "      <td>...</td>\n",
       "      <td>...</td>\n",
       "      <td>...</td>\n",
       "      <td>...</td>\n",
       "      <td>...</td>\n",
       "    </tr>\n",
       "    <tr>\n",
       "      <th>8074</th>\n",
       "      <td>51.072087</td>\n",
       "      <td>0.129886</td>\n",
       "      <td>8</td>\n",
       "      <td>0</td>\n",
       "      <td>461</td>\n",
       "      <td>68</td>\n",
       "    </tr>\n",
       "    <tr>\n",
       "      <th>8075</th>\n",
       "      <td>42.298305</td>\n",
       "      <td>0.275872</td>\n",
       "      <td>0</td>\n",
       "      <td>0</td>\n",
       "      <td>347</td>\n",
       "      <td>68</td>\n",
       "    </tr>\n",
       "    <tr>\n",
       "      <th>8076</th>\n",
       "      <td>40.570231</td>\n",
       "      <td>0.205864</td>\n",
       "      <td>0</td>\n",
       "      <td>0</td>\n",
       "      <td>347</td>\n",
       "      <td>68</td>\n",
       "    </tr>\n",
       "    <tr>\n",
       "      <th>8077</th>\n",
       "      <td>37.679422</td>\n",
       "      <td>0.215735</td>\n",
       "      <td>1</td>\n",
       "      <td>0</td>\n",
       "      <td>347</td>\n",
       "      <td>68</td>\n",
       "    </tr>\n",
       "    <tr>\n",
       "      <th>8078</th>\n",
       "      <td>15.885859</td>\n",
       "      <td>0.253724</td>\n",
       "      <td>0</td>\n",
       "      <td>1</td>\n",
       "      <td>347</td>\n",
       "      <td>68</td>\n",
       "    </tr>\n",
       "  </tbody>\n",
       "</table>\n",
       "<p>8079 rows × 6 columns</p>\n",
       "</div>"
      ],
      "text/plain": [
       "      body_score  inlinks_scaled  answer_type  paren_match  obs_len  \\\n",
       "0     127.398036        0.388181            8            2      352   \n",
       "1      50.212336        0.167875            0            1      352   \n",
       "2      44.767071        0.182317            0            0      352   \n",
       "3      44.058274        0.293773            6            0      327   \n",
       "4      40.675249        0.000000            0            0      327   \n",
       "...          ...             ...          ...          ...      ...   \n",
       "8074   51.072087        0.129886            8            0      461   \n",
       "8075   42.298305        0.275872            0            0      347   \n",
       "8076   40.570231        0.205864            0            0      347   \n",
       "8077   37.679422        0.215735            1            0      347   \n",
       "8078   15.885859        0.253724            0            1      347   \n",
       "\n",
       "      tournaments  \n",
       "0               2  \n",
       "1               2  \n",
       "2               2  \n",
       "3              67  \n",
       "4              67  \n",
       "...           ...  \n",
       "8074           68  \n",
       "8075           68  \n",
       "8076           68  \n",
       "8077           68  \n",
       "8078           68  \n",
       "\n",
       "[8079 rows x 6 columns]"
      ]
     },
     "execution_count": 30,
     "metadata": {},
     "output_type": "execute_result"
    }
   ],
   "source": [
    "features_after = pd.DataFrame(train_after, columns=['body_score', 'inlinks_scaled','answer_type','paren_match','obs_len','tournaments'])\n",
    "y_after = train['corr_True']\n",
    "#x = train.drop(['corr_True'], axis=1)\n",
    "x_after = features_after\n",
    "x_after\n"
   ]
  },
  {
   "cell_type": "markdown",
   "metadata": {},
   "source": [
    "we can see from the matrix, the columns 'body_score', 'inlinks_scaled','obs_len' are more realted to the answer, so I tried to add it to the train_x."
   ]
  },
  {
   "cell_type": "code",
   "execution_count": 31,
   "metadata": {},
   "outputs": [
    {
     "name": "stdout",
     "output_type": "stream",
     "text": [
      "(6463, 6) (1616, 6) (6463,) (1616,)\n"
     ]
    }
   ],
   "source": [
    "train_x_after, test_x_after, train_y_after, test_y_after = train_test_split(x_after, y_after, test_size=0.2,random_state=1)\n",
    "print(train_x_after.shape, test_x_after.shape, train_y_after.shape, test_y_after.shape)"
   ]
  },
  {
   "cell_type": "markdown",
   "metadata": {},
   "source": [
    "From the past, the best model is SVC(kernel='linear')."
   ]
  },
  {
   "cell_type": "code",
   "execution_count": 32,
   "metadata": {},
   "outputs": [],
   "source": [
    "from sklearn.linear_model import LogisticRegression\n",
    "from sklearn.svm import SVC\n",
    "from sklearn import tree\n",
    "from sklearn.metrics import plot_confusion_matrix\n",
    "models=[LogisticRegression(),SVC(kernel=\"linear\"),SVC(kernel=\"poly\"),SVC(kernel=\"rbf\"),SVC(kernel=\"sigmoid\"),tree.DecisionTreeClassifier()]\n",
    "result_after={}\n",
    "best_model=None\n",
    "best_score=0\n",
    "\n",
    "\n"
   ]
  },
  {
   "cell_type": "code",
   "execution_count": 33,
   "metadata": {},
   "outputs": [
    {
     "name": "stdout",
     "output_type": "stream",
     "text": [
      "model= LogisticRegression() acc= 0.719059405940594\n"
     ]
    }
   ],
   "source": [
    "for x in models:\n",
    "    x.fit(train_x_after, train_y_after)\n",
    "    pred_after=x.predict(test_x_after)\n",
    "    acc=accuracy_score(test_y_after, pred_after  )\n",
    "    if acc>best_score: \n",
    "        best_score=acc\n",
    "        best_model=x\n",
    "    result_after[x]=acc\n",
    "    print('model=',x,'acc=',acc)\n",
    "    "
   ]
  },
  {
   "cell_type": "markdown",
   "metadata": {},
   "source": [
    "3.a. Create a plot that explains why this information is useful for making predictions (e.g. create a facet graph showing the distribution for correct and incorrect). Turn this in as “plot.pdf”."
   ]
  },
  {
   "cell_type": "code",
   "execution_count": null,
   "metadata": {},
   "outputs": [],
   "source": [
    "result_after=sorted(result_after.items(), key=lambda item: item[1],reverse=True)\n",
    "result_after\n"
   ]
  },
  {
   "cell_type": "markdown",
   "metadata": {},
   "source": [
    "We can compare with the model we got at first."
   ]
  },
  {
   "cell_type": "code",
   "execution_count": null,
   "metadata": {},
   "outputs": [],
   "source": [
    "print(  results_train.iloc[0] )\n"
   ]
  },
  {
   "cell_type": "code",
   "execution_count": null,
   "metadata": {},
   "outputs": [],
   "source": [
    "print('best accuracy',best_score)\n",
    "plot_confusion_matrix(best_model, test_x_after,test_y_after)  \n",
    "plt.show()"
   ]
  },
  {
   "cell_type": "code",
   "execution_count": null,
   "metadata": {},
   "outputs": [],
   "source": [
    "from sklearn import tree\n",
    "# get roc curve\n",
    "max_depths = np.linspace(1, 30, 30, dtype = int,endpoint=True)\n",
    "train_results = []\n",
    "test_results = []\n",
    "for max_depth in max_depths:\n",
    "   dt = tree.DecisionTreeClassifier(max_depth=max_depth)\n",
    "   dt.fit(train_x_after, train_y_after)\n",
    "   train_pred = dt.predict(test_x_after)\n",
    "   false_positive_rate, true_positive_rate, thresholds = roc_curve(test_y_after, train_pred)\n",
    "   roc_auc = auc(false_positive_rate, true_positive_rate)\n",
    "   # Add auc score to previous train results\n",
    "   train_results.append(roc_auc)\n",
    "   y_pred = dt.predict(test_x_after)\n",
    "   false_positive_rate, true_positive_rate, thresholds = roc_curve(test_y_after, y_pred)\n",
    "   roc_auc = auc(false_positive_rate, true_positive_rate)\n",
    "   # Add auc score to previous test results\n",
    "   test_results.append(roc_auc)\n",
    "from matplotlib.legend_handler import HandlerLine2D\n",
    "line1= plt.plot(max_depths, train_results, \"b\", label=\"Train AUC\")\n",
    "line2= plt.plot(max_depths, test_results, \"r\", label=\"Test AUC\")\n",
    "\n",
    "plt.ylabel(\"AUC score\")\n",
    "plt.xlabel(\"Tree depth\")\n",
    "plt.show()"
   ]
  },
  {
   "cell_type": "code",
   "execution_count": null,
   "metadata": {},
   "outputs": [],
   "source": [
    "best_model= tree.DecisionTreeClassifier(max_depth=10)\n",
    "best_model.fit(train_x_after, train_y_after)\n",
    "pred_after=best_model.predict(test_x_after)\n"
   ]
  },
  {
   "cell_type": "code",
   "execution_count": null,
   "metadata": {},
   "outputs": [],
   "source": [
    "acc=accuracy_score(test_y_after, pred_after  )\n",
    "acc"
   ]
  },
  {
   "cell_type": "markdown",
   "metadata": {},
   "source": [
    "3.b. How much does this feature improve your classification?"
   ]
  },
  {
   "cell_type": "markdown",
   "metadata": {},
   "source": [
    "We got an imporve from 70 to 80."
   ]
  },
  {
   "cell_type": "markdown",
   "metadata": {},
   "source": [
    "4.Challenge: Build a classifier that best predicts correct answers in this dataset. Upload your predictions to Kaggle. (note that you must use your UMD e-mail to get access to this competition). If your UMD username is JSMITH, use JSMITH_DID as your username on Kaggle. You are welcome to use any additional data you care to use\n",
    "so long as they are not from quiz bowl questions."
   ]
  },
  {
   "cell_type": "code",
   "execution_count": null,
   "metadata": {},
   "outputs": [],
   "source": [
    "def paren_match_after(row):\n",
    "    page = row['page']\n",
    "    text = row['text']\n",
    "    page = re.sub('[\\(|.|\\)|,|\"|\\t]', '', page)\n",
    "    page = page.split(' ')\n",
    "    page = [x.lower() for x in page]\n",
    "    text = re.sub('[\\(|.|\\)|,|\"|\\t]', ' ', text)\n",
    "    text = text.split(' ')\n",
    "    text = [x.lower() for x in text]\n",
    "    count = 0\n",
    "    for item in page:\n",
    "        if item in text and item not in [' ', 'at', 'a', 'of', 'the', 'on','by','for','from','under','without','in','without','within','an','it','is','are','for']:\n",
    "            count += 1\n",
    "    return count"
   ]
  },
  {
   "cell_type": "code",
   "execution_count": null,
   "metadata": {},
   "outputs": [],
   "source": [
    "test = pd.read_csv(\"./data/qb.test.csv\")\n",
    "test.head()\n",
    "\n",
    "# train_after"
   ]
  },
  {
   "cell_type": "code",
   "execution_count": null,
   "metadata": {},
   "outputs": [],
   "source": [
    "test['paren_match'] = test.apply(paren_match_after, axis=1)\n",
    "test['obs_len'] = test['text'].apply(len)\n",
    "scaler = MinMaxScaler()\n",
    "test['inlinks'] += 1\n",
    "test['inlinks_log'] = np.log2(test['inlinks']) \n",
    "test[['inlinks_scaled']]  = scaler.fit_transform(test[['inlinks_log']])"
   ]
  },
  {
   "cell_type": "code",
   "execution_count": null,
   "metadata": {},
   "outputs": [],
   "source": [
    "\n",
    "# Assigning numerical values and storing in another column\n",
    "test['category'] = cat_label.transform(test['category'])\n",
    "test['tournaments'] = tour_label.transform(test['tournaments'])\n",
    "test['answer_type'] = aws_label.transform(test['answer_type'])\n",
    "\n",
    "test"
   ]
  },
  {
   "cell_type": "code",
   "execution_count": null,
   "metadata": {},
   "outputs": [],
   "source": [
    "features_after = pd.DataFrame(test, columns=['body_score', 'inlinks_scaled','answer_type','paren_match','obs_len','tournaments'])\n",
    "#x = train.drop(['corr_True'], axis=1)\n",
    "test_x = features_after\n",
    "test_x\n"
   ]
  },
  {
   "cell_type": "code",
   "execution_count": null,
   "metadata": {},
   "outputs": [],
   "source": [
    "pre=best_model.predict(test_x)\n",
    "pre = pre.astype(dtype=bool)\n",
    "pre\n",
    "    "
   ]
  },
  {
   "cell_type": "code",
   "execution_count": null,
   "metadata": {},
   "outputs": [],
   "source": [
    "output = pd.DataFrame({\n",
    "                        \"row\":test['row'],\n",
    "                        \"corr\": pre\n",
    "                        })\n",
    "output.to_csv('submission'+str(best_model)+'.csv', index=False, header = 1)\n",
    "print(\"Your submission for \",str(best_model),\"was successfully saved!\")"
   ]
  },
  {
   "cell_type": "code",
   "execution_count": null,
   "metadata": {},
   "outputs": [],
   "source": [
    "pre.astype(bool)  "
   ]
  },
  {
   "cell_type": "markdown",
   "metadata": {},
   "source": [
    "4.a. Provide your final score and username"
   ]
  },
  {
   "cell_type": "markdown",
   "metadata": {},
   "source": [
    "User Name:KCHOU1_DID\n",
    "Score:0.78064"
   ]
  },
  {
   "cell_type": "markdown",
   "metadata": {},
   "source": [
    "4.b. Create an error analysis of your final classifier. Turn this in as “error.pdf”. An error analysis must contain real examples of your data, not just an error\n",
    "matrix."
   ]
  },
  {
   "cell_type": "markdown",
   "metadata": {},
   "source": [
    "A good error analysis must contain examples from the development set that you get wrong. You should show those sentences and explain why (in terms of features or the model) they have the wrong answer.\n",
    "You should have been doing this all along as your derive new features (e.g., 2b), but this is your final inspection of your errors. The feature or model problems you discover should not be trivial features you could add easily. Instead, these should be features or models that are difficult to correct.\n",
    "An error analysis is not the same thing as simply presenting the error matrix, as it\n",
    "does not inspect any individual examples."
   ]
  },
  {
   "cell_type": "markdown",
   "metadata": {},
   "source": [
    "use XOR to get the ones that got predicted incorrectly."
   ]
  },
  {
   "cell_type": "code",
   "execution_count": null,
   "metadata": {},
   "outputs": [],
   "source": [
    "pred_y=best_model.predict(test_x_after)\n",
    "xor_mask=np.logical_xor(pred_y,test_y_after).reset_index()\n",
    "xor_mask=xor_mask['corr_True']\n"
   ]
  },
  {
   "cell_type": "code",
   "execution_count": null,
   "metadata": {},
   "outputs": [],
   "source": [
    "xor_mask=list(xor_mask)\n",
    "xor_mask"
   ]
  },
  {
   "cell_type": "code",
   "execution_count": null,
   "metadata": {},
   "outputs": [],
   "source": [
    "from collections import Counter\n",
    "Counter(xor_mask)"
   ]
  },
  {
   "cell_type": "code",
   "execution_count": null,
   "metadata": {},
   "outputs": [],
   "source": [
    "pd.DataFrame(pred_y).loc[xor_mask].head()"
   ]
  },
  {
   "cell_type": "code",
   "execution_count": null,
   "metadata": {},
   "outputs": [],
   "source": [
    "test_x_after"
   ]
  },
  {
   "cell_type": "code",
   "execution_count": null,
   "metadata": {},
   "outputs": [],
   "source": [
    "p=best_model.predict(test_x_after)\n",
    "p=p[xor_mask]\n",
    "aws=test_y_after[xor_mask]\n",
    "aws"
   ]
  },
  {
   "cell_type": "code",
   "execution_count": null,
   "metadata": {},
   "outputs": [],
   "source": [
    "error=test_x_after.loc[xor_mask]\n",
    "error['aws']=aws\n",
    "error['predicted_val']=p\n",
    "error"
   ]
  },
  {
   "cell_type": "code",
   "execution_count": null,
   "metadata": {},
   "outputs": [],
   "source": [
    "data=test_x_after.groupby('answer_type').count().reset_index()\n",
    "def get_count(x):\n",
    "    return int(data.loc[data['answer_type'] == x]['body_score'])"
   ]
  },
  {
   "cell_type": "code",
   "execution_count": null,
   "metadata": {},
   "outputs": [],
   "source": [
    "error_c=error.groupby('answer_type').count().reset_index()\n",
    "error_c=error_c[['answer_type','body_score']]\n",
    "error_c=error_c.rename(columns={\"body_score\": 'count'})\n",
    "error_c=error_c.sort_values(by=['count'],ascending=False)\n",
    "error_c['answer_type_by_catagory']=aws_label.inverse_transform(error_c['answer_type'])\n",
    "error_c['all_count']=error_c['answer_type'].apply(get_count)\n",
    "error_c['error_percentage']=error_c['count']/error_c['all_count']\n",
    "error_c=error_c.sort_values(by=['error_percentage'],ascending=False)\n",
    "error_c\n",
    "\n"
   ]
  },
  {
   "cell_type": "code",
   "execution_count": null,
   "metadata": {},
   "outputs": [],
   "source": [
    "test_x_after.iloc[1,2]"
   ]
  }
 ],
 "metadata": {
  "kernelspec": {
   "display_name": "Python 3.10.7 64-bit",
   "language": "python",
   "name": "python3"
  },
  "language_info": {
   "codemirror_mode": {
    "name": "ipython",
    "version": 3
   },
   "file_extension": ".py",
   "mimetype": "text/x-python",
   "name": "python",
   "nbconvert_exporter": "python",
   "pygments_lexer": "ipython3",
   "version": "3.10.7"
  },
  "orig_nbformat": 4,
  "vscode": {
   "interpreter": {
    "hash": "388318057a6985dd14d201d2125d9f550473fb527a85ea7772000effc66b06ec"
   }
  }
 },
 "nbformat": 4,
 "nbformat_minor": 2
}
